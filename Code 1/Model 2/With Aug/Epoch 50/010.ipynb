{
  "nbformat": 4,
  "nbformat_minor": 0,
  "metadata": {
    "accelerator": "GPU",
    "colab": {
      "name": "Coba4.ipynb",
      "provenance": [],
       "collapsed_sections": [],
      "include_colab_link": true
    },
    "kernelspec": {
      "display_name": "Python 3",
      "name": "python3"
    },
    "language_info": {
      "name": "python"
    }
  },
  "cells": [
    {
      "cell_type": "markdown",
      "metadata": {
        "id": "view-in-github",
        "colab_type": "text"
      },
      "source": [
        "<a href=\"https://colab.research.google.com/github/rizqyjoe/FER2013_VGG16BaseModel/blob/main/Code%201/Model%202/With%20Aug/Epoch%2050/010.ipynb\" target=\"_parent\"><img src=\"https://colab.research.google.com/assets/colab-badge.svg\" alt=\"Open In Colab\"/></a>"
      ]
    },
    {
      "cell_type": "code",
      "metadata": {
        "colab": {
          "base_uri": "https://localhost:8080/"
        },
        "id": "sX-0w3h_sh6U",
        "outputId": "6e83ff03-92d4-419f-c550-ad79fea5605f"
      },
      "source": [
        "#mount drive\n",
        "from google.colab import drive\n",
        "drive.mount('/content/drive')"
      ],
      "execution_count": 1,
      "outputs": [
        {
          "output_type": "stream",
          "text": [
            "Mounted at /content/drive\n"
          ],
          "name": "stdout"
        }
      ]
    },
    {
      "cell_type": "markdown",
      "metadata": {
        "id": "58jrp8yObBBA"
      },
      "source": [
        "# Pre-processing"
      ]
    },
    {
      "cell_type": "code",
      "metadata": {
        "id": "7nrYTmGLrD2A"
      },
      "source": [
        "import tensorflow as tf\n",
        "import keras\n",
        "from keras import backend as K\n",
        "import pandas as pd\n",
        "import numpy as np\n",
        "import matplotlib.pyplot as plt\n",
        "from keras.preprocessing import image\n",
        "from keras.preprocessing.image import ImageDataGenerator\n",
        "from keras import regularizers\n",
        "from keras.utils import np_utils\n",
        "\n",
        "import random\n",
        "\n",
        "tf.random.set_seed(1234)\n",
        "np.random.seed(1234)\n",
        "\n",
        "from keras.initializers import glorot_uniform"
      ],
      "execution_count": 1,
      "outputs": []
    },
    {
      "cell_type": "code",
      "metadata": {
        "colab": {
          "base_uri": "https://localhost:8080/",
          "height": 204
        },
        "id": "0vTjzHIRrW53",
        "outputId": "1d7d3e2d-2e5d-4edf-b2a0-e04f848ffb1a"
      },
      "source": [
        "#load file\n",
        "data= pd.read_csv('/content/drive/MyDrive/dataset/fer2013 dataset/fer2013/fer2013.csv')\n",
        "data.head()"
      ],
      "execution_count": 2,
      "outputs": [
        {
          "output_type": "execute_result",
          "data": {
            "text/html": [
              "<div>\n",
              "<style scoped>\n",
              "    .dataframe tbody tr th:only-of-type {\n",
              "        vertical-align: middle;\n",
              "    }\n",
              "\n",
              "    .dataframe tbody tr th {\n",
              "        vertical-align: top;\n",
              "    }\n",
              "\n",
              "    .dataframe thead th {\n",
              "        text-align: right;\n",
              "    }\n",
              "</style>\n",
              "<table border=\"1\" class=\"dataframe\">\n",
              "  <thead>\n",
              "    <tr style=\"text-align: right;\">\n",
              "      <th></th>\n",
              "      <th>emotion</th>\n",
              "      <th>pixels</th>\n",
              "      <th>Usage</th>\n",
              "    </tr>\n",
              "  </thead>\n",
              "  <tbody>\n",
              "    <tr>\n",
              "      <th>0</th>\n",
              "      <td>0</td>\n",
              "      <td>70 80 82 72 58 58 60 63 54 58 60 48 89 115 121...</td>\n",
              "      <td>Training</td>\n",
              "    </tr>\n",
              "    <tr>\n",
              "      <th>1</th>\n",
              "      <td>0</td>\n",
              "      <td>151 150 147 155 148 133 111 140 170 174 182 15...</td>\n",
              "      <td>Training</td>\n",
              "    </tr>\n",
              "    <tr>\n",
              "      <th>2</th>\n",
              "      <td>2</td>\n",
              "      <td>231 212 156 164 174 138 161 173 182 200 106 38...</td>\n",
              "      <td>Training</td>\n",
              "    </tr>\n",
              "    <tr>\n",
              "      <th>3</th>\n",
              "      <td>4</td>\n",
              "      <td>24 32 36 30 32 23 19 20 30 41 21 22 32 34 21 1...</td>\n",
              "      <td>Training</td>\n",
              "    </tr>\n",
              "    <tr>\n",
              "      <th>4</th>\n",
              "      <td>6</td>\n",
              "      <td>4 0 0 0 0 0 0 0 0 0 0 0 3 15 23 28 48 50 58 84...</td>\n",
              "      <td>Training</td>\n",
              "    </tr>\n",
              "  </tbody>\n",
              "</table>\n",
              "</div>"
            ],
            "text/plain": [
              "   emotion                                             pixels     Usage\n",
              "0        0  70 80 82 72 58 58 60 63 54 58 60 48 89 115 121...  Training\n",
              "1        0  151 150 147 155 148 133 111 140 170 174 182 15...  Training\n",
              "2        2  231 212 156 164 174 138 161 173 182 200 106 38...  Training\n",
              "3        4  24 32 36 30 32 23 19 20 30 41 21 22 32 34 21 1...  Training\n",
              "4        6  4 0 0 0 0 0 0 0 0 0 0 0 3 15 23 28 48 50 58 84...  Training"
            ]
          },
          "metadata": {
            "tags": []
          },
          "execution_count": 2
        }
      ]
    },
    {
      "cell_type": "code",
      "metadata": {
        "colab": {
          "base_uri": "https://localhost:8080/"
        },
        "id": "NU40Z0ynrau2",
        "outputId": "b7a763c2-0460-485b-8f5f-0a14653afdfc"
      },
      "source": [
        "data.emotion.value_counts()"
      ],
      "execution_count": 3,
      "outputs": [
        {
          "output_type": "execute_result",
          "data": {
            "text/plain": [
              "3    8989\n",
              "6    6198\n",
              "4    6077\n",
              "2    5121\n",
              "0    4953\n",
              "5    4002\n",
              "1     547\n",
              "Name: emotion, dtype: int64"
            ]
          },
          "metadata": {
            "tags": []
          },
          "execution_count": 3
        }
      ]
    },
    {
      "cell_type": "code",
      "metadata": {
        "id": "IeBaq6_7rdMu"
      },
      "source": [
        "emotion_labels = [\"Angry\", \"Disgust\", \"Fear\", \"Happy\", \"Sad\", \"Surprise\", \"Neutral\"]\n",
        "labels=np.array((\"Angry\", \"Disgust\", \"Fear\", \"Happy\", \"Sad\", \"Surprise\", \"Neutral\"))"
      ],
      "execution_count": 4,
      "outputs": []
    },
    {
      "cell_type": "code",
      "metadata": {
        "colab": {
          "base_uri": "https://localhost:8080/"
        },
        "id": "8MQKKFDare4e",
        "outputId": "a1db4ad3-1833-4419-f9d3-98a16f6c6529"
      },
      "source": [
        "data.Usage.value_counts()"
      ],
      "execution_count": 5,
      "outputs": [
        {
          "output_type": "execute_result",
          "data": {
            "text/plain": [
              "Training       28709\n",
              "PublicTest      3589\n",
              "PrivateTest     3589\n",
              "Name: Usage, dtype: int64"
            ]
          },
          "metadata": {
            "tags": []
          },
          "execution_count": 5
        }
      ]
    },
    {
      "cell_type": "code",
      "metadata": {
        "id": "RQlblEnwrgkW"
      },
      "source": [
        "#split data \n",
        "train_set = data[(data.Usage == 'Training')] \n",
        "val_set = data[(data.Usage == 'PublicTest')]\n",
        "test_set = data[(data.Usage == 'PrivateTest')] \n",
        "X_train = np.array(list(map(str.split, train_set.pixels)), np.float32) \n",
        "X_val = np.array(list(map(str.split, val_set.pixels)), np.float32) \n",
        "X_test = np.array(list(map(str.split, test_set.pixels)), np.float32) \n",
        "X_train = X_train.reshape(X_train.shape[0], 48, 48, 1) \n",
        "X_val = X_val.reshape(X_val.shape[0], 48, 48, 1)\n",
        "X_test = X_test.reshape(X_test.shape[0], 48, 48, 1)"
      ],
      "execution_count": 6,
      "outputs": []
    },
    {
      "cell_type": "code",
      "metadata": {
        "id": "MVqY8ftoriHW"
      },
      "source": [
        "num_classes = 7\n",
        "\n",
        "y_train = train_set.emotion \n",
        "y_train = np_utils.to_categorical(y_train, num_classes) \n",
        "y_val = val_set.emotion \n",
        "y_val = np_utils.to_categorical(y_val, num_classes) \n",
        "y_test = test_set.emotion \n",
        "y_test = np_utils.to_categorical(y_test, num_classes)"
      ],
      "execution_count": 7,
      "outputs": []
    },
    {
      "cell_type": "code",
      "metadata": {
        "colab": {
          "base_uri": "https://localhost:8080/"
        },
        "id": "WaMwvF5vrju-",
        "outputId": "f50fb6d6-59ef-4e30-fe61-5f0cb2d97218"
      },
      "source": [
        "print(\"x_train:\",X_train.shape)\n",
        "print(\"y_train:\",y_train.shape)\n",
        "print(\"x_val:\",X_val.shape)\n",
        "print(\"y_val:\",y_val.shape)\n",
        "print(\"x_test:\",X_test.shape)\n",
        "print(\"y_test:\",y_test.shape)"
      ],
      "execution_count": 8,
      "outputs": [
        {
          "output_type": "stream",
          "text": [
            "x_train: (28709, 48, 48, 1)\n",
            "y_train: (28709, 7)\n",
            "x_val: (3589, 48, 48, 1)\n",
            "y_val: (3589, 7)\n",
            "x_test: (3589, 48, 48, 1)\n",
            "y_test: (3589, 7)\n"
          ],
          "name": "stdout"
        }
      ]
    },
    {
      "cell_type": "code",
      "metadata": {
        "id": "DzChH8hGrldw"
      },
      "source": [
        "#data augmentation\n",
        "datagen = ImageDataGenerator(rescale=1./255,\n",
        "                             rotation_range = 10,\n",
        "                             horizontal_flip = True,\n",
        "                             width_shift_range=0.1,\n",
        "                             height_shift_range=0.1)\n",
        "\n",
        "#datagen = ImageDataGenerator(rescale=1./255)\n",
        "\n",
        "testgen = ImageDataGenerator(rescale=1./255)\n",
        "\n",
        "datagen.fit(X_train)\n",
        "batch_size = 64"
      ],
      "execution_count": 9,
      "outputs": []
    },
    {
      "cell_type": "code",
      "metadata": {
        "id": "d-nkOZUfrm_e"
      },
      "source": [
        "train_flow = datagen.flow(X_train, y_train, batch_size=batch_size) \n",
        "val_flow = testgen.flow(X_val, y_val, batch_size=batch_size) \n",
        "test_flow = testgen.flow(X_test, y_test, batch_size=batch_size)"
      ],
      "execution_count": 10,
      "outputs": []
    },
    {
      "cell_type": "code",
      "metadata": {
        "id": "3u6vR_8CroMG"
      },
      "source": [
        "from tensorflow.keras.utils import plot_model\n",
        "from matplotlib import pyplot"
      ],
      "execution_count": 11,
      "outputs": []
    },
    {
      "cell_type": "code",
      "metadata": {
        "colab": {
          "base_uri": "https://localhost:8080/",
          "height": 248
        },
        "id": "HZ6sB7a0rp0O",
        "outputId": "05dd2c55-a719-424f-ce70-5cc11da20bee"
      },
      "source": [
        "#displaying sample images\n",
        "for X_batch, y_batch in datagen.flow(X_train, y_train, batch_size=9):\n",
        "    for i in range(0, 9): \n",
        "        pyplot.axis('off') \n",
        "        pyplot.subplot(330 + 1 + i) \n",
        "        pyplot.imshow(X_batch[i].reshape(48, 48), cmap=pyplot.get_cmap('gray'))\n",
        "    pyplot.axis('off') \n",
        "    pyplot.show() \n",
        "    break"
      ],
      "execution_count": 12,
      "outputs": [
        {
          "output_type": "display_data",
          "data": {
            "image/png": "iVBORw0KGgoAAAANSUhEUgAAAToAAADnCAYAAACOlZoZAAAABHNCSVQICAgIfAhkiAAAAAlwSFlzAAALEgAACxIB0t1+/AAAADh0RVh0U29mdHdhcmUAbWF0cGxvdGxpYiB2ZXJzaW9uMy4yLjIsIGh0dHA6Ly9tYXRwbG90bGliLm9yZy+WH4yJAAAgAElEQVR4nOx92XJjaVb10jzPsizbmS5XZk1JdUHTQRDBBcEj8BY8AJc8ANz9L8ADcMEbcEVHQF80EAFRE12ZNWRllifN8yz9F461vc7nI6Wd3V1NHXtHKGzL0tHRN+xh7bX3F9psNniQB3mQBwmyhP/QN/AgD/IgD/L7lgdF9yAP8iCBlwdF9yAP8iCBlwdF9yAP8iCBlwdF9yAP8iCBl+iuf/7qV7/aAMByucRwOMQ333yDwWCA2WyG+XyO09NTjMdjJBIJ1Ot1fPjhhzg8PESlUkGpVEI6nUYkEkE4HEYoFLrxMxKJeD5PM8CbzQbr9RqbzcZ+n06nGI1GmE6nmM1mGI/HGA6HGAwG6Ha7aLfb6PV66HQ6OD8/x3w+Rz6fRzwex2azwcHBAfb39xGPxzGdTtHtdhGJRBCJRBCLxbBYLJDP55FKpRCPx/E3f/M3od/HoP+h5Z/+6Z82sVgM0WgU0WgUiUQCsVgMy+US/X4fr1+/RiKRwGazQb/fx69+9StMp1OEQiGkUilUq1Wk02nEYjGEQiGs12tEIhGEQiF7hMNhRCIRu348HrffI5GIZ35DoRCi0SjC4TDC4TBisZi9PhwO209eG4CtC64jfW0oFPKspVAohNFohPPzc3z22Wf4+7//+0DOKwD8v//3/zZfffUVut0uQqEQDg4OkEwmsdlsMB6P7XkAWK/XWC6XAK73XiwWs/HkfGWzWaTTaaRSKYRCIcTjccRiMcRiMazXa3usVissl0vTD3wsFgv7uVqtbN5UH/D94/EY0+kU4XAYmUwGf/mXf4m//Mu/xOHhIcLhsN3rNrZIOp32ndudio7CRel+iLuY3Aef/30K78FViuv12vPZ+vu2gfp93+v/FXn58iWo6KhUuGhHoxFKpRJKpZIZibOzMzx//hzj8RjxeNw2RyQS8fwNXI3tYrFAJBKxOeBYU/nFYjF7rS56/i+RSCAajZqRpDHitXg9XWtqUN3XcQOuVqsbxjVowjEAcGOsXFElQ/Hb2wA8r1ED5XdN3f/6vCvuNdw9SkX8u6DA7VR08/kcADwamUpkuVzaQuYi4+P3pTBcJatKjqK/u0KL4L5ON6MukqDKYrHAcrn0zJnOYalUwuHhIUqlErLZLE5OTvDNN99gMpkgkUhgOp0ikUiY9xWNXi8jKpTNZoNIJIL5fG4eNXC9EdwNpoqO3hyVEn9XBabX0esC8HyWrhd6I0EWV9GpvM2+VCfnbe/nLqL3Ti/v967o+v0+QqEQ5vM5+v0+RqORuaOTycQ2Cz0DPrhpeMO3GeC7fBk3xN32f1fpvmnQ/TZLEKVSqZiyWywWmEwm2Gw2SKVS2N/fx6NHj1Cv15HP55FIJPD06VP867/+q8EUDD0XiwU2mw2y2awndB2Px+ZFhcNhxONxxONxj9cNXM3HarXyeP+q8Dhf9OjcNUXF7G7E1Wplr+Pn8JrpdPpHGeM/lOgadyOX2yq6N+2vu8rbKtjlcmkO1W8rOxVdu90GAEynUzSbTbx+/doTcwNAoVBAqVRCtVpFtVpFsVhENps1K68WWENLYjvAteXVhcxNoX+7z/G9xBSoaPk7r69hrIvfUO6TR/fxxx9jsVjYYzabIRqNolgs4p133sHBwQEikQhWqxVarRYajYYpj8lkgmg0ivV6jdlshul0iul0ikwmg2QyiXg8jkQiYeuEYS0VUyqVMk/NhRg4v65BUsWla4TKlEqQ62SxWHiUphrjoCs6YpXA9d5Tr5eybR+o7Nonu8QvfL2NstP38XNU2d3VO1TZqej0w8bjMS4vLzGfzw0oLJVKqFQqKJfLqNVqhumEQiGsVisDqbng1A3mc+6gbAtHVSlq2MIFnEqlbFBWqxVWq5V5nbPZzL7DarXyeJ18fzQaNQX+u8IF/q/K4eGhjdNyucR8PkcikUAul0O1WkU4HMZyucRgMMDLly/x+eefYzgcmgfF902nUw8AnUwmzchFo1FbAwx5E4mEzRFw0+NQRcWFzXWxWq3sbypaALbW+H6GOvQIQ6GQJayGwyEmk8mPPNo/rrieL8f0rkrCxeTd/XDb/XFbb47ryn3fZDLBdDrFfD73QCR39RJvlYzg4hsMBlitVshms8jn86jX6yiVSigWiyiVSh5rrSEJxcXYOAFUem7IoV4g/6chi2ZM4/E4UqmUKbXVaoVoNIrhcGghWrvdRiqVQi6XM3yJSo44Et+7WCzuNJA/Jcnlcp5M2Wq1svGjJzwcDnF+fo7f/OY3+O6778zri8fjHo+M4atm8LLZrAey0EzcYrG4kYygQuL9UNG5IS3nnOKuJXdNcd202230+330+30Mh8MfbZz/EKJJGT/xSxSo7PLidE750y9Uvg1W786d3huvGYvFMBgM0O/3MR6PLev7NqHwrTw6DVNSqRQKhQIeP36Mk5MT5HI5ZDIZZLNZs6JuiMkvr4O4bSAUaNb36/voiS2XS0/mcLVaIZVK2cBFo1EbyOl0irOzM0wmE5RKJdTrdVN43MDr9Rrj8Rjj8RiDweDOg/lTEVJHVOhdM+w7OzvD559/jn/7t3/Dy5cvAcCwtkQi4fHap9OpGROGGbFYzOaSXhxpQX6JBZ0zvl7XDo2aUk2U0qCeBz2+xWKBfr+P8/NzTCYTjMdj9Hq9H328f0zR8QG2e153jVhcaIeQEQCbBz7P7PY2Oojr8PglxJjRbzQaaDQaqNVqKJfLb53o3KnoaP2GwyGGwyE2mw2q1SoeP36Mp0+fGieNlACGp/wC3Aj6xTUGV2ugA8fB0wEGYAudA7VYLMwT4+vn87kH6wmHw0in0ygUCnj16hXa7Ta63S6azSYODg6wt7eHYrGIZDKJ8XiM0WgU+PBmuVx6FmwoFMJsNrOx/vTTT/HLX/4Sn3/+Ob766ivz+ICrjZROpw2iUEiAUMFisTCKCOeYIfJoNLqBtXFzqEGkp8m1ozgs71/XEhUsvcbBYIDBYIBer4fpdIrNZoPZbIZ+v/8HGPEfV9zkDXDNmVOF5Id96950H9yjNHZcB5rYYiTE8eb/OD+cU3ePMixNJpMeXt1iscDl5SX29/dxdHSEZDL5VmOyU9Hxprl4kskkisUiKpWKYTEcACoe1xvjl+Iguq6v+7sCp67LrNk2AB4sjcovmUya9xCLxWzgwuGw4U/j8RidTgepVAq1Ws2UtPKtgiyvXr0yHI3h+2QyQbPZxNdff41f//rX+Pbbb3F5eYnRaOSxtFzQxDkTiQQAeBbyYDCw8ach1M2yXC6NbOyGWu4G5Mbg2olGo4bX8DkmVKbTqXnjNFjj8di+JzPMQZaLiwtMJhOEQiEzNsDVXh4Oh1gsFh4FqEpHnQ3OB5UmcO25zedzRCIRLJdLZDIZm1u+RueQSk4fNGpu5MX55P0QN+90Omg2mxiNRp5sPD/vNrJT0fGC/CLJZBK5XA7ZbNYsupsxc+NsDto2MHMbSOpiAHy9WioyrdfrtXGtlOLC0JZKMJ/P24ZUpUxGNjEmFwsKmnz22WdIJpNIJBJIpVJIpVK4vLzEq1ev8OWXX+L58+fodDpGO+E4KoeSnlY0GkUymfQw5GezGYBrQ8S1QUOyXC6tGkP5cu6a0GuqsdREAz1JgtaTyQTD4dDCaQ1lWU0TZGm32zZf6gEzO66VCa4jwohsW3ioczCfz81j43MKJ+hca+KL+08VHfcnIQ01bAAwGo3MeOp93EV2Kjqm4ufzOZLJJDKZDHK5nJV2KYan3ha/sMbduxITGoL4AZOul8gB4UDrtRlGk9iqmyibzVomOBKJoFqtArjiC5IuE4lEkEwmPRmeoMm//Mu/WFlPPp9HLpfDZ599hlevXqHRaHjC1Gg0agkeGg16UFQ6bqnfYrGwUj3icrwWy+/S6bQpW+JyTGzQWwOuqxrm87lnUwIwD42bgK/ja2KxmK1Z3k+32/3xB/xHlE6ng/V6bfs1Ho+j1+t5FAVF9xvg3Yd+Qm+NDgF5lcRjyVqgZ80E1Gw280AR6rFTTygWq3jrZrPBZDIxDi9wdxIy8AZFRyWRTqdRq9WMVsLMnMb7/KlAM2+cVpuLWON+HWT9knyOi17DJg4eB4DWnNYlHo+jWCyap0bvg2z+RCKBZDKJvb09hEIh2wDL5RKpVMo2YFDlxYsXNwwPxy6dTnvmTb0CKpZYLGabhpgNFVcymcRkMrHFrfNCRUgqC71JGhaGKuv1GqlUyjwxYsRUnAxNqdyocAlVFItFFAoFu26r1bJH0LOuNNDcZ+Px2Mj+DFvVo3PxUvW+/Ur1NAMOwJTZZrPBdDq1uaKXzbXAa6iC4+cwathsrkjren3+XK1WmM1mN3D+W4/Lrn+qBSgWi54Y2WW086e6vgo0A/DE//T61Er4gZ8MT1nQT+9is9lYhpRew2Kx8GA3BC65gbjJeA+sx6Ty44AuFgtkMplbD+JPUfzK5nQRk34Tj8cN91TvCoBHIXI+qJiosIiN6Wbiwue8ZbNZMy6RSMTWHXE8hUcmkwk6nY59FkNnAuTZbBbZbBbhcBjz+RyDwQDNZhPD4dDuO+hCJ4Shunq5gH89qxt1uXQeKindX5otXywWBh1oUb+GqX7Kzs2u0xnhPcTjcVPOSj7Xn7eRW9W6ctG7GVV+mIarvGH9W7+gX2zO69CDo2dHbIG4y2g08hSUM4TioDK04UDR21BvUeswlaTI7BGxurfN7vwUxM8iqjJxKQouSVgxNHLkdMEzWaA8R/X0OU8akioGq2Ew55C0oel06qGPbDYbC7V18ylJnIr3rpSKn6JwP9Jgcz3rvtymIFSBqdFzE0T6N+eS807CvYaobijqKjzOC9cY1586Tfysuyg3lZ2KjqAywxdaRd4cvTBdYBq2Al5iMACrrOB1VdHx9VQ+g8EArVYL/X4fg8HAsnW03pvNxtMKRjU+FRutgrYU4j0SfwKuuGUkJwJvhwP8VMQva6WLiul+KhwaCy5obhw+p9UODDu1BI/XYGbbxdpoeBjS5nI5T5KCmCvDY34uPTs3cTSfz29ghYA3gxhkIT2DWJmbUd32HlVwCjmpsqHBcL06wkmu07FNuSlmR+Hf6oBQzyiG+zbK7lbJiMVigV6vh1arZRaCHhW/FK22anENZVerFYbDoQ24dr1QT47udqPRwOvXrzEcDrFer20T0Hrzcxn+MKOkKWuC5JwQbjRmjdLptIGo/L4sJQtyZQTHnQbIryRLidTsJ8c5c2kDmmigZ0yMThUmALP06sFlMhnk83kUi0Xs7e2hWq16FCuNH/sFlstlPH78GL1eD+fn5x5uHNeFPsi1dHHhIIoqJWJnLslaPTP1oHUeibeyGgHwlthxbrnftPSSr3UxPz6vyk6jRM4375/3rmR2dZp+ZxhdpVIxLIVWnICwuq1+uBytAhWLenn8IuqBMdy4vLxEs9lEo9Ewa634jbLmGdbSXebnq8fI93FDp1Ipj3KjwiYul8vljPAaVFFvlz91/DScAOAxTvTMdMMoMVhf70IU+uB9xGIxKymkN5fJZOw+CJlwvZESQ4VXqVTQ7XbNq1eCKjcYEyKxWAzFYvFHHOkfX1wFw7lwFbxCRWyLxXmkwaJh4zrxw9hoPHS96GupBzT5oa/Tn5xjVcrAdQSi8MNdvbpbYXSRSMRqWQk6At56Vpf0qQPLwXG7VqgHuF6v0W638fr1a7TbbQwGA4TDYcsC0p3lgp7NZhiNRh6wNZlMerJv9Ea06yzDcN6Lkkk5yW8zkD8lccmd+l39uGt8D+eVsIEqI8A7z64113CXwnnKZDKeRyqV8jSFcD9Ly/1SqRTS6bQVftO7p8KjEVyv14jH40YpCqpEIhEPlKNJBcXHXdEElGJzmpBQL4wP92+/6wJeT9MPt/fD7fSn1p8rxnzbfbpT0b18+RLhcBiVSgVPnjxBvV43giY9Mq0n5cBqpkZJgK77Skswn8+tVXuz2TTelVIPqORILej1euh2u54Exf7+PnK5nLVxZ7tvzeKoe87FHw6HDbjl4AY9dFWPjguHhstVdrpBaCw0saAhjLbn4prQxJVCCVR02WwWuVzOvDoqOpcjCcDWAdn5vAaz7vP53LLxxKeAK6Waz+dxeHj4Yw3zH0QSiYRx2BaLhdF0lP2gSsrNeqpi0YjLVS58D2EsNwrg+7g2/F7PaEo9O/caWlpGPJ2v1Z9vkp2K7tNPP0U4HMaTJ0/w8ccf45NPPsE333xjYK9+EBcu4K1m0BshrYCDxgae3W4XP/zwA9rtNuLxOHK5nKWZSSno9/u4uLjA2dkZOp2OKTnSCyqVCiKRCIrFovXG004bq9XKaBI6CbxHTohmZ4Mq7vzoYlRsy2/xctMwueNac3reqiRJLlYvX70GxQLVA3dFMRuSjLmm9P5VWfO7FItF1Ot1PHr06Pc4sn94mc1mpuTooQHXnjoJvfSAaahI/NaSyXg8jlKpZPvRJdHreuHfmtRwIzj3vQBM6fEaGq4SPtL700KFu8itMLp4PI5+v28dZ8lRcr8UlRcAT6aTG0EXL72m0WhkZEYWCWuGloXgl5eX+P7779Hv9zGZTGwi9/f3Ua/XcXR0hL29PZTLZWSzWfssZgx5nXa7baTXeDxuZU7E8+g9BlnRUZRioiGsq6jchaXUj1AodKN/Hy03rbFL+XHxOhc/UkXrp0ypHAF4FBrvh8/RE4hEIqhUKtjf30ehUPj9DOb/ESGxmgqM40EPmXCP4pmcn06nYxEPjclgMEChUEA6nfY4IDrOLsOCykqNGz1KzfxSoXKNEJ/j63n/qVQK2WwW5XL5BhZ8W9mp6HK5HABYdpKhAhny5JrpF3Lj621uqVoDxc7oZVHJdbtddLtdS06okqvVajg+Pka9Xsfe3p5ZJCpYBUKpwOgqM0mh9+ziE0EVnSv+rYpOw1atTXRFuVYa2vJ9mpXXCECNnv50gW5dO+o1uDQI/emG3jSg1WoVpVIp8GdG0JtTA8J9xvDPbVyh88yoxvWas9ksFouF1bmrwlKoigbKNZaK5bn0r1gsZkrODxemN5fL5Tz78nem6MgwZyaMvbw2mw2GwyGy2awHf6Elp2jhPAfTdWfpouZyOXu/tndpNBrodDqYzWZ49OgRXr9+jcVigVwuhz/+4z/Gu+++i2w26wG71fVWHtBmszHKTD6fx2QyMVyCuKBOSlBFE0hcbPpQD4B8ONdI8aeOueKbDKGYoVdxP0/XCKtb1DNwQ2l9HzclH4odEs87PDxEvV6/4REEUajEFB/juDJZA1xHOpq04f/ViBBeGgwGmEwm5t0RZiBUwXHXRIhfbauKYoQUP+VF0jgjNfXsbys7FR1vjC1eyuWydbZYLBao1+tmSRlmkA7glmtw46jlV6wnGo1aBpUDxLKveDyOZ8+e4eDgAF9++SWm06mdI6uk0P39fUtCkJKilqRSqRh9hCE2709BT8UMgi7qHenCUb4hx0u5dW5WXZtr9no96wO3XC4NxuBaSSaTlk1XKoPiSW62TbOn9AKo2Fx+nGYHM5kMnj17hkqlcuNoxiAK+Yt0KFTpMPmmorXn6/XaAyXROWFBPfcI91gmk7lBwmbERSyQipVrxC1HcykjPFeZ+oGeXjKZRD6f94VabiM7FZ0efPv111/j5z//OSKRCCaTCX744Qe8//771qXXVQxUfFQofl6BhjCum00rBFy3ZprP56hUKgCua29JitTCchbt+2V8NOOkeEQ4HDbajGaogigshAe8vEP1zDR0pQFgzTCz7Xz/arUy720wGODy8tKI3oQkNMvHhQtcN1PlHFDh8vX0NGgEyXEknqqdT9xNnUwmUavVUCqVPFU4QRauYb+2WhpKcq4VMiJ5m/xU7i+uFSovv/nSz2dUxuJ+12Cpd+cmH6jAtM8hPcper2cwmovbvkl2Kjrt3dZut/H06VNbMK9fv8bl5aW5sX6MaBVVOEpAZPihWRc+r7jZZrOxZo605KQPUMnxXugduMkPl7OjdBOlWvD1QRUqOn34eUW6UfweHCNWs/Ak+Ha7bTgqPUCtX/YDrN0aV/XouHHYDSOdTpt3oqGZKjyuHSbQ7sq7+qkKz9HlXFLJcVyUsuM6AoqJcdx1rjgP2g/QzeDT82P5Gb1DXTcufq+VUtPpFMlk0uZws9mg3+8b0+Lo6OjOSg64xXGH6/XaQsgffvjBaACnp6f4+uuvUavVPFidam+GGS5+RyvOgVKvQnl4tPx8DbvFKseHfdWKxaKRTTnRLmXCTY4wBKKHwKaMQd8Q6tFpGZ5LAVEvjA8FtvnccDi0w2cYtioPkl1otVGqimJt6tm7SQVadm4W1j4D1xl6eh1aHM7NqXhtUEUjFa53YqasIuK4aDjKVlz0otUYKp7u9nhUOpZ2uKHO6PV6nnnXSInGSBtA0KFho4hQKIR2u220Mt3XlNvM6U5F9+2333purN1uI5fLWSnN559/juPjY1vQ/X7fODqj0cgSGdp+R9PGLNDm32yNpNkhWhdVcFSGhUIBxWLRHpr+5uDrZPEnJ0i9CipfejbZbPYOy+unJUrw5GE1HFPCBTp+Grpq+x3iqDxlazQaYTgcYjab2VwQy1G8TzPjatV1seumoJfB99AgcYNy03LddbtdnJ6eYjqd4osvvsBHH32Ew8NDlMvlwNNLlPajPEI+aHCo4MLhsO0p7sPRaGSOgRoHvoaKDICnXI+JC7f5Jh0H4rEa9rrMCC0n5BpMJBKoVCp49913b7QIu63sVHSMk/kF2aWUGdfxeIzz83M7Gezbb7/11Bwmk0krnicmoxpZ8Rt6FqSvsB0QSb70wLgZEokECoUCCoWC1UhqET8H183qKEHRbd2jnqRLjgyS0NrT6yalQDlRwM0CbILJSlFgP0DN2lFB6XxRSdGD1pb3XAesueScaZaVIXA6nTYeGL26UChkHku/30ej0UC73cZ4PDYleHFxYVy6v/7rv/5DDf3vXXRcOQ80BnqUJcdrf3/f45y4GB6TCVRE9OL5GalUCsB1A05ei2tC4SlmTjX0VW+Ma0E5uIvFAo8ePcKjR49QKBSMufE7DV3ZuYA3qXgJNW+n07Gusq9evbpBHeBhJPTK6G3peaq0KsB1XzgOZDqdNreXGp/vY5NFLRVTD84lFyo+4PK1+D3dsCqIwjngZnAzkZpccr0CegJc8FRs7qLTMJRjq8pMQxY/uol7P3xPIpHweJS8R25UHlatoHen08F8PrfwOsiiEAA9cm2gquVU4XDYoqjlcmmdiXgQPb00jXyo8GKxmBF5uX9YQqkUE92HfD/3H5+ngqNzoWtns9mgXC6jWq3egFl+Z4qOhGGtKWQWBbhSSqSatFotXF5eWgjJ1DPT0+SsEbtRhadnFCijnhkW4No74DV4T9pCyCWdarbJzQBzENWlpzepGd+giuJibspfFxLHiMaHgDMxV7X4nBMNdxTMZmaNSk4bLKiF1+QIvU3dePF4/Eb4zCwhCebhcNgqbVgj3e/3cXp6+uMP9o8ohIk4f0rFIXykHjdZE+v12s4yrtVqyOVynjMfeC3CEWyrValUzMsajUYArvlxbjKDyQYaVu5j4uqZTMYcI667cPiq1r5YLGK9Xt9IMt5Wdiq6Z8+eec7HPDk5MSyt0WgYEM1U/tOnT61p4mq1wmg0stOkqOwWi6uzWCuVCv7qr/4K77//vmVL0+n0jQyNy/HSLJ3Lt6JQybGLhWbilFiseJCGVsQagipcQPy+HB99nqKZUs4NcFOBkYBKY8WMHpMIHHPNuKlC0yQFfyp2CMA+m8ZOPUzy987OztDtdq09O7FchurcjEEVZTzQwKvRiUQiNi6MliKRiDVTSKfTdpQpKyF0nOPxuEFGlUoFe3t75h0OBgMPBsfP4D4jvYQNGbLZrEUE3Jej0cjes1gsrEaZtDKtsgH8Txj0kzcqurOzM7x69QoXFxf2xYm50QKQ63J4eGiY2mg0wqtXr9BqtTAYDDAcDm2wSAx88uQJDg8PUSqVDI9TjIYLWz0Lpa9o2MXQmEpO8SIqTZfDo6UwtHwuzSKIouE64C3yd7NiDDE4biR08znAe/g454/CMx64eOnl83O52eg1coFzrvk5fI1r+LhO6M21Wi0PWE5RfmWQxW/tqkFSAw9cMwzUuyY+zj3BNvb07BRGYFNTNupkezQa0WKxaFhfq9VCp9NBPp83Rfny5UvL8qqnx/k+Pj5GtVr11K8D3o7kt5Gdim5vb88qE0jaZJjJLCtwpWQGgwHG47GFiO12G61WyzKYm80GnU7HBny9XhshkRuHDyosbQHllgEpkK7pbf7udpr14/AoV8cFRoNcE8lsG0Mc/iSOyc2iY0UDokpRxfW6dYwHg4HhunrYSSgUQjabNStPjJUYDxWdUh54fd4D74tRx2Aw8Bg7wNuANcgNVV2hglPjRTwMuMZi6WkD3vJANjklhs71wISHYmb0FPmIRqPIZrMolUoAYIfmDIdDy8TT8Gi0pVnXcPiqaUc+n/fUr7t79TbyxsoILSWhomJGVUOfVquFb775Bvv7+1gsFnj9+jV6vR7+/M//HNVqFcPhEP/xH//hadNMzU2vwY9e4HLgXE6Xir5XlSCvpdfkNZT4qNaQ/KwgConXTEgQL9PxUouveAmxS78Fx7+ZuFJOFd/Pk7o4d+l02owpQ11yqDRzrspPQ7HVamVeY6vVwmQyQSKR8HiVSjQPsgHzEze5ppUoHGMlFQOwEj1Gb1pmSYXm1srq+0joLhQK1gxgvV4jn89jsVhYiVe/37dkiCYcqUjj8Tjq9TrS6bRHqW5TdruU305Fp0fKpdNp9Pt9U1RHR0fo9/um9IrFIr7++mu8evUKoVDIqAfNZtPaZf/sZz+zDca4nnE7laZuLIYxtNBkWusJ4ZqqVkxCScrE3HRS1ItTMFxDsqBKs9m0hBHHgIqd5VwU9eTUk+LvbtYUwI2/tSPxZrPxHJTDA5DW67U1SnXnkaGslhHxMZlM0Gq17Lte+HQAACAASURBVEhDd+64menduRnmoIkLS6hXDsCT/KHS4ut0r7MwgHXu7BPJE9lI21E8MBaLWQkZ9yfxUz4A2P+j0SgymYx58hpGJxIJO4BbIwQ3Y+t+922w005FR14NM6WdTsdIf/v7+xiNRjg/P8d8PrcKhlarhUgkglqthnq9jlAohOFwaAPIEISDrF4aB1AHnt6cDiizfQyN3HjdxW+4ORRY10nnazXjdxcy4k9Ner2eJ8ykRKNRCyWUMqKJCFVgWitMRalcRF5fPfXVaoV8Pm9KLRQKGTdzvV57KE0UxXDoIZKzNRwO0el0PIdZq1BBK5wRZPFLJvGneubE39yjBhje8znCHHQoqCS5lxT64Ovc4ydpvJQO5EZQvDbvgd9hG2asypzy1h7daDSymDydTqPZbFpMXygUUK/XLaNK15JhQjwex/HxsQ2AbppQKGThK7+MYjIKQKviIYeKik5fQwWoys4NdTXrp+Gq66m8DQbwU5LJZGJ8Npd/SOWleChwveBcb86P9M151Lnj4l8ul8Z9JEbEZBZDWx17KigqX3oIxIx5FCY9CPXS/Vj2d+Fe/RRFvWXAi6WqZ6djRLxNkxI0DoyoOKfbeI867qxmAq4z5Hyt3hvgzawznNZ1o8rwt5m7nYqu3++bRqaLyS+STqdRLpetkJtkQ1UkT548QSwWs4zLYDAw3gz7WhHopMegbZuUB0SuDeN3kkQVg3PJq0pb0AHk99Dmm+oa/7aD+n9deLCQ4i2qmJh88svCcm75vHIsic2pp6dKkZshlUqZQuO8K46mG0zJp1wnZPazU0qv1/PQDlRhU8H6JZyCKOy3SHHDOb8kkio77THHdaLnOyuXlZ6f7jdeh3tUjRyPT+RcuhEY74/zp6f/ce25zsltZaeiazabKJfLSKVSdqwcF/Pp6SmGwyF6vZ5Z6ffee8/Imefn52i32zg4OLDKBfJqeI4nrYiGl9w4tALcQAQwuSn5WnoRbJXO8ES9CoriAAA8G9ENk4Mc4ugiJn9RiZiEJ9yEDR+a7FFaAHAzSaHvYTUL6yPZ2gm4WuDkwqk3okz+0Whk1Q3L5RL9fh9nZ2dGh1CirGZ4uaYYfgVZ2P3DhV7Uo9IElCoOYuYspTs/P0er1bKmF1Q8jNjYGUahIb5Wyfp63gTXlRL5XUeFztD+/j6q1aopXz/ql7u/t8lORccPTSQSyOfzKJVKFsoCVz3hGo2GFfOTUBiLxYwsfHBwYCUlxOE4GJpoUKoHb1oVoeJrfA89EsUQXGxJJ9rNyAI3CZaamQ2qaCaTaX/F1ABvva9ic/o6XXSKozEcZiaX4VQul0OtVkO1WrU6VGIyfKgHTk+PVQ2DwQCdTsd4c0xOKbZKXpfeI7GoIOOuFKXg+M2pwjQuFYtldO12G71eD51OB5FIxKggjL64N2gktXJCISEWDfB5VVhuOaESxlnHXq/XkcvlPB4dlaOf8B785I21rtTG9MK0no04WyKRwGQyMeVDy6BHF7KEQ4FOKiUl87qLlAPBTCvPjZjP556icLUMHBAdRJc3RhxQFZ4qwqArOqVyaI8x4JpBr3PphjzqHWvGm9k0ldlsZlZePSyXBMzPUh7ceDw2jhy9OfKxqFxVuSltgtfWrHqQIQkVvzBdM7AcHzoRzGK32200m03jPrING5NEbiUDxS8SotfO/an4HteOOhZ8LplMIpfLoVwuG41NnRe/0PVN87pT0fGcVACWLdMzI3kgcCqVQiaTwRdffOFRVBcXF+h2u6hUKigUCh4rw41BPMblxlERMdnBjhUkhY5GIxSLRQ9wyUXOaw6HQ09b6EwmY94GX+vHuQu6onOTANPp1KwtMRfXILjvVyxToQZNAqmxYTKBMATniwqQa4EhDMOh8XiMXq9nWNFyuTRMmJQGzcZxfVGpugmJoCs69Vpdrxu45qtxrAkdsJzz/Pzc4CjSxqhw1uu1/U9bsbETCjvZMDEUjUat0QLnh9Ggn5Lka4jhl8tljxHV5MRd53Gnovvggw88YQJxD2rf09NTbDZXffk//vhj5PN5/PrXv7byqxcvXqBSqSAajWJvb89wNm4AZveonZlR4wRMp1NcXl6i3W6j3W4bBgfAo+k13lf8idaJm2Jvb89zipG68Vp5oZ5lEEWVPEND8pVUiTEUZPmeu2k0661tlLSwnPQRnkXQaDRweXmJQqFgylU3B0NcGitGClTKzWbTKEwu/4oKmSEWf1eicdAxOnUWFFdVuobWKxMH1bM+WNVQKBRsnzH0ZIkYnQc6ICzB41oB4CkHZcUKm7Dy81UB0mEh6ZiJi21JpLskJHYqusPDQ/T7fQ84zN5v8Xgcl5eXePXqFS4vL3F5eWmJAx5i0el0cHp6ilKphA8++MBT16ibiddmZ1F+sclkYoAo23Nrhs+11prepkLudDoYjUbG2dNFr4rOL4QNqnBBATCvmZiZct4AeGABPlSJATDjwyQADzhhlws2YSQnk9cErhQbaxm52Lvdrq07wiSdTscMHrFjd/504XNdEIfUtlBBFjX6wM1yOeD6iAT+Tk4ix4kKLhKJWGdfQlSEOiKRiKc3IRMYZEIw2xqPxz2wEwDP/GsmlfOfz+eRz+et+S0NlF/i4bbK7o3HHWob6nD4qq0L22PPZjOcn58bbsZW5topmBSAZrOJarXqcZ01TGTmTN3Y6XSKbrdrR61xkHSjbuO+bTYbTCYT2xRkWXMTK8bAz9RNEPTQlSEp8RkeeqJMdH0tx0spJgosa6UKMVGGPvr/SCRiTHt6gHt7e9b5dzgcotVqmefBCptut2sni+k8ufcEeDO9AAwsZy1lkGVbeK7jpOteu/sAsPNTmTzsdrumuOiB0wtjWRjfT5iI+1OdBX6W1rYD192jAViWnOEy65K37e/fmUeni5NpZbYtz+fz6PV6qNfrxrHL5/PmebGM5Pz8HI1GA99++y0eP35sGBAXvzbo0+4idKeHw6GFucrdAWALl5tOcYfBYIBut4tMJoN0Oo1arYZEImHXdkudgh7SqKiSYmhHBaIHq3BTKMBPQ0HvmQuQnsFgMEA2mzXsbbPZGKWI3Krz83OriywWizg+PkY0GkWv18PLly/R7XaNFEwOZrvdtvBHcR5382r4TWWn1ThB9+hco+1GKPrTDXMzmQzK5bKVBhK/5Z4my0Eb4NLD5vWoBKPRqB1yz1CWe07XjVbShMNXjUAPDg6wv79/43hKV4Fzjm8DM+1UdP/1X/9lN8OkBN1K4KpygpjXcrlEvV63FtbdbhePHz8GAAwGA/z7v/87jo+Psbe3Z6+n27tcLi2VTSIpvQwOYiTibe+jYDq/bLfbxeXlpfU/e/z4sXmgBK21tpYT7hemBj101ZBhvV4bxYQes1+VA8dcOVha8cCx7Ha79txsNkM8HkexWLRwh+31SQZmi/7RaISLiwtTqrPZDI1Gwzib9ARcy66YKhUx509xPPVcgiq66TlnCjtopQPJ3drCiokiAFZUH41G7ehCnrzH6yv1Q8ddaWksDABgc8A5pOPDz8zlcubhE/91w1SG5nfJor/xFDDWqFarVQOOm80mer0enj9/jsPDQ2SzWWO212o1DIdDvHz50t4fjUbRarXwy1/+Er/4xS9Qr9c9NZXz+RzD4RCbzcawGoZUrsLhl2WWiCEJN0UodMW8z+fzN45m05BLj8rTBIm7cYIoyjtTuIB0E+KZyr9ylZ1bCkSFR4tOoDoUChlOo14z54yvUXLyZnN14lun08Hl5aUnHOL9AzerWVQBKmncxRSDLH4cUc2AK1WIBo3jo8lAzlUmk8F6fdVYV88GoSPCPcw9o+Os3h29eSaXqKyI69KzLBQKphxVNHx19+Zt5nWnouPN8XfGzOy/f3l5iVKphHQ6bSVd7D6aTCatVpaD+uLFC8P2Dg4ObONoR1+GJX5cGT5HD0TrIDmAdL159oR6LboImLVT/o9r8YIqumgUq+OmYEJIFRPJvPpgtlUxXOBaMQLXNA89bUwbpLpJIG44Qg9MSrgZYb7nTcC7K0GHKJTsrmwCUnxocNR4ATCYgdCAtl+nl5dKpWyvjsdju67OoSa03MoLOj3uHtO5oh7helMsj+LHoXuTstup6I6OjswrC4VC1p+KTRIZv+dyORwfH1vvqVKphHq9jq+++soycqVSCaenp/jP//xPnJ2d4Re/+AX29/dNaZFYyNezwoKLm4PISWEIoqeO8bQgADg/P/dsAn0Pr8UN5w4WvcQgiyoOTfcrp9FtrMjFp2VhbiirdZNuuRH/pxlz3WzEbQeDARqNhlGD9J4pGiptC2eBa0VLCTIkAeBGSZ5WHzD76SohbVIbCoU8bZqAq3FnFna1umqtxTFlEpF4H+dWG0ZQqTGzqo053AiqWq1asw9ydd/kjW9LwKjsVHT1et0yKyzIZzKAFA8241yv1/iLv/gL5PN5vPfeezg6OsI///M/G7em1+shnU5jMpngq6++wnfffYenT5/i0aNHKJVKVmbCbOt8Pvf0q1e+HQeHqexUKoXDw0OcnJxY6dnl5SVqtZrHS9OHUlwobiYxqKLemptsoJdM7IWLW42Dlg1R0QCwRck1ogkkpQRp1YXiZ9PpFK1WC19//bW1XnI3gho+V9nxNVodo1ytu2A6P1WZTCaehhiq4IhPa+E+KV0MR4ErHJ6KTb11Xo+vY3hJ/JwMB51jKl63vpZzwWvxs05OTgzT007GCkFQbqPgKDsVXavVshicrqpq/XK5bIdS67GFq9UKqVQKn3zyCU5PT3F2dobhcGgMaX7B3/zmNxb+Hh4e4p133kE2m7VJoJKlW63AMnG9arWKSqWCarWKdruNy8tLjMdjG2QXN+Ag8zMYPuuAkfkddKGnpp4vjYAfUZOvd4uy3V5lGj6pYVGqknoU9BK63a41g9DzYfnZ+hO4mXVV5caN7iabgh66auTC76+VKTRmHEfipCToKzzFLCujK3p5Osf0CFVRAt6sLsc/HL4+VsGliEUiETtZTCkshKrUybkrhw64haLjlyHFg4szlUrh4ODAPLVisWhKiV+wWCx6WOwur4bZNv4Mh8M4ODiwhAQniACqXof1t4VCwRjUl5eXxvvhWQSuB6HWRImx3FQMn+6DoqO4IK8qC/Wk9PWKbTIc4v+Y1dZyPmJ02tJcw59ut4tOp2OeHDelm0V071Vfo4pO/8e/lVsXVFFgX5NHGsVQCQHXB1uxfpzjQ3K+CvcPvSx69ry2etVUqNqwQ9t3aSSw2VyVEVYqFePgKqTCedyG2d1qXHb98/z8HOVy2UigbLcEXGVj3nvvPTQaDSQSCRwcHNgJTKvVysid7ITAwdGsTywWM1oBMZlnz57hnXfewdHRkQ0MB4yHdXBT8Ui75XKJ09NTnJ+fG2gaDl8dns3XM+zSagpOuFoJJjaCfiyeipu1VAVBCgK9dS5QzdYyxFQPTLNqmkwgKZle4Hq9NgXHhJKf4tq2sNWboyLTz+Ycv+0G+akJSf5UQNoViPOpuLVmTzebjedIUrfNOa/H/aVRgIrCDVSi6/Xa009SE1fAVbnYo0ePPLg8r62UIToowE3vfpfsVHTPnz/HJ598glqtZsXY1PzL5RJPnz5Fr9fD+fk5zs7OUKlUkEql7AucnZ1ZjSo9QmXYJxIJjyd1enqKfr+P58+f4+nTp3j27JmnWZ824KTL/P3331uIy0EEYMRVBcDZ0sm1/BQC4Tzp/T7INpxyGwCsYQd/32w2nvbmHGelrADwlAUp6ZsNXjVL6M6PenN6L7tCWb/XBV3RPX78GC9fvjTl4p6Gp4qOwsiIc0KPerFYoNFoeDw5Uol0foGbfEYaGEZrfG44HCKVSpnBI4ZbKpWMd+vy/PzWpBrD28hORffNN99gb2/P0ygTuLYE5MWwSwjxOj7YFFFdW90kbI2uPBwC0uwgW6vV7DQhhq0Mj/Q+3OPX2CuLSQ5VgrqhOLDa7YRh1n0UV6Go97trcalHp9k0Zc1rKOVCCFRsGma597RN/MJXDVM11A26ojs+PjaeK/cG4SQN6ZUeROwtmUx6qCnE9VS5MLHB67nGxk0Y0rgBXsxQS/EqlQr29/ftkGpeR3Ffvbb+ftv53KnoBoMB2u22Af6aKgZgLOnlcmmeGxVaPB5Hu902y+ISCjnI+kWA6yJzDuhwOES5XEalUsFisTBvQXEI5e6Q78e6W7cBgMsZ44PJDXZKvQ+Kzg8D8/vpvmfbddQrc3mLLt3D/VxXMfoppl33s+unC2YHWU5OTvDixQurENK5cMN8euTsK8mDqgEvTssseiQSsVZpisdT1NhpMovkfL6GP7l3K5WKOVQUTRq+ydDdRt5IGO71eri4uLASHn6RaDSKTqdjLbgvLi5sgIjFNJtNX0vPL6qpaCoh/o/JBZ79WCqVcHR0ZITgVCrlwd+YEaQXl8vlrNOJ4gy8Nrl72qabvbaohIMq7mbfBvjzb/d1d/WOtll+VXCKI6miA96cKXVDVv0sv1A2yPLRRx/h008/xdnZmbWlV2XnJmQYRrLrNxMMAKwcs1QqoVgsWnUUG22wfZs6DMzeqofOh2Z+OUfpdBqHh4c4OjqyNm68R8Xi3LXmB1vskp27+eOPP7bGecvl1bmqw+EQ4/EY4/EY3333HRKJBKrVKp49e4bPPvvMzvBkHSzLtLh4tWSEbjMXsoYwVIRsH9PpdHB+fm5NBfb393F0dIRisWiut3pwqqyU0sKedvQeJpOJ4YxsU3NfvDn9SdlmRd3wcJu4nhOVmSrQbQvXzfTuer17X3pv7v0FPdOq8uGHH+KP/uiPjEsK3Mw+K9tAmQj0vsh0GAwGiEajmM1m6PV6aLfbqNVq2Gw25gVWKhVzHNjyXilIDHFVCeoaefLkCT788EM8fvzYg9lrdY165W6LJxdi2SZv7Ec3HA5RKBRQqVSwXq/tC/V6PfugTCaD4+NjnJ+fmzLTziQs3udNchCYQCBdBbgu+qVVUc+CGaFer2enij1+/BjVahV7e3uejCqvTxJjOBw2wFy7lzQaDet1xsELMllYxS909fPo/DwmP/FTjvpzW0JB78X1yG4Ttugmdq973yQUCuHp06dot9v4/vvvrZYY8DduNPjz+dwSDspzHAwGdi4zu3trWAlcN8xltxOKhqeM8rRbSSqVwocffmgdkJSA7rcONepzFdtv5dGVSiU7tSmZTBppWLtAEKxMJBIoFovWOYRfTDk7VHTcPFrIrQOiX1QTDAw3md3jpmBGN5VKWX2u8vl4Tb6XCrjVall4PJ1OzXW+T8oOuBkGbPO4XHxlG+7lKkM/r9Hv9b+NcnLDVU1A3CeZz+fY39/H06dPcXx8jB9++MHDIHDHmnuFnWU4hsS7mfhj81R6bIqtK87NSE2VGwDP3gaudEGpVMKjR49QKBQ8OJ4rfutReXi3kZ2Kju2uefiIhpTsZkDva71eo1AoGK9K3Ux+Yf7UshAtJ9LWQPxyOkC0PvTG2L6HWVptB6PF5DrBehbBy5cvcXl5aQf9sASNE3MfxE8JbQP9XUXnJ34KxrXSfp/9torurtm3oMtgMEClUsF7772HTz75BJ9//rntU2JffjxDHT8yGNLpNEKhkJVxDgaDG51rXGOnZVvaqNPlwBGbOz4+Ri6X81RDUG6LBd9m7kP30eo9yIM8yP2S++G2PMiDPMi9lgdF9yAP8iCBlwdF9yAP8iCBlwdF9yAP8iCBlwdF9yAP8iCBlwdF9yAP8iCBlwdF9yAP8iCBlwdF9yAP8iCBlwdF9yAP8iCBlwdF9yAP8iCBlwdF9yAP8iCBlwdF9yAP8iCBlze10fWt+OehG8+fP7dzIXgkIlseLRYLFItFdDodtFotnJ6eolqt4vDwEMVi0U7w0g7D7sHGPLBWf7cb82kFxG4M7IjCJqHD4RCdTgf//d//jXa7jXA4jHq9jvfee8/OomDbKLZoms/n+Nu//dtAtsT4u7/7uw3ba7GB4mZzdR5Av99Ht9v1nMepfcXYnYKttwuFAhaLBcbjsbXu0u41iUQC7XYb6XQae3t7ePLkCdrttp3pO5lM8PjxY8zncwwGA3Q6HcTjcU+HDG3lzetmMhkUi0WcnJzg2bNnWK/XGI/HaLVa+OGHH/Dtt99iMBj4fv9//Md/DOS8AsDXX3+9SafTWK1W6Ha7+O6773B5eWkHPun5Edwv2vnX7T7j123G7RGnrZ0AeFqc6TGn2r1GD07iIdrj8RiNRgNnZ2d2LAMPtcrn86jVatjb27PDrjKZzI3OJf/wD//gO7dv1S+cB1p3u13rHR+LxazDKJv4NZtNtNttjMdjZDIZ1Go1U3Js/0Tlxofb4fa2XWbdTqM8MUwV397enh2A02q1rK0UlS4H3u2FHzThRqDS0H5iuvj1NCbtFRaJROzwIbbt4Tkf7CTLw1bYoZavGQ6HaDQadjoUDypna26229cGkNo7jZ/PVmF66hwPYtFDll0JercetwX9bc5c0B6Rb/uZ2kn6tuI2V+Xe14PQKe6ZF/q5t5E7Kzr2dOMZC2zqt1qtTImw99V0OrVOxNlsFtls1o4rZM8q7VWnHtybFJxfO2UKr0XNv1wure1zs9m0nnSj0ciadfK8Wm7U+6To2HmZCk+9Y+0BSKVH74/zHI/HrakpLTQAa4JKw0eFxsNVeC02dtS1xA2qh+zoWaDcDDxSj/3MeLyleyAMEHwlB3gjnW1OA+V30cPvrsrNFfe9u/a8e5bIXebzzoqO7dQ7nY6FBtS+tMp0hTudDmazGZLJJEqlkh07yIOkGY5ouOrXQtlvQPye07bfAOxEsNVqhWQyiWq1ik6nAwDmGtP7yGQy9j3m8zkmk8ldh+YnI9ls1hqTJpNJDIdDzGYzzzmdFD3YhuOqbfKp6Hj4yWw2w2QysSam6h2Gw2E0Gg10u11Tkuxgq52g/Vp96zke9NzW6zVarZbNIcMcVbC3bQMfFNGT19RL+l02Jr2LcnMV0659rPer73Hb7bvXvY3sVHR+rY1Ho5EdvNHr9ZDJZG4cg0bLPhwOLYQhzkIPjg91r/16xW8TWvBt3XAVU+J5lZvNBicnJygUCnYwLw/kYYdieidB3hB6zm2xWES9XkcymbSTo4DdZzXEYjHz/obDIZLJJEKhkIW/fCwWCxvjTqeDXq9nniAVGxUYz9wFcMO7V0XJ14/HYztDhGsslUohnU4jl8uZl6jXvA/i4mt+3YD9vLo/RIdmXWOKy9MZojHlITt8TzQatfl218022ano/MK38Xhs4cdsNrMjB108h2c4pFIpZDIZpNNpX+W2TbG9yWq4bZdDoZCFY4oXcOCSySTm8zmy2aw9Px6PPUkQ4j7L5TLQHp2OSTKZRCQSQbVaNS+82WwCuA599MAaPUEKgMfYqHHhqXGRSMSOk2QrbcXdAFi4ydOjdN2tVitks1kA1wcX9Xo99Pt98xZ53Xg8jnQ6jZOTE0+rfg25gy5+5yf7eXS/DSa3S3Zd010nPNKQCYt4PG76gvASD9Di+5jgUvjrNsr6zopuOp1iNBphNBp5tCwXvCYU6DkwnNgVorqDteum/U7u5vO8D/3yaiUY8jDLysGj8iWYzdPFgyia+OGCYgiaTCY92Vb3MGkdVz5P0Fi9Lj1SkrgdzwXRg4q52N3DVih+eOF4PPbcH3DtZYZCITs0XTPpbkIjqOIqul1R0rZQXvFvv+f5+22jr23vo4Lj3HN/0gDHYjFzOHQP86Hf4U1Ke6eic/EaAHZIBs9r5UBuNhsD9In90KLyBv3c6G2y7WCMXVkkPqfKjpOtR7jx4A9ijIoXcrCZzQuiUKEwIaOeF7E1pSCoR6cPPVxFlZMqm9FoZNAAX6NZNYaXDH/X67W9l+uIiRLeL4/O5Dwlk0mk02lks1kUCgWLMJhYAu5HIoLiGqbbKCMVFzPb9n/3d86Zi7H5YXAaLahhVUWXSCQsw0+8nXtYD7pSY7hNdiq609NTzw0DwMXFBdrttgHAeuAzFxtvCrjC9IDrVLdLIXHlTSf/aMiqr9GNSNGBZXikipJeAD9TQ2s/JR8kGY1G6Pf7uLi4wPn5ued/PH1dT3lXDCUejxtuojiKJivoXaknDwCTycTWix5qnMlkEIvF7BpczOPx2I6kJLZHQ5XL5Qyr4c98Po9yuYxGo2E8yrfd8D9FYfhPjJwJQtJ/dE75U73AbVjeLnEhJD/xmwOuJ/XOlsslUqkU5vM50uk05vM5crkccrmcRWOTycSOVeX73uSp71R0r169st950W63i9FohFAoZBpWsZl0Om3nQdIyu1/0Njw5P/dZPTbNwuk9+lluPqchG3C9mVS5qtIOqgyHQ5yenhrPkQkIjsV4PPacf0vhHDGTzc3C93LT8D0uCRyAJXrUKlPhxeNxgx94DzzLl/hrPB5HNps1akm/3wcA5PN5C5nD4TAymQzy+bz9DeAG6TyIwqiK+BaVAr1iV8H5QRM6RrdJ4rzJ6/O7tqvsNpuNOSOKp/PMZgAeD533xv8Bu732nYqu1Wp5/t5sNp4zInUQqLzoFdHakxqgSmbXYrutNblNKOIqUT0jlqEXPTpVyJFIJNCha7vdNs98MBh4DBLDSeXWqTFwFxef43jS06NSogdGZUcOHq9BxcjT3pltG41GxpinR0kAmskJhqgErFOplK23dDqNfD6P2WzmmXM/AxkkUQI4sVGthtAMpstL0715Wy9NxQ/Lda/t9z8aRIauq9UK6XTaDs0Gbh6SDcAcqluNy65/9vv9GwpFrTj/Vv4TQxjeJBeeZta2gZP63JtEwyn3eb0GJ0yzhlqqwo1AT4O0hyB7dN9//71VJ3Dh08rzcG+WdHFh6bhS2XEsdcFxfRBo5nX5Oj0RnnND7iI3nm5QwFvtksvlsLe35+HehUIhD04YjUZRLBbtfpSUHnSaCbFW4pmk4HAeOEZ+iQZ3z/gpK/d3Gji/a91mH/N13JPxeNwMK8ng5G3S0vX26AAAIABJREFUO1ed41f94id3TkboYlLWO4Hn6XRq4PN8Pje8jlUKWrN4W3EH3o3JdZNte45ZYPUSeJ+kwxSLRcOJggxel8tlJJNJm6Nut4tut2tlWYPBAOPx2DhvavnpWWliSatcFP9k9loTC9FoFMPh0IMBUtHRSBKApneiSSKSk8PhMFKpFHK5nK1JYrCxWAzVahWZTAaJROIGZBJkoZFgjTcNBo3ObbOUfiEmcDOUpaJzkw76U1/r95ySxN0qqfF4bCR/Rgq6t2+bRd+p6Gazme/zDBO4URhC0ENQS57L5ezmqBS5EbZlZyhvcp8Vq9MBoJdCbIITTMoI8R2G4SxfI8AZ9PDm6OjIuGitVssqQTjfmUzGk2hwGelUXLp51MoyY8aaU+A60UPPnkrVpTBxHon98sGwlR5fJpNBKpVCNpvFdDrFZrOxNUVlp0yA+yKcN2KsWr7HsfTDvf3wc/f/+h593nUw9LV+ClDFva42AWAdumLFGpEBsLLBN8lORedehMqCVn0ymZjryBIwvodamhkUamYt1aGF15DiLhgBP5f3Rs9AH7pROVhUwopDhUIh68LiElqDJtls1ki8iqUy0ZDNZm9w1lS4WVzOFsUNVemBkdGuWC/nnusAgAecJlWIypOfo2tIKy00u0+vQJV00EW7gdAbB/yTetu8MD9F5yfbQll9zmVRuB6hqyTV62ZpJjFjhUw0+XUb2ano/KoDmMpnPSGVyGKxQLfbNcwrlUohHA5jMpnYl2u1WhaW5HI5VCqVG51M1FvYllnll9Pwhx4aO2BMp1OkUinj4uimpcJjGREtHv+vlJmgChU/NwQ9plAohHQ6bd9/OBwahKH4nGbudKy4HuhVcZ1QWH2SSCRuWGr9DJe3x7CVnmI6nTaupps1V8zYrXcNuvT7fU/NuWZW/ahb+rsfudgNFVU57sL5tj33JuhAw9j1em36hviiYsLqvLwJe92p6Jjd0pssFov2wdq+R2vS6Blw0ZISkEwmzdr0+300m03kcjlks1nk83kUi0UPjqdf3mXra2jKB5VsPB5HqVRCPp/3hDOKR3GDTiYTjMdjA7o5uG5mMUhC6CCZTCKXy9m4EWdlP7p4PI58Pm8UDsXnXOWhWU0tL9MEFJUQFRYNksIYVJC8T+A67KWCKxaLxtNUz5Dv0SiDpWf3xas7PT01WslwODToxvV+/GCibfiZemN+BuM2oamShCmEiTQ60PshZzMej3siL+W73sbzBN6g6Or1+o0LpFIpbDYbDAYDs9y8ef6PWj+ZTKJcLmNvbw+1Ws2AaWJCk8kEoVAIs9nMqhQIIHMhKwag7irDFeC6P5p6AppRVZwok8mYd0dlzCadrHNNJpOBzs4xeUDFkUgkbN4KhQJGo5FBEMS4NDvGOVGjw9/psWkdoi5GhpSENBg16IbQZBXXGLE9ZcaTbsCwlfy74XCIeDxuNBXe620zdD9lmUwmlowYj8c3+HJ0IHaFfO6c6V4glAB4HZBdovQev2tpFKceI9cCjaV+B6Us3UbZ7VR0pVLpxnMM8dhFVnEQZtr4O7Ni+XzeiukVDyKlgAtXQ0Y/N5qbST1JDh4Vm4ai2lCACpQ4EZ+nNzGbzayjSdA9Oi4ULX0j5YNjM5/PrQLBxSypWNQSa387hpXEYEkwj8fjliVl007lZQLwGCYKF7w+7xKWuQaJB2ezWVOkmjm+LabzUxViz0wu+RFq1XFQx0AVkevh8XeNtNzkhpuE8CsW4N/6nm0Kk//TBARhFD7H7/dbeXRu6ArAWjHRA9Imh7TUuqgZsgJXeA8xBHZAAWDk3Hg8boOgjHoX6OYgUcmyUwbZ/kyKRCIRFAoFVKtVPHr0CAcHB7a5GS4XCgXryNJoNBCNRlEoFAJNGKZ3pIZFKwoqlYqHRkRKh3oGStuh58b5z+fzyGQyZuTOz88RDoeRy+VQr9dxeXlpc7pcLtHr9XxDKYrr4bldarhWuMmJvRKzHY/H9wanY4TEyhKXVOtidpr1VqWixoV72/XIOP6qMPU5VY6uEtRruD9dmIH3AsCaQ2gS601KDrgFYVhls9mYIlkul8jlcojFYhY+0PpzMLjwqNy+/fZbnJ6e2rkS6ppms1k8efIEe3t7lnFTOggHUcHK1WplGFu328XZ2Zn1xycPLBKJIJPJ4ODgAH/6p3+Ker1unlylUrHmBMwE8u9t1JogiHrfDPkZfjLs02ym1qbS61MLzM2TSCRQKpVQKBSQzWZRLpdxfHyMZ8+eIZPJWOH+l19+iVar5eHacU0B3vnmJtHOFRSXCkFIg0qOEYOWDQVd6MXScDERB1w3yNWekWxzpeOo3lI6nbY+jS4HVjE2igtrqNJTgi+fV6NFpcprcI3xXpjAYp09o8TfWtFdXl7esIAke6bTaaRSKQ9Owi4S5NSRnU0M7IsvvjDlUyqVPIs4l8shkUhYkoGD7Hp1OkBaykLFxCQEkw/NZhPT6RQ//PAD9vf3rX8egfhSqWQWMJ/PWwY5yHiOhnPAdQscdgimULGQUA1cKzs1OLSs5LVpp99QKIRcLmdzuVqtzItm1pV1quRlMrumXoVbRuZuIBfioAeqjRnvg3AvMqpyM+Lq7amSAa4Tijq+7PHHw2jozGiiCPAPW8mIcD9fK3FUyYbD163d6Nlp+MomHABuhMVvkjvVuvIDWLwfiUQsi6qKjt2GiZes12tcXFyg1+uZxS+VShiNRhbulEolK9ZmwkIHSV1iansOArX93t6eWbPZbIZ8Po9UKoV+v492u41+v2+bnBQHFn+zWzIrO4KM5ZBgqxAAldBqtTIchGPLtkiAtz+cegDs7quJCFp7evh8H/E71rbSc2c0QPzXDZNc702VrR+Wq+D7fcm6qvLQbj3AtQFQD08xdv7UihU+CF+sViujbCkdTEUdEbeZgHaY1j3Me2GzXq43lxup8+gmQ986GdFut288p3QQho5UDtlsFplMxhICxM5GoxFev36NRCKBjz76CLVaDQDwv//7v0ZhqNfrRmQlv2s+n1sCQb8cJ0p5X9FoFMfHx/juu+/w6tUrnJ6e4qOPPsLHH3+MxWKB58+fG1ucA8yQmUoxn88D8G84GiQZj8ceWICYHRekdu3lolZl5TbaTCaTyGaz5uWrF84EgXqBShugkdJMmiatKOo98m9VwNtwKFXgQTZeFM1QavNYVWBMGFI4TxxPZtK1DyDrTReLhR1wpQpPDRCVGiM5KjfubVVS2j4NgCc6JPuBkYUaP96/X/28n+xUdFRIOiD0kiKRCJrNpnls5DcxBOEGoOcUj8dRqVRwfHyMWCyGZrOJ169fI51OIxwO4+nTpzYxnCi2audAcPEqXQS4Wvy8DnAVmrXbbTQaDRwdHWF/f9+8vVwuZ2Rmgu+LxQKlUgmvX7+27xlkwnCj0cDe3p4n+8rfuSFcvhNwrRRZKkclxay6zrfr1WmowfdxXShlgAufZUxaVeGGqMB1KA1crwd2QJlMJkYg52cHXVgaB3jPTmFmlXuLGW9i3FRm2qKcYSvfy9BTcThSxqgsaSjJkSRxmfdCfJzzzLXC9cbokE0aaAz1RD8A5kQpYX2Xt/5GHp2fLJdLtFotdLtdW6y8IbWePP2LWU7eHAfzyZMnSKfTqFQqnuoIliW5m03DLSWoArDBzOfzePfddz1eZ7fbtf8piRW4ZuoXi0XUajVLnty2hu6nKOfn5+aFcQHpSV4qOsaqrDhfpO6oQVPlqTwo3TDKi6My45wSE6Tn8SYP2wW+gevGot1uF7lcznP9IAuNDZUP50/3ErmG7XYbrVbL1js9OiqgbDaLvb0941q60AA9NxdSUJxPEyJancT5YBTAtUP+rIbV/A7EW2k8uVcZpe3C1XcqOr9zEyaTiXWmnU6nKJVKHsCXlgGA8di4kZhZ440fHBwY107JoABsADmw/Om63NyEVK60QMzwabhEl1vBVA5gKpVCuVxGs9m0zrRBFfagYwmVe8gI4MXiXP4ZuYg8fUszcppAIIVFPTvOn3p1mt2lhaYyJH0IgOde3HuicGOwWmaz2SCXy92rNk1KB6JwbhlSjkYjtNttnJ2deTqcqKfOw6MopH+pknOTPe4c6WeS9sPPCoVChpFns1mDxdyqBxpMKkytjBgOh1am+NaKbjgc3niu3W6j3W7j8vLyBgue9Ay2yyZuk0gkLNzlog2FQmYtdLNoKOK38dyJU7CSC5t/LxYL81joeah146aim16tVnF+fo52u+373YMiDCvm87nNn2JqSgLWrDqfZxZV3+fymrgwaeQUCGdGkN4HQ2E3+cTrKEbrdsdRTpXiRYrB1mo1DxE2yEJsjkklt6qI8zmZTNDr9dBqtTwldtrxh1gZIzWtgeb48ncNj/WhFLNGo4FWq2XKbrVaIZfLoVqtolKpoFarYX9/35wjxV/d7CtrYKlz3uT171R033zzzY1BZFxPagAPVuGNMMbmzTAbF4vFjCPHh2pqBUS1PRAnyU1EANeaPhwO28ZRhbgr9aweAQeQh1z3ej3D64IoZM2zTbViYzRGVCLa641jVCgUDDPlXNHaawaPi5KbjtflfG02G2SzWfR6PduAbradJXlcI1SkXAvkymnIRe8cAA4PDw2jC3rGFQCazaZ5XORH6vgz2orH4ygWi9hsNh4uJeciGo0il8uhWCyaEwHA2l8RvnD3ML1DdhwZj8fo9/vWFoy4GjF84Ko+t9FooNFoYLlcolaroVAoeNYU96jONR+3gSR2Kjo9Vo6iJEP3Q7gxNDZXINEP4NfU8Dat7OJzHGiKUg/8XuNy8PyE7+Vm9qsKCYpotpy8N1pQnQ8qFuC6QoKcKq2h5EZSL06NEBMLWq6loTK5jsvl0grRqVgVgNakCb0HVubw/hhOM8Lodrv3ikvXbrcNA6cxImZG+IZKJp/PWzmn1h2TQsZDaTSpwbGkx6beO+ClsNCDBGCNPWiYeC/RaNT0DB0p7Urkfrbeg2aF30QKv3OHYQCmSbWekV+eykTDGQ0t/LJ5Kq5Hpj/9Xuvyq9Sj8BNXGW77/CCHOMlkEuPxGL1ebyvznWGoUnEIMdCy0qPTxA0NBZVONBr1hL4aVjLjRkoSjd1gMPAcd8dkBT1HJRHzulyTBLWJzfLQnV3efZBkMBhY8kXHh2ua48ea5lwuZ8puMpncOHeDJH4aJxoWYnW6z929y+epmLin6DFSf3C/MmmpUAWvRUOm34EJxvl8jnw+//Y8Or83chETW3P5Ve6CdhXRtuvySynh0VU2rmemgKff9bcpMio7fSiPhxy+oEq5XEa73bZDcf7kT/4EqVQK4/HYwlgdXyZ3qHyURsCSHFpXeu/kVJKfpxgZlSAtNM+AIIGYWUC+PxKJWJMBTXjounIbugIwz08TIkE2YMAVGZx7FLg+VIbel/YIpIFIpVIeQq8mMlxlo2Gx4nXqQFDJAjAdQU+yUCh4ug6VSiWUSiUzapxnzp0buuZyOQ9vrlar4eTkxIMZ+slORXd4eGi/88I8P5Ot1PVcTy54Yj9+So6Dp89zgDgpGodruKuDq4Cneo1upsnF61S5aZmK+wjyhsjn8+h2uxiPx2i324bHMP2vBfycC24e9gajYuIBLBzTWq2Ger2Og4MD8yxCoZCVeTFzpsrn5OQE6XQapVIJuVwOFxcXdrCSUgoAeHhbFAWpiQcDV00p3nnnHaMsAMHH6YiN0bvVPUUvjKJ7kPNEL5B7mgafMALg5S5qlZLir0rf0i5FpJtxf1MR8vNJ/nczrW7JF/cnExGK6fvJnbuXMMRh/B0Oh+1098FgYBhLOp2+8cFvCic15tdQSi1xOBy21ymfR60JJ8DvM10FpzgTLQ2B2qDKer1GuVzGZrOxlkysUe71eqZkOJZKydHsnZ7OxFpIZs5Yu8yFzzAoHA6j2+167ieVSqFWqxn38fz8HC9evLDmkQCMLqSfp9gQ55trh+2faHyB3RhtUITzwiSD1itTFB+l4qCicLvUcO/RmPjBOjquHH9+HhUc95pL+lbcVqlOOrdaiTMajTz4HbsU8d62yU5Ft82rocZfLBaeEiEuTNI6/D54W4hJRceBVNKpDjK1uRJE/cJXv3tXjo/7fqVT0LIEVZjx5MJj7S9T9qrUaOWVfkIvnptiPp+jUCigWCxib2/PTlXXEIPX4E8tBQJgSjAUCuHw8NB4mgyneR0lIG8LRblWyBdTvDDoOB3HlWA/T3tTz0vnxX2veng6thxrVXQuCVs9Qr6G86pemSpPDUuVAaC4nybI1uu1Udg0g/ymCGynovPLgvKG1WrwiwyHQ2tTnslkfLlv20JZ5f1wEWuWjV+a9+QmFHbhgH6hqp+yIz63Wq0C3Y+uXC7j8vLSGjKwWwgJvMTOuMhcHJbkTFV2xWIR9Xode3t7xqJXAzIcDm1Rk0flegec+1qthmKxaLQEJj9o2TX04X3y/qi8gSu8dTAYoF6vo1gsWvPVIAuVTCKRQKFQsNPWNEtKZacJQnJYGSoCN6Mj4FonKG9R1wgNEfcWSfpcBy6liwZRy85cpcXra2kfD19Xbp8fgZxyZ8KwurZsh8SSsFevXqHX63lwHMb6BLjdTKkqGWZ+lsslGo0GKpUKCoWCLfRWq2XXIlC9TdzFT+XMCedG4/8A2GczDAuq1Go1RCJXnWeYgeNiYhLBPbja9X4VV00mk6hUKiiVSgiHw8ao13nVMNfFYMLhsCWASGSl4gVg9ZUaHtH4ue3VuaHItP/www/x7rvvIp/PW/Y1yLJer406REJuv9+/oQw4Vhr2EZLQOdZOIy6dREv+AG9rdcW6dZ/6ZWU5f66HzjknHaZQKFibKa4nZlvflFW/8ylg9ACi0SgqlYoB2BcXF2g2m0Yl4GDrQNF1dukfytjudDo4Pz/H69evUS6X8d5776FQKGC9XuOLL77AYrFAsVjE+++/j2q1aoPsJ64Xp0RY/k/vQSsp/NrIB0WIQZJGQCUTCl3XsKqSY8WJGgwqLVZXkBbCOloawNFoZAkL98QxjnUymTSFOBwO7fWkONBzBK7BbTZudRn03JwaSu/t7d0bekk6nbbsqXrkNASKnQHeqgaFknT+3eynhpuuglJ6khon/Z8++F7F7DSCAGBUGFJJGDEWi0UsFgtPAm2b3PkAa7ZkAmD4zmg0shbrTFBol1dmYTXOV2WnGRxif+PxGKFQCN1u14PRMXwl7qATSdmWVXWVnE4CJ5ZYTpAxOm4GgvTEsaiAqOhcmoG2caLyoQJiOEHeGkOh4XBoa4PvU2Y723SxyoZF2uyQm06nrX8eADOIPA9hPp9b+37guqhcqzjIDdu1EYIoyoN09xpwnSjg89uysq4iIhanYSv3tYsBaqir/1NF57IvdF8qHYk6gKV94XDYkhN+SRLPWOwaKD8uGZ9jGEBXkmleAoSj0cjTi4ohBifAHUgCzKlUCtVq1dxdguO5XA5/9md/ZpZKr6WsbA4SF7yyrP08Ob6PE0J6gl8VR1CkXC7b2Z88x4NjrN1HgOuFSsOgvck0U9fpdCzEJG1gs9lYlwzOA+Bd9PF4HOVy2SKDTqdjz2vnafY4pILmPbqtwNUb4Wvvk5IbjUbWpYcNEzQJ5yeuIqTSIEyk3h1FYQd9PzE+zdTyuvpaP0/SFd4HcWNGfOR/UgES233rrOu2ZITiL2yFo4putVqh0+mg2WyiVqsZWVC9MmbAOCBKMSC2p+1bqHy0SwEZ/erqKkagpSjKEN+WJNHeW6PRaNfQ/KTlgw8+wGZzVTXwm9/8xg4WpyebSCQ8xG8Kx3Q2m5nBoUHq9/sYDodYr9dWWsa52wVu03sHruaPG1TL0QhSL5dLw1Hp9TFqIJ7HOdbExX0IWSmnp6fm6WpXEoofQ0EhJX1OvXc6CcB1CKpzpNel8VP+nIa3folCFfXseC1+l06ng263a1j64eEhCoUCMpnM24eufm2aOAgALHnAxUYNTWxGD6lhqKJhK5MMFBI+qaW1gaNiAxwIl9vlTpKr1PwG1aWk8FpBPhwnl8vh6dOnVgL04sULI+syhOX31wJ74Bpe4BySSKwbRSsr3PdTXKhBS7goNEDqXSYSCTsDWL12DV3o5bmfc1+E35kF9IAXr1avSiEcTUiweSaVFa+rCaBtNBUqSL7fTV5wrvS6fJ8rijdGIlcdkUhpug1lhrJT0bmZx1Ao5KEG8IvQPab1ZpUEu7tquKOxuXoMesP84u6AqqJzwVP9fdvD/S7ue5TfFeQNEovFUCqVEI/HrdMHx5WHF/lhnsC1EQGue8qpp77ZbDxkXoUFdJx1wzH0UIWmn8E1oO2H3Myvrgn1Pu6TNwfASjMJKykNSMfVLwHBRI56y4qvaxLCDVv9xplRn+53GjV9v5sJdqMINuFl9pXXZT7A732u7FR0hUIBgHexRKNRa79MJcZwlu7jbDYz/EcTEvT6uNDJ21Fcxc8Dc7W2eg/uTzfJoOK6zEpvcQmNrJcMqlDZlctlfPLJJxgOh2g2m3jx4oXx02h13bmhkorHr87u1TGnl6dZV3aW4Pu11Y96XlSuau2J+Wn4s15fVeFwTaiS1Wvy//dJ9vb2UCwWLZPtR6kCvIkI3X+M0NQb0waqhBFUWVFUEVI50rsDrhOZjNTcjCvvhdfShAavyfvQaIGJybfG6PzezMUUDoc9WpUuJY835CHV9ACBa7Kx++Bn8X08dJjtnBkakZrANkpa9+jiELo59Xto6KuvBbz1lNvC9iCJQhDAdedgHjoEeE9sV8yEZxOQea/ZNzVI2sGEuA0/S/lXvL67LtRSc3NWKhULsQhWcw24YSvD6PsitVrNWqmT0sOEIGlCio1T+WkUpg07tWKGBkr5b+w3qAwH4Hot8V6YKZ9Op4ata4caN+vLOddOJqQzuetMu5psk52Kzq1JBK6VH+kDLBthEkHdX5Zq8OZ4w+oZ8LnVaoV2u43T01Ort+RgqavMgS8UCqjX6/Z/HRzdMH5hjG4cNzvLAbwPio7CxctsqZbgcAHpQotGo8jn81Y0rkKDpPADw431eu3JlPL1gDeJoIqOnwdcGyKeUcFoQs+N5XVcOsR9EcWqXO4of9Ir5hwRk2OoCnixTe0hRw+b+4X4GeeXc6v4mWZu6eWrMqWiUk9ev4+Gy6QaqefIz3jr0NWvmZ0mBdzwQhUX309FR1EPS3/OZjM0m000Gg30ej2rv9Twll88kUhgOBwiFouhXC6bsnNDXrXk2wbBLWXS9wdd3NBRe8QpR4qVLlzImUzG2tJrz0IqKvWSuTaUOO43P+rZq3Gi4eS9KpeKHgS9g1AoZGtNPYT7Qi2haKNb9bSUYqVJPIa4VFouuM+5475XdoU2TNBElRoben/8v4bQNGLM3rswBN9DI+eSxxlW/1bJiG0ZM36ocpio+Khdo9Gobxsf9eb4ZVl8zeoKtpnhYRnAFSF1MBhYNrDT6dhiLpfLSKVSvtjeLoXFMExT8Xx+V8VFkER5U9Fo1I6XVEIorSXH6uDgwNMwEfAy7V1gWI2jAtB+ik4VJWEGRg28LrEjrjGGyLoGlZl/nxTder22A6fC4TA6nY5HMel4KF2I//fDzlR5cT1obayuAVWkfmtovV57+hdSGa/Xa4NMOIdccyzgp8FlkgWAJ6zetWd37mY/JaGgsVpzKjWGl2S0k/fC7I1m26jlp9Mp2u02vv/+e/R6PSSTSRweHuLnP/85yuUyIpEIhsMhXr58iefPn6PVapmiI+ft5OTEAzy7XoObYeLEkPBM3hwtyH0KdyhMKBF/I8bDRa+4ixb3uwrLVSx8H3DdXZafx5BED1px54wKjJ/V7/dtU/Bv8vYUntBr3RepVCoeWEHbablZShbI08CrJ+iHzbpeNueSHiCjLcXcgOs1oTw6Kqxut+s5E1hhKP6uPee0YYAaTNe4unJnt0XZztrFggqDm2WxWKDb7aLX61mTRxJR+UUo1NqtVgsvX77EdDrFl19+iU8//RTlctnAbE7k+++/j4ODA1xeXuL09BTtdhuz2QzvvfeebRjXY3AHgV4lW0sNh0MDTokl3SdhWJhMJpHL5YwfR4Wihfj0Cqh4tikTlyTO0NctI1JsSN+rG4jKju/XQ8h5PKVmZnWj3ieF9+TJE0vSKd8Q8MJGDDuJlakx0ey3H8dNDZEmBmiwXEXHz+NaUIeHuoNenzorqigZdTGS4P9Z/reN4kLZuZv9Nru6rQQkCWSuVivT6ACMXsKGnKVSycPjUZCZ1mS5vDqJqNFooNPpIJPJmOe3v7+Pk5MTe4TDYWtD0+v1tuIxfkqOm2Y4HGIwGJiXwIkOcit1VzQsZB0hidu0oJppA7xesc6pCkMQpe4olstr6aHGumC5kdTSc96Ud0fvQM+L8PPg74Oyy+fzAPzr1HcpAjosrDLR2md1bngd9bb9jJIqKfUsGbJybfiJXtePz+p6cL+1ovPjkvE5usP8IsyAsXVTMplEp9Ox8LXRaODo6MgzsPSckskkyuUynjx5gn6/j/V6jXa7faMU691338Xjx49xcnKCvb09ww6opNzQ1U/Uu6DrfHl5iW63awTpNw1akCUajaJQKCCXy1llC0Mefaii0zCCQgWoHEpen92M+ToWZuu1NbGVSqWMThQOhy2ry7pcAumsnPCrwbwvCSZ6xlq2pSGjH/OAvDlyY8ls0PN7lRunOJ2bKXV/J/5O7i1Lt9T7pkL1axRABUpqC3E6fj9X2W6TnYoul8vdeE75c/witKixWAz5fN7Ok2g2m2g2m7i4uMCLFy/wwQcfWENLZoA4YLlcDvV6HT/72c/w+PFjLBYLZLNZFAoFAxsPDg5wdHRkXzadTuP9998HAGsayQWvk0lR+gI9x9PTU7x69QqDwQDlctkG3a/ON8hCZRUKXZ3vUCqVjDw6Ho89LZWUaqJZMI4t50Cz2dwArKZg2KJJIIpy7ACY166NGRlmKU+Pm1yJrHztfVByAPA///M/nu4t6XSz7w3rAAAgAElEQVQaw+HQwkZCBoA3yUBj8f3331sikLXn/7+9M91t/EzO/UNREsV9lUS1FrfH3R7bsTPODJAPQT4MkLvIxeUGchH5kgVInDGcxHZsj+1uqbWL+6qF5Pmg8yvV/xWlXjxzgEOyAKFbEsXlXWp56qkqPDWfaMRBAQtk78Nwt9ls6ujoSI1GQ/1+X5ubm9rY2IgMPqKmPaQ1LS0tRToPeRrJ0tKSea2h8Z0mb13r6jM2gJl+uC2Dc2DNt1otXV5e2pDaarVqGVIPUsZiMStJYkOSyaRyuZzy+bzW19e1ublpi4MHACF0WlbPKzqPK4ELNBoNNRoNdbtdjUYjdTod64w8rx6dJAtfadqIFcbqekoOxsOXDaHcQl4cl8qPq8Nz856C73TsaQeErYRB7DXJEc4mlxwc7yH2wCzKwcGBrq+vVSwW9fHHHysej6vdbqvX693LhEP7YaZHsVhUs9k0wn6/31e5XLZKFxwElGK3241AGigtjBEk5GazqU6no+XlZRUKBcOAwev8XvuoDG/TD0pC4eKt9vv9CPfzIXlU0fnOoCyS51PxwT3mgtUfj8fKZrNKp9PqdDqq1Wo6Pj5WoVCIdDPhA8Vit6TjSqVimSA4UplMxqZ3e7JpWAoSUl08aOkVK0THWq1m5MVYLKZOpzO1LGWehFCHZodra2vWr853kEHR4UmRUPDs+4fEe3Dsl/cUEomE0QZ4Xc4aU66kKOEbRQfZG29j3vax0+loNBqpXC5ra2tLkvTy5Us1Gg1JURzU42o4JqVSyWAoekKivKS7Nm3QfkIM1Xf+9s134/G48vm8isWikbtRXlRYeE+c+8tzgB/7mtvxeKx+v69kMvnLeHTT+utjrSEXsngcVpjw0m05Cork7OxML168sLYq3nvj4G9sbGhjY8M6Fr969cosNiCrByLx5jzfKuR2+Ywbi0cS4uTkxLoor6ysqN1u32sRNC/iD0k8ftvZF5qJ97LIkqLkwHY4Fx6QZk98Ji9MFoUegT9DfsQiB5v5sz5sRvESHdAK33P95iV0vby8VDqd1vr6uj7++GM1Gg3DNymwDz076Y6Iz/1rtVpG3E+lUjaucjweR8LO5eVlK/9kjAIKiPOBs7K7u6tKpRJJfnFefEaf98c9hVYCfMLngDXx2EgF5FFFF6b8pTtC59LSknGXcGXRtLjC0h2T+ezsTD///LOePXumarWqSqUS4WpdXl4a+EmR7h/+8AeNRqPIIGRviXzYOk3JSfd7W9FD79WrV6rX62b5AcXZmHnzBBAPG9CO/PT01Jocgo1Q9E3dq58e5rtm+N51nI/w9TxBWFKEdkDCynvxdOjwIazHacrlsnkNeOvzIktLS9rb29OHH36o3d1dLS0tqVKpqFar2QyYUOn7qqJ8Pq/33ntPtVpNJycnevnypeLxuDY3N1Uul5XNZo2nt7R020cylUoZ7afdbqter1sCcjQaaXt7W4VCQRsbGxFMD8UVJqAkRegv3hB6qCsWi0X6GT6Gq7/1cBxC1kQioXQ6bYAg7Go8Ldp1FwoF5fN588h8TC7pngvNRhAe+8lgvoQITC/MrPmskq9z5Pl8GC1JhULBvBSUuK/NnVehSqJQKBjFgLVGwZARzeVy5gX7UjoEgighZkhG9VUVPId01zbd43oIGBMeIIOPl5Zui/59h5R5Ej6/nwlSLBZVLBZ1cnIScVSAjzz8I8nalEu3hQBUK9XrdZVKJXNSuOvQwlBu0Mqur69VqVRULBaNFMxre8gipAFxzginpSjVjVCb7L0/Xw/JW9e6+nINPiCH39etkXkljMjlckqlUtYN1CsSPjA/4wN7Ho9fAN4Di4US9FUXIa0AXK7Vaqler6vZbGptbc0mh8Ol47HzBGBPEzxzsujtdtsMkgf9MXgYlnDdPI2A32G4vLDunCV+RhgEcB1SR6Ae+Ext2Ah0niSdTqtUKimXy5miwzNfXV21NuQ+fGSPfIVEKpVSuVxWrVbTzc3t4CO8tuvr6wj+SZ/AwWBgVVDj8W1/SpwcPH7CTq/spOhUMulOJ6TT6YjDgqL0zSJ84cJD8tYzI+wPl6OzVhmKwpuF40QmplqtqlwumxsbYm2+EwHAI+UsUFLgTGGBeFzo+rKAXsnhzZ2fn+vs7Ey9Xk/b29va2NiwS3J6enrPusybeA9oZWVFhUJBxWJRjUbDlJ9XXgDV/hKwR9775rlDHCbEjDzILclCZSy8r9DgMaFX4DOw8yabm5s2x5Z1LBQK5uVhNBC/zuCgeGm5XE7j8diSg1CySNohPlsKpo7HxZhJT//w3mSYKGSPOQdMgfMUJe59LpfTyspKZHbtQ/JOJWC8KBkwCIfEzJPJJFLzlk6n9fz5cz1//lzb29vm0Xk3Gu+NcGh3d1elUkmDwUCJRMIY23gUbCIK0sfuWHkIx6Soj4+PdXh4qG63q/X1dT179kyZTMaIw2SQYrHYTM+MeBNBGa2trenp06fGg5pMJrq4uLC6ZoBoFJxvB+RLjfwhDcNJ9t2Lx+x4P/4x/nt/UUiUhTW48yJ/+7d/q/fff1/ZbNacgWw2q0qloq2trchIUnAylJC/23hUwBKEotyRbDYbCZFptktkh8flPT+8cinKfUNB4dxAYYLi4sNdjJx3otLpdITPOU3eejiOJw7CkwGn8+CzdOf1JRIJFQoF7e3tRcJWlKL35kgqkM3xGTzv8nK4fbjss7D8HWBlp9NRvV63OaRbW1tWCQEtAhY4Wd+F3B7OYrFotJ/r62trvY6lZf38xCn+9l1fM/x/qOjCx3sPEsU6jxgdpHzwTf7FKOEhhQ1KvTLxySHCWDh3GKzBYGAGj70BSwXW4k77hFMILXl8cGnptk4eSMxzdhHv3Pj7/otC12l/GCYO/FQuvveVCSjFdDqtfD4fSQX7D/7QIk/L/PK3Pvz1i+djf09mJYuHW42y5rmwbmHp2bwKFyGRSBgnEloQg1f8lweT3+V1XifTKhx8dp334fudzRtWVywWIxlxFN14PDYSNZPuQ2aCpIhi8tCSx8IRmnH4UDTEUf09De8q+BqEYLw/kpVhvS44sKSIDpKizUamyWtbqYfirUD4OI+PTMNmfGKBx4eXYtqhfCgDGj42PNQPXbhpf7eQqPgDTxgCMTPsKBIammnP9S7Kb5pnN01CZRsa33kSEmtgVkAH0t3Ee/o6+s4l08TvrS8D88lBFIzvXkKU5ZMe4f5hmK6urnRxcaHLy0ulUqnInApfWIDi9CWeHl98nUGLzZO1W8hCFjKfMt9ksYUsZCFzIQtFt5CFLGTmZaHoFrKQhcy8LBTdQhaykJmXhaJbyEIWMvOyUHQLWchCZl4Wim4hC1nIzMtC0S1kIQuZeVkouoUsZCEzLwtFt5CFLGTmZaHoFrKQhcy8LBTdQhaykJmX1zXejFT81+t1/eu//qu++OIL/dM//ZNqtZq1UaLDBT2vMpmMjazzE53oRrCyshKZuOU7H4RdEiRN7ZBBs8dwChQ9ruiVNxwObVYErZyTyaQ+//xz/f73v9evfvUr5fN5623lZCbbmvz93//95OXLl+r3+7YH29vb2t7e1vPnz/XZZ58pm81auxxG3dGyJ5PJTJ2UFnZ2Rnx3G9/hhhZCtOA+OTnRd999p3/7t3/TTz/9pGazab3UaK7K9/Qu29jY0OrqqnXjGI1G+s1vfhN5Pd8PTZL+4R/+YSb39f/KW3fpYH1ubm704sUL69tIJ18/inLajAf+75ud0vEkbJvuO5+EMyIkRR7rO6JwDl831lAP3Nm36jDMm/c9+32bl8caI/455LEBNr5F1EPvyffKmic5ODiwyVyXl5eKx+PKZrNaX1/X1taWMpmMVlZWIi12/CH1bXI4E1LUGD20rg810qRbbLFYVKlU0tHRkb0Wc115TfaO9vgMUGGv9/f3H/zs87bXrxPW4+rqSo1GQ4eHhzYHhnV/XWdn//OwJ6FvpeR70vnf+ffhnRX+9efND1Z6G3lrRTfthR7qz///6lC9yQcP5xJI0xs5zoM0m83IxDU6QJfLZRWLRWuA+FCfOd/7jS8/NMdb64fanYediOlEnc1mVSgUIo1R/QQomi/S4XgwGFg3W7yATqfzZ1/DWRLmQpydndnZwHsK77bv8xd6zNMaeE6TcNjVNOOHkgv/zs+VeRt5Z0X3uqaW0xrt/TnkXZtmhu2350loJ8+B29zc1NbWljY3N5XL5e41VgzFDyrxMzq5GAzA8QaFsIa/9Q1aJVmIkslkVCqVlM/ntba2FhmR6D1KXoP/oxiZ/ztve/quQjPLZrOpg4MDdbtda3jJevr7Ps2je8ibQ4lxLjBYoVc3DWLg597I0TH5Xby6dwpd/Yt7mdaa+f91ODtNHlqYeW65DcZVKBT0+eef6+nTpzYPNcRUPN7iO86C2XEZpOhMXq/I/PPwfz9Mx+8Dw1wuLi50dHRk84L9a/qW6bS9Z7bBY7MDFnInrHmz2dTZ2ZkajYaur69tfCHry54CVYVjDHguH8qGEAbjFL0R9eNJw/fkjSmeOs/DmIW3UXZ/co/usfbrb/pzKRq/PxRG+V71WAEsAbMnfS95ZkFwETqdjs7OzixkmxdhUEqlUtF7772n3d1dFQqFyHqFxmHagfT43DS800958p6b/z68SEyZIpTO5XJqNBq2Z+HAZTwSwOppM2N53ELuhPVnHitzJFAoIczg26L7n01b61DhMYcl1B8+YuDnflCOH4zlzxswxUMO1zR5K0XnRxwy+swrJD+r0X8Q7xmE3/sMS/jzaQouPLA+ZmcxvCXA4+B9ra6uajgcWrbv7OxM6+vreu+99+7NHJ1VYVwdyYdisahkMmlr6Q9ROHshxFWkKFbj116KDqsO99D/HXu/vLysZDKpQqGgUqmkQqGgRqNhyo3LwOvgKTAAiZGYC3lY/N6BczI4yieheCxGLPzXG6iHHst94jF+9kQYNYRhLO/PP+bq6sru859F0U0mt2Pkzs/PdXp6qm63O1XRcVjD1HD4M7QyWto/JlSYoXfhvQM8BGaD+lmxfvGTyaRSqZT6/b4Gg4G63a663a4ODw+Vz+f10UcfKZ/P29/MsrLL5XKqVqt68uSJqtWqMplMBND3oUJovX0SYxpeEwLNXmF6pRl65oSjXgn3ej1Vq1Xt7+/bvsZidyMxvREcDodmyDKZzFRMie8XciuTyUTD4dAUnb93/jHSfYoQ6++N2zRP0Bul0CMLoQx/z1F6/J1XhCi61dXVN76njyq6fr9v/x+Px6rX6/r+++/1448/qt/va3V1VWtra5LuAGK4NvwOReeVIAuKtxXydPxjvdYPvQbeF/MdwRWw/Pye2H55edkye5lMRufn5+p0Ojo8PNTLly/12Wef2fPOsqKrVqtaX1+3AcSJRMLmcfqRj4j3sv0eYM39UGK/3uHBle6GGHsvLpVKSZKNvFtaWrKsX7/f1w8//BAJXxGvXG9ubtTv942bF75f5CGGwLxIqOhHo5G63a7ddbiKKBQew+/834cQBI/xQ8zDPSOTPi2yk6LjVOPxeGTcKdicn+nK3/AeHrq3jyq68/Nze4LxeKzz83NdXFyo3W7bhwrfMMrLe3JheOrD1BDw9l6d1/yhogsPMPJQFtUvpHeDO52OBoOBjo6O9Omnn07NMs6aeEs4DTLgwLBX4X75x0jTgWj/OMjcPkz1SjIMk/1g8d3dXT158kSXl5fqdDqWmPAhEridB7DD8HXhyd1KGJYS8o9GI8XjcQ2HQwthofw8tt/TDEeYSAjZDR5T9xl6b/wem9vKzFqfyeWzPSSPKrrT09PIm6jVaup0OsZO5wOEHlk4+9O/+WkY3DTl571AHjNt8bwCC709fo4F8cqRCeQsWq1Ws8fNunhPx3tdYTg5DUbwRkfSPUXG32LJgTy8ogNuIOtKKOqztcvLy0qlUiqVSqpWqzo/P78HmHuj5xMjePULeb2Ab0ISHg6H9jsGYWNYQtgCj26aZ8X3PuHg7+a0e+s9vVCJ+ucIQ+I3kUcV3c8//xxRdPV6Xe1228JUXmw8HhuPySssf1HC3/mQJozRw9DVex8IlyJ0ecOwdpoV4rGpVEqXl5cajUZWboQXOcs4HWVzPtOJMvNKw++Xz3T6PWMfPFWHfUMJ4iV45YonwTR2f9h96VA+n9fOzo4ODg7Ubrc1GAzsc/D8XvmiBBfyeonFYrZ3wD2A/xgihl97yEm6W3v+j3hHwSs5n5333hqhbKg4Q3jEPye/o2rmTe7po4ru66+/tg8ymUzU7/fV7XYjF8SHCtls1oDC8CtUcPxN6OGFjwsf799P+L2/sHgV08BUZHV1Vel0WpeXl+r3+1b7OeteHcBzWLvovaLr62sNh0P1+33VajV1u13LtuMNk+DhsMZiMathRvGMx2PzDDjIlBu12201m00NBgNTsExopwZXkgqFgiqViprNplqtliRFFLMUhSzC0BlZKMCooNhQYt1uN6KcRqORKTpfFuY9/Ovr68i6YwynJRlC58dnTgmjPWcyLP0D+yfa89786+RRRXdycmJvwr8RfuYvC2/Mv5EwrucN+w8aKjskPJShVvfgdogBeKUZWgT//ITI19fXury8VK/XM2U9y8Ieht40v2u1Wur1eur1emq1WqrX62q1WhoMBrq6urKmDfyby+Vs30lOeRwwxIJarZbOz8/VarXUarUM843H40qn08rn85ZJ56xkMhmrwfXUpjBxgiIN93yh5O4L+0JGPHQKlpeXTZGBveORedgA8eEmYahv5OGVW+gIER1wRsKMrP87HzG86b4+quiazaYtCG/eZ1FI8Xrl5jN3/m+9eEUUZsdC11WaXrzP33PIww8d4oBepoGfo9HIwthZF6yzP2SEDtfX12q322q32+p2u2o2mxFFd3l5qWQyqV6vp7W1NfOIc7mc0um00Xwwcjw3xoRyo3a7rU6no16vZx5maPnxNHgdnh8vQ7pfE8nnWMibCXfaQwveQfHYmdcD/C6836EHPU0Z+dfwXp50h++GEIp3iqZRYF7n1T2q6LC0CHGxdNeyZ3V11egJksyr84pu2gKGXhkHNPTc+H2YRQuzRw8t5EMSAplgTf45ZhWjQ9F53BScpt/vm/IhiRCCyHQN6ff76nQ6dhEIWUMDgwLt9/tqt9uq1+vqdDqG3dHOK5lMKpfLGYHZ4y+FQsFaR/V6vYgiDUPYWd23P4d4GshjzoW/oyGnLrzTYaLBOyMkk0JKEkoNwjfvycNZ09gBfxKPrtvt3vuwuLJcFN8nin/j8bjW1tbuWQbcU/71is3/DCHmDzOu0zw0H77yPCG4GSYmQuszL8Xgo9EoYqDAX+nft7S0pFwup1wup9FopCdPnkTC+9PTU9XrdSObEnKm02nFYjGrspBkf9fpdFSv11Wr1VSv1zWZTLS6uqpSqWTNBFKpVKRe9ebmxvrMlctlra+vq1AoRCIND2Ij07z4hdyJNwwe3PdhqoeY/L0OHY4w+eDxeOlOZ+DN+z53lPrRq9JHhjwXe+wTJkBLbwMxParoSDX7Q4QyCONt/yFZAP9GpTuvCaUFoZjngp3vuVUeIOf7aeIPPSDqtLD2IXA6fG+zLnjjPgMKXoPxwpBJd5UNl5eXKhaLOjk5iSQHeA4y8uA5XmENBgP1ej2NRiMLR0ulkiqVioWlXDKfuBgOh3bmEomEJN0LV70xe8wbnwdD9jrxd8ErpbAzCGvuif0+hJ2Wnfd/GzozvtYchdXv95XNZpVMJi0J5fUJ5847OijJpaUl41y+Th5VdKT+/QKFjHkPLHpysH+jCFk73vjV1VUEcETxJRIJO9Be4U0Tr0RZWA98P+SC+7/1m/IQ4XiWxBsoKdqpmfCdw+YTDKwnmdEwvPUZeLA6jMfV1ZUpQqIBDyp7LzwWi1ln6G63a0kQooFp3vhj33tZeHpRwdGQdO++cJfD7sIeNvD3P4STwgiKjtWEpXhpJLhSqZTS6XSkUMBzMHGe0A1EI28ijyo6QN+QuOdB41Db+7S+d18pNfHKZDAYRLh4iURC6XRaqVRK2WzW8JtpGJ1fwNBjxHuAeBomRtgELpVXkrOu5CRFGh2Mx7dNFwlbUXYYIZpyJhIJy8geHx8bjge1xBs7yv98Fo2DTcgKtaHdbisevy31Yo+XlpasJrnf7+vq6kq9Xk/D4dAwYs/pm4YVPbSP87C/rxOvrHwThGnsBYyWV4jSffYEfx/+LYoQqGR5edn2kprzXq+nlZUVpdNpFYtFc27G47F6vZ4pVEJcqipQlJ4i9ZA8quim9fXyygwsDuA4pHzwRi4vL9Xtdo2ki2ZfXl62C0BXAry66+trU4w0AvSdb3l/3rWF+8UF8eRSlDKbw+t7DADS8KwD2mtra3boKIPDg2LtvDFLJBK2Rv1+30oBMSbValXFYvEebkvoyYFPJBLKZDKG1wyHQy0tLandbtsexmIxM3LD4VDtdtv+z3563Nd/7xNcC5kuHuIhVPXKCqVEgojoisQQe+STBJ78zRngd5wbrwRTqZRBF/V63e5qr9fTYDCw39N4FUw2k8moWCyaEfW8ztft+6OK7iG8ypP3fG2rdzklmQKDwYxryr9ra2tmXVgolKT30tgUWsmwgH4ojn8tz7TGCwB74n3iqXgPtN1u22tM8yBnRcBCsIoQpuHN0cjy6upK7XZbp6en1tqKwvvV1VWlUinl83ltbGyoUCgonU5HMB8uA9Z6MplobW3Nyrmg8/R6PSMO39zc2EH3hHAMn2/eyO+8V+fDqnmU14Xtk8lEjUZDR0dH+vbbby1pmM1mDT/zz+FhBp6ff7l3eGjcX8rKiKzwyong1tbWzAvzDVpRmkRiyWTSyOW9Xk+5XM4oT+DLnU5Hz549Uz6ff1TZ/SJF57944RDcRDERlnpFl0qlLLbHWyB84kCjsDx+5C0FHp3/v4/nCc+814eLnslkzEuUpF6vZ7+fZUWHV+3XZjAYqNPpqNFoqNPpWJ+yWq2mo6MjuwTLy8uqVCpmJNLptKrVqkqlkik66c7L8h6CdOtNYsHBa1FirVZL/X4/EqaAD3JxYM6HoHiYiJjXEPWxz41yarVaOjg40H//939rZ2fHlEQqlVKn04ncFx+iSncdS3guMvHgqFdXV5FWaPAxu92uNWXg7BFZ+WKDXC5nr0uJZqPRUL1eV6PRsKiQJNn19bUls6C4TZO3VnS8CVLBKLppRfi4lVh/LhiusE9Z8/eEUyg2FBohEK/PorMhHtyUZAuSTCYjmVgeB/mVRV9aWrLLN+uZ11wuZxABQphYq9XUbDYtCQAWB7ZGZ2JCj2KxqKdPn9rh8/vvQ1lKxbDigNPwqvC8sfyEz5wV8D6mlvFcvgzIRwELuS8oJ4zX8fGxNjY2VK/Xtby8rGw2q+FwGGm4wH2DQQGs5HF3FB1niPND5Qv/x4j6PUMvMCp1fX3dnhOP/+TkRCcnJ+r3+2q1WhE6ymQy0YcffqhKpfLuim6a++/pI76HGV8sKB4ZVpkvXyvHB8YS0AfL8+F8ksBfHp+tI/xiYQBZwRjYpOvr60hpU7/ft3jfe4iz7g2QzicDhgeFNcU4DYdDlctl27tMJqNyuaydnR1tbGzYaEIOPwklf25IJGEUk8mk1tfXzfD0+30dHh5qa2tLtVrN2oDRqWQymRg/bzgcqlarWeYWg+gzsSFuN68yjWsqyfZ8dXVVT58+1QcffKAff/xR9XrdHBJgDUJIHIEQUqLrDwqs2Wzq+PjYCOGdTseagKytrWl9fV1ra2sRfBf8HmOIJ0cD1vPzc/388886ODhQq9VSpVKJcPG2t7eVyWReG4E9qujCLIv/1/NafPYVTR+C/nCjCFO73a4tCGRVSVY/mc/nIxmWcKE9NweuFe2j/Ot6nh+KmM/Q7/fvKVJ/WWZVMpmMWcXr62sLOcHbGo2GarWa+v2+YXKJREKpVEqFQkGbm5sWLnjaAesWdgD2HhjGjr2SpFKpZEknsCL2czKZKJfLKR6PazAY6PT0VPF4XBcXFxYK+TMRnpN5k4cUvE/Y0KoePLRarWp5edlq2zkbD7EdUFDMgWVMItEA95HKGVgUW1tbhteDhUt3M309eRxD++233+ro6EidTkfxeFzPnz+3u1woFPQXf/EXZmwfk0cVnW9qN+3DhnVoPnPjvS+P2TFzotlsan9/3y4UWrpSqahSqWg0GqlUKpm1DqsW/M8JaTxdxP+Npz54IisK2WeR5kGSyaQlkiaTiVlxQhYUG+Ax1IBUKqVcLmdzV30yCgPmOXVcLo/bejIxHgN958BxgRXYo3Q6rXj8tttsMpm03+MRStPZ/guZLslkUvl8PoKN1mo1nZ6eamdnx+5tWDPss91ER4SqhKuSIpSVq6srw8+4dxhBElUY0Gq1qr29PcN7gbEweCS/+Hdvb0+7u7u/3KObpui8MiB09cW2vuCWEMMvTq1W0/n5uV6+fKmDgwOdnZ0Z7jIej7W9va1+v28LAOfKE1JRTuA2ZHxQWJPJxLwRnwzJZDJ26Uhdk3WaxrebVeHg+S6y0t0eoXx8OAreSXcX9htowrfiRmF6heezdYRPGBrwu0wmY+FomJTCwyiVShoOh4YLtVqtuYAb/pQCFnd5eanvv/9ef/jDH3R0dKThcKgnT55EqFfThHNC+Mkdo6MNSnI4HKpSqZiCOzw8VL1ej0Re2WxW5XJZ1WpVz58/12effaaNjQ2DK/7zP/9Tx8fHkm7rnTkDH3zwgX73u99pa2vL2BuPyaOKLpPJRL6HjoAmxoMiLEkkEpGaNOZDgo81m00dHh7q6upKT58+NWVzc3OjnZ0dff/99xaf88bDqU6+qwWKjku1tLRklqXZbFqPObhZu7u7kQwNF5iQKplMRigNsyp4YB528DSfpaUllUqle8kl9rHT6diA6UwmY4kElJgk89A9F5OQB4zQ18MSAuO9ecqQz9SRIaYJ7Pn5eaTMKCQPLzhGG7wAAB3CSURBVOROWJNSqaTJ5LZj+DfffKNXr16p0+komUxqa2tL6+vrWl5eVqPRuAcV4UysrKyoUqlIuh2ATiiKp0fGlTODh57NZq12Np/Pa3t7W5ubm1pfX9fu7q62t7e1vr5uJYG/+93v1O12dXR0ZO+hWCxqa2tLOzs7xrH9RYquUChEPqB0h2vh9pZKJUl34QkDSlAiWG54bKVSSePxbUfiwWCg1dVVtdtt/fDDD7q5uVGxWNTGxkYkRFpaWop0//WJCF4bzxJA+9WrV5JkQ1XW1tYsbF5fX1epVIrUcvryk3kJY31Gjc+NEmS/IXVjsOLxuDY3NyPhCPw69iOkgHiaD56E5/JNJhMjfwKJoPggK/uMLfWxhULB8B5/IReh68PCWnI/Wct8Pm/JJTiPHmLwnjkeNt1m4vG4KTIMHHva7XbNOx+Px8pms4bDra+va3NzU/l83u47SpDE1W9+8xv1+339/PPPqtfrdnez2ewbVUQgjyq6sGCWQwQ+wgeQ7kJaaCEcVC7SaDSysXqUDPX7fe3t7SmVSmk4HGp5eVk7Ozva3NxUsVg0rc4G+ewpF4yfe69kOByq0WhodXXVSKaS1Gq1zGOgXpPL4kmqvMZj6er/n4WEEZ4QCQO8O5/59jgripB2SVJ0UAneVMin5DV8hhzScTwej7T+gm4CBOIxVN5XJpNRoVBQLpdTIpGIdNnxj10ou+nisbFqtWr7ks1m7fzzOIycp3V5fM1XLaHooH7w+GQyaXeWjiXZbFaFQkGZTEbJZFLpdDoSUfEa29vb+uSTT5TNZnVycqJCoWCO0GM5hFAefSSH2QsHiawYvDTpfhM/wlfp9nLhIUIOXl5e1tbWVoTMm8vlrJss3gTWZWlpyVzkq6srKxEja8PiS3dddCXZ4hLa4nkwJHltbc0wKJSy91ZnTWCuhzM3PAGc5A50E77A9iQZhgbnSrpLNkAzwRiRHYctDzuecJW9Gw6HUzti+HOGJ0LfutCD82TihUyXlZUV5fN5PXv2TNVq1fhzZEtZfx+RSVG2BV4XFC1P3r+6utLm5qaePHliZZVgchQK4OH7sahh3Ww2m9Unn3yinZ0dNZtNTSYTFYtFFYvFe9HHY/JaRRc+CW4sWM7Z2ZmGw6GFMrS5JiNWKBTMLb68vFS9Xo+0amHGaj6fN4s9HA51cXGhVqtlpMKNjQ1r3Eio5HlWDC1OJBLK5XJGhMT6f/DBBwZgU3LEhQZQj8fjurq6UrPZVKPRmFlFR02w51R5ag1JBr733rn3rDjYYHQ+vCHJMxgMjBuH0sOC49H5hJEvNcLTANvzShWeVTabnfoZFxjd4xKPx5XL5YwnSWJof39fw+HQiNoQdzGE7AMKz49D9KWXklQul80z54vnaLVaevXqlXq9niUffBMA9g+jSXQHLuj5uG8ijyq6ae6/Tw1Ld5od7g0femVlxZo38iFarZaFHul0WuPx2EpDJKlSqdgQlsFgoHw+b17Ezc2Nzs7OrJEAGTqfsaWmcmNjQ2tra+bVra6uKp/P6+Liwvh5+XzeZhDwWS4uLiTJLNSsiq8iQXmQ3KGfnD+cKB3/f84GNB64bww2xzKTvGDv0+m0CoVCJIsenjGvRPEawfBQ0mTOMXB+v97Uys+j+LVGKVEp5GEejBqeuHQ3Q8Ljsf45Q71Aws8nimBeHB8f66effjJ6CIYvbOGEEby+vtbh4WEkWfk2e/yoogt5NP7AY+HxhqhE4M1BF0in0xYCkz2jC4EkHR8fGy/K00ji8biFm+PxXSshFiSbzdqh96HyysqK1bAyAZ5NGw6HERDVh2GTyUTNZlPX19cWOs+qeICZg8XaE7p7fBXxys0/F8X/9XpdFxcXZvTYu06no1qtJklaX19XtVqNFI9Pixq4hL68zzf3lGSgesihW8jjMhrdtsw/PT3V0dGRwRSeveBZDYSwPjmBLvAYvSftenxVuquWarfbevHihY6OjtRsNvWXf/mXkXCWx3oMHoVbr9fVbDatg8mfDKPzOBdvXror1KZfGYqObgOEQwCNkD1h35PdAb+jhIQPSSxfKpUsVQ1NBFfWl6Z4CwOwHo/HtbW1ZdUatPOmsUA2m7UMFJvAgG7aO8+qEGKg6MhaouA8PuZxMq9E+D90j5OTE+3v7+unn35SpVJRsVg0gJoicg7s7u6uJbKwzoDg05Sp5+CFFxLaia+QWMh98WszGAx0fHysL774Qv/zP/9j0ReVC9wfPGmaOdDVV7ozcIPB4F62PnwMezYYDPTixQt98cUXajQaqlar2t3djSQWcKTA8cfjsfL5vMbjsdrttl69emXw1Ns03nhU0eXz+cgB56DiRQEywpNB4/vD6hny0q1S63a7Oj8/lyTDbvAe8P7Q/hAMl5eXtbm5aVOqKAlBWRHD+0XmtQnFSF+jKLk4XNRut6vNzU0jKs+qEA6i8NhPLLL3kLwBke6gCkLLy8tLnZ+f67vvvtPXX3+tr776Snt7e/r8889VqVQ0mUz06tUr/fDDD3ZW9vb2jDoEidufE48BsX+cLbwPvDrv0fnM4LzKNMjFe1WdTkf/9V//pa+//lpffvmlJOm7776TJH388cf6/e9/b2uK50fk4x0DkoEkLmjQ4AsIyKKj5Gq1mv75n/9ZL168UCqV0kcffWSQB/ucTCatdT6lopubm9bC68WLF4b785n8Z3xIHlV0lGD5J6J/mG+L7omdhLsev5Humnh6q4z3RqiZSCQiNXIUduMW+1CWRcATlGSeGIrXV2ssLS2pXC6bh8LPOBwAsMVi0RTirIrfO0/F8MbJV7V4as+0x7bbbQ0GAyUSCX344Yf6+OOP7SCOx2NtbW1JknUkCWtUH/IcUYzgRIStfh5IyKWad7JwqOhDmOGLL77Qv//7v2t/f986gTCYvt/va2dnR91u1zLheHPshcdMIQSj0Gie65MEVLHU63Xt7++r3W5rY2NDyWRSrVZL//Ef/2HKGYcFuIuE2GAwMK4tlTFhSejr5FFFN620Ao4cH8j3o/MhRgg28zu0tsfAsNhYbYiGeF4+nMLagNk0m00rFIbOAomUy8AlArPz78fjVOl0WrlczvhEsyq+PGua8vLKTlKkHMhbUPYNqGJjY0Pvv/++nj17FlFM5XJZmUwmAkF4Q+MTH3wv3e2Nx+k83YGQaVpo7Z9nniQM8/3X5eWlvvzyS3377bdqNBoRriPK5OjoyO69z7yHySs/0ctj62HZZ6/XU6PR0MXFhc7Pz63h7fLysgaDgb755psINSmbzapYLFr7JhyOZrNp7+2hGtzH5K3aNHmAmEOG0srn8/bB/eL6izOZTJTJZKxLAZofz49WS9A/1tfXrXAcbhuXitemlxm1rWB49FMDw/HKGA+BjYNDlM/njXUdDgaaJcEyQynwLeX9fiGel+aL82nrk0wmVa1Wtba2pl//+tfWIptGpvl83jKztVpN2WzWuFOhkvIUFs6azw6i/KToXAI8fW/l51HRAUMQ5tMZiJb5//Iv/6KLiwsj8HtPmpK6J0+eRBINPgPqByKxTw/tF0mqo6Mja4m/u7urVCplLIoffvjBMOLl5WUVCoXIVLhsNhtpCru3t2dn9m1girdKRvAzkgr+gJHNjMVi1vPt5cuXKpfL9ygmHkymKBuuDM36Op2O1tbWjHMHMOmb7hEyraysaH193Ya1wNNiADeKWIpmCRuNhl2gZDKpp0+fam9vz9zqWRW6wWIYpOgkNPZUulNyELOl6HSoVCqlv/mbv7H9waAUCgVJd3ynZrOpXq+narVqVtv3PeM5vaJDfIaWS0xUQViFYfXvcR7lH//xH00ZEeajmIbDoQ4PD232BrQS6tcl6dtvv1WlUjHPC24sz+U7DSWTSd3c3JjjEbbnh5PKHd3Y2ND29rYmk4l6vZ4lMWFU4HV2u13jte7t7VkY6yMu3538TeRRRRf2eOIAYkU5jCwEFQYcWqY3AVbmcjnz2qhFJfxZXV3VYDCwEBNFSq1rJpPR2dmZYXJ4cngWKFi8PDYJxQjXDvGJDzJK1WpV+XzeFnZWBa4iB9wrGSmqJLy35b061hKMdWVlxRQSXZ15LJ40kAL74RMIPlseKjz+FhDcZ/Z8GI7C9M/p3/c8yFdffRWpWPHVS2RJUXQ+ESXd8k1PT0/14sULY1NQnYSzwVxeDA01yzwezqvv1s35KJfLFvHFYreNNPgZFDOE5OMnn3wi6fbMnp6eWukfTtWbylt3GPaHDGXgp3qhuFBQfDB6iflMTCwWMxyO+N5bEvA8r3A9qZGwFM4WHh2/823ep11W0uWJREL5fN7G+oVtxmdNvMX3Si5MCDxUSsXF8CCy9wR9KQ9YD5USnl+FpzgtdJUUCaF9iOprMAl7vMfnQ9t5k++///4eIZyQHwVElpMvoKOlpdumHMfHx8pms6pUKiqXy/cI3NId1xFPju4/a2trZvBI+uEAUcXC2cjn8/ZeSD6iA/gbIkHeWzabfe18iGnyxuMOOXC+uSKEzVwuZ+PuAJvB7jjI0E98xwPPnodm4n9PmMzrbG5umuvMe8NDJOs7GAw0mUyMVBy2XfcYI62CKO73vdZmmaZA+M6h9cou7CkYYl4eePYJDc+I98qM58Pjg6clyS6OT/yEiYgwM+u5k2CzKFB/afmbeZOvv/46Um/uxZN8WUfKHv29Pj4+1vLyskqlkjKZjOG5RHPeOAFVwKOlgB9PcW1tTfl83qb+cVYoAkCv4ChdXV2Z0hyNRjo/P7cyNWAwGsW+jTyq6Dqdzr3F4hChEFjQsBgXBdhqtSKFwlh8/p62PcTxfC/dAd5sEl4YRNRut2uL7fk9/oKEHY59Qbt0B2hTxTHL2VaE5greYEj3s5+EgB7L42D6w+9/zsWRZB4+YQkYmqeEcPG8h+dBbb58I04SG91u14YmeU+Q/Q7P7jx4eIwkkKIGjH0FC8MDh4mA4SApcXBwYIX/tMqSZP3k/CwY31YpkUiY8zEYDJROp03R0S6dEZoHBwfa3983T46EhHTLt/3jH/+or776Sp9++qn29va0s7NjVRE+EfIm8qiim2YRWTwUVdjRwh9K2vmABeAe+zQ0l8Cz83ldH3KGfC9PeEW8xwYW5IFWT1PwYRtlaW/T3+r/Z6Gm0Ncthl/T1ozvpejwcPCz4XCoer2us7MzuwSJRELn5+dm/GjigBL0HrZ0N9lNuvPifLE41AaKy6X7Cs3X6s6bQNvyit8LzoBv7CDdldNxh66urnRycqKjoyObsEXigb1FsYF3o6SoQcc7Y68l6ZtvvtH//u//6ujoyMYXEukVi0U7f41GwzB4nBcaEfgZJX8SRUc9qj80YRumsOMAHDcuAq6tn8npwxI/4xPvzF8yb418COo7WXD5fN0m1t8vxmQysb/Bfec1wevm4XKAbXmuoRStZQ0rFXgcYYtXkMPh0NL/x8fHOjk5seLrRCKhs7MzSyyVy2UVCoUIiE0yifcQhqz+5x5z8nxILz50njfxXWak+4RhD8uQkQWLZd24n51OR8fHx4rH4+b5+dZphL7cf/YDRQe/1f/s4OBAh4eHajabkmShKIOZut2uzs7OLOKCg0mSEThKejsP/VFF9+zZswgwvbS0FBlG6+viwNIIIcHSSCaA0/nNgNuDopMUwch8+yDCYzbCE1I9OO6LjFGePkzynCAWKwynZp1dTycR6AFepikQkg2eBC7dedn7+/v64x//qKOjI52fn1tSiC9Kg8BrCoWCisWistmsDTvxiYbQu5TuPD1ffcP7DTPD886l80R9/y+KDgN/fX1tfSElRaIpeKsvXrxQLBYzOhCZVDx0YCiU2erqakTRcXbgwtXrdRuGs7GxYVVRjNJ89eqVfvzxR9VqNaVSKf32t7/VkydPlMvlLJR+l0ThaxVdKLVaTfF43Mi7xPYcbqwJMTrcGnpbeZeT/nJweSaTicX8fsNQelBX8Mx8GZH39FCIYEX+AHjF6F8nZFvPsuzv71sreU8w9eU+vgKCgyrdKcLxeKx6va7vvvtOP//8s9LptEqlkj755BNtbm5GCL4cfsqG8PpisZjy+bwqlYpZbZ8tR+mB8fpzgifOZfNezDwqNyQsjQo9Xh8lEaJKihTye6PBrIZut6tyuWy8utHoticg4xDoFgTZ3ivNWCxmyu3DDz+0MNQbOF6TkQcfffSRKpWK/u7v/k6pVEr9fl8nJyeRiV9/VnoJi8Uh5qJ0Oh07pGhcFo2WTb1eL+J1QVwlzKRvGQXDsKlRdFgPXGUW1/N9JNnCe28FXI/nI0sk3brwrVZL1Wp1LkKew8NDw1B9J2FoGz70I2nh+WoMOarVamq32/rVr35l7a1pdOoTVRjD4XCoTCajbDar09NTtdttq2DBkPlZIXgKYROCkCjqQ6h54sxNk9DrDsVnqD2MJN1hmz6RB+mX7zGEfA88sbq6ao1tSWrgsYOr0YsOcjmVD762tVgs6tNPP7WkytnZmd15jPPbJiKk1yi6aQsW1hrCumYylLeyeG4oPobSspA+pU21AmExHUp4Dt//DtwvlUqpUqkYW5rF9666x51QsCF4CsCNFZp1RddsNrW6uqpOp2NJIj474L8kw118eR6W9eLiQldXV8rlcqpWqza/QbqbACbdDRhHWWHdc7mceQo0ffS4jk9E+SST9+DxGqUov9PLvCk+f2eneXbeU/eZbn427TGDwUDLy8tqt9vmVBClAUmwXzgzKLp0Om2c2vH4rvaVkQhAGYxKJHlJ9USz2TSvf3Nz853v52tLwMLF8l1K0PgMpN7c3DQFlEql7A1DC8Et5cD7rNnV1ZUODg50fHxsFzDkAo3Hd0OzsS47Ozva2trS9va2kYz9BfHcIbAiUuF+s0mWsGGzfEEYPNxqtdTr9azrhFcUvvoBbIx+YCcnJyqXy9rZ2dHu7q7G47H6/b6V8wEb+PDVe4gYKvrWMQCZnoEMV/Yeht9LjBZnLyQiI7O8hw/JNHwu/H/IO/R4degt4Yl1u12trKyoWCyaV0UE4EeS0rmb4TfgwNDB+v2+Li4urCQwnU6rXC6bUpRuIz06GEnS8+fPVSgULHT+kyu6H3/8MbI4k8nE6lA7nY42NzeN+9bpdHR5eWllICsrK2q320omk4a9pdNpO5hgN+Avh4eHevnypY1ExAp4jyOkQwwGA52fnysWi6lUKllmxgOqeAM0C8CToHe9771Fq6ZZ59JRitVut1Wr1Qw7xXiFZMzRaKRms2lhx29/+1vlcjmNx2Pz7ijg5wuDOJlMInAD+wPzvVAoaGdnR9vb21YyCFDOZYKq4IdbA23Q+on29+w3WNVjYdwsCiFfeG/9F1EPSkyKwlE++YjxuLm5UbPZjHQZ5vc4CZeXl7q4uNCTJ08Uj8dVLBZNuaG49vf3tb+/b4qOogDPmZXuwmKeiyjgXSlgjyq6k5OTey4vBfvE2fBgPN+JEBOlyAGnx78kY7SjJOv1uhV748ai6HheEhwMuJFk5MVYLGZ4Ae/HhzdcQH/Z/GcjNPPh7qyGsOAs/X5ftVrNhhBNJhNbS+8ZU23CVPVyuWyGo9FoqF6vW+Y8xNQkWTjqu8jA4+p0OlawTTICIjBZ+svLS+uhR7cZ4I1er2cXRZoers2TsFfTPDn+T9RC8oGfe3wPhee9at8WjbOSzWYj9bSDwcAGXwNrwdSAKNxuty2BiQ5BbzBmAY+QObC0bnrXhNNrKyO8kHzwrVrQ+B5HwWPypFLpTkuT1vbZPvAeyjwYX+hbuOCFQI/AU/SJCrwHH4Z5gjJJCM/P4vIAuM+6+Ewq7eP9HE7pDphmz8HWstms7Uu327UpUWC2YULD8/F8iRmGhkwshsqTj70n76siaBQZegTS/ZK1eRPmLDym5H0Jl4coQsXo9w3p9/v2f+pcfV2tJGvOwc/84CQ6FcGr5HmIJGjhViqVbOZytVo1eov0bvv6xm2aWASfjPD9wQCsmbWAi+sPtiSz6CwEVgP3FHASDA26CGFvvV630EuS4QHUrfr5kChDLsja2pplBsMUuyeizrqAWXa7XR0fH+v8/Pwe+C9FayMxKJLM2JBAwBITnnoqiCeN+z6CeAlk230xN567x4M5Y6PRSO12W81m0yhOIYHUh73zpuzC1moeG+X/Xgl6RSdFExIeE0U8nxEHhPX3SUa//xg+5sD48NMnL5nXu7GxYWVjS0tL2tnZ0fr6+i+a4/LWWVd+TgaOD9hqtUwJgQFAKQBfIXThMZLMVaX8A+Ix7iyP5QtsJ5PJWMhTKBSM0uC7XLAhg8FArVZLT58+NYKiJymz+fMS6oCpjEYjHR0d6dWrV2aYrq+vrUQMI0b5D/gP7bEps6tWq1Z4HYvFbC4IXjJdaLDkXC7C136/b1ECWTu+5716779Wq9ms2Jub287QPqrwBmveFB0etydRewH/9NCCN3DTyNfhvZhMJjbm4Pr6dug82VhCUO45HUhyuZwqlYq2trYi+oPkVZhEBPbiuX/pVL5HFV02m70XE4OZXV1dqdFoRArha7WaksmkZVxvbm4M/wE3I/taqVQsBKEzQavVigDIYHMcYB/3e4Iis1pDC06IzOxXXGHc6X6/b96Fr5ZgM2dVfEF+p9PRwcGBhRGsrV93kjZYYpQXEMP6+rp1fplMJlbYzRr6MiEqVvCiybRyrnx2FUjDD8S5urpSvV43HA8DyKUNsdVZ3sdp8hhYHyqt0FvzElJNwufBULVaLd3c3Ni9x+vCYPoO381m08jCQCeUoHk8mHu4urqqv/qrv4qwON7VcL2VokNhga+RcibRgOLyJVwAx3hShC9w3ygboWWyz/74LBqXAOvOIlIrFxZyc0HBcIrFonK5nGFIeBu+zCzE9mZVfJE8mbJisWiWFaXHY+FBep4hnnUul1OpVLID7cFlYAnPkAfzQ9HRlNNnVxGv8FCKzDaAfjQtPCVMmzclhzyknLx4wnAob2Io/PmRokPR8dTRC+CqjUbDcD1eO6xeAnelyID7jRH9syi6Uql078Ovrq5GpjnhWeXzedVqNVN0MKLPzs7Ubret/THN+WBBdzod+1DtdjuCmYXW3VdV+J7y8G88gM7ijse3HU4ZsUeG1StPUtveO53lkMcf7tFoZN1GxuPbHoPFYjFSVzyZ3FUjYMByuVykimEaBktGXlLkEviMHobHe/FcQr8HeHNUz+Cl8x59oflDtbnzIK8jDPP/MOsqRUdaejgnTPCEXiEdiPDQPOuB7ka+Uw0dUFKplBld9rvb7Woyue1SvbOzo2fPnlnY+ksM16OK7unTp/cyL9BCvvnmG3Ndx+O7WQ50AI7FYnYhiMk9NgTPplarmSeXy+XMA/QAJwcW74x2yoPBIDIpiE0hZJVuux9UKhXt7OxIkqW0uRCEP+Vy2ciQs+4JeAUC8/3k5CTCPaMZgx9M7LtHs+5gsR4fxWtHEfmOxqGHPo0GwfdhQsF7d+zhY59tHsV3fpGmKwdvsCQZuTv0gtnzcJ+mCXccbwyF6PE3Hyrzc+Aszox3aFqt1j02wLvKo4ru/fffv4fRoZR2d3f19ddfS5JpcxIAWF4+gAeS/Rc1p1j9YrGok5MT402xgGj8yWRicx/xIrAWeAw+xod5D0AL45re96Tik8mktra27vW/m1XxVtlzpFgf4AQOeSj+4L1LEuextX3d+k8Lq7i4C7lfGRGKD/8waN7QeAcjhADeZK9RUt5B8vfXi38fXgl6DNA3cvgl8sahKwcJJfTrX/9aP/30k1loCrN581wWD46GJF54cKlUyvC+TCZjCQc+sMcHPY7mZxPwPvD66KZB1obKBzrToujoLLy+vj7Tyu114ikcHjZ4G3nIk3id0poWqj722IVSe1geC9XDkJMkQjh4yEvItXsT8Ty8MJPLc4aPnfYcwE9/dkUH9uVldXVVOzs7+uu//mt9+eWXlkmBT+XpA54e4r0v6a6dDD3pm82mYrGYdnd3NRgMdHZ2ZiEuIRE0AlxtsoNkTaEqMGcUyoMkI7jCv8Jz2d7e1vb2tjY3NyNYwTzKY4fOy7RQ5k3+7l3ksb3wF4rHzuveIW+y5h73ppooFotZptwXAXhi/TSv7HWv86b74dkWHh/EIXkIqnhTic06HrWQhSxkIYsYYCELWcjMy0LRLWQhC5l5WSi6hSxkITMvC0W3kIUsZOZloegWspCFzLwsFN1CFrKQmZf/A5muRffhqQKGAAAAAElFTkSuQmCC\n",
            "text/plain": [
              "<Figure size 432x288 with 9 Axes>"
            ]
          },
          "metadata": {
            "tags": [],
            "needs_background": "light"
          }
        }
      ]
    },
    {
      "cell_type": "markdown",
      "metadata": {
        "id": "mH061hQUbJsv"
      },
      "source": [
        "# Training Model"
      ]
    },
    {
      "cell_type": "code",
      "metadata": {
        "id": "CyjVWe3Arsqu"
      },
      "source": [
        "#Model 1\n",
        "'''from keras.models import Sequential\n",
        "from keras.layers import Input, Dense, Flatten, Dropout, Conv2D, MaxPool2D, BatchNormalization, Activation\n",
        "\n",
        "input_shape = (48, 48, 1)\n",
        "\n",
        "model = Sequential()\n",
        "\n",
        "model.add(Conv2D(filters=64,input_shape=(input_shape),kernel_size=(3,3),padding=\"same\", activation=\"relu\", kernel_initializer = glorot_uniform(seed=1)))\n",
        "model.add(Conv2D(filters=64,kernel_size=(3,3),padding=\"same\", activation=\"relu\", kernel_initializer = glorot_uniform(seed=1)))\n",
        "model.add(MaxPool2D(pool_size=(2,2),strides=(2,2)))\n",
        "model.add(Dropout(0.25))\n",
        "model.add(BatchNormalization())\n",
        "\n",
        "model.add(Conv2D(filters=128, kernel_size=(3,3), padding=\"same\", activation=\"relu\", kernel_initializer = glorot_uniform(seed=1)))\n",
        "model.add(Conv2D(filters=128, kernel_size=(3,3), padding=\"same\", activation=\"relu\", kernel_initializer = glorot_uniform(seed=1)))\n",
        "model.add(MaxPool2D(pool_size=(2,2),strides=(2,2)))\n",
        "model.add(Dropout(0.25))\n",
        "model.add(BatchNormalization())\n",
        "\n",
        "model.add(Conv2D(filters=256, kernel_size=(3,3), padding=\"same\", activation=\"relu\", kernel_initializer = glorot_uniform(seed=1)))\n",
        "model.add(Conv2D(filters=256, kernel_size=(3,3), padding=\"same\", activation=\"relu\", kernel_initializer = glorot_uniform(seed=1)))\n",
        "model.add(Conv2D(filters=256, kernel_size=(3,3), padding=\"same\", activation=\"relu\", kernel_initializer = glorot_uniform(seed=1)))\n",
        "model.add(MaxPool2D(pool_size=(2,2),strides=(2,2)))\n",
        "model.add(Dropout(0.5))\n",
        "model.add(BatchNormalization())\n",
        "\n",
        "model.add(Conv2D(filters=512, kernel_size=(3,3), padding=\"same\", activation=\"relu\", kernel_initializer = glorot_uniform(seed=1)))\n",
        "model.add(Conv2D(filters=512, kernel_size=(3,3), padding=\"same\", activation=\"relu\", kernel_initializer = glorot_uniform(seed=1)))\n",
        "model.add(Conv2D(filters=512, kernel_size=(3,3), padding=\"same\", activation=\"relu\", kernel_initializer = glorot_uniform(seed=1)))\n",
        "model.add(MaxPool2D(pool_size=(2,2),strides=(2,2)))\n",
        "model.add(Dropout(0.5))\n",
        "model.add(BatchNormalization())\n",
        "\n",
        "model.add(Flatten())\n",
        "\n",
        "model.add(Dense(512,activation='relu'))\n",
        "model.add(Dropout(0.5))\n",
        "model.add(Dense(512,activation='relu'))\n",
        "model.add(Dropout(0.5))\n",
        "model.add(Dense(512,activation='relu'))\n",
        "model.add(Dropout(0.5))\n",
        "\n",
        "model.add(Dense(units=num_classes, activation='softmax'))\n",
        "\n",
        "# print the model summary\n",
        "model.summary()"
      ],
      "execution_count": null,
      "outputs": []
    },
    {
      "cell_type": "code",
      "metadata": {
        "colab": {
          "base_uri": "https://localhost:8080/"
        },
        "id": "zSPFODgTCUdB",
        "outputId": "fb5f1840-ff0b-47c9-f40f-3b0cc663a9d2"
      },
      "source": [
        "#Model 2\n",
        "from keras.models import Sequential\n",
        "from keras.layers import Input, Dense, Flatten, Dropout, Conv2D, MaxPool2D, BatchNormalization, Activation\n",
        "\n",
        "input_shape = (48, 48, 1)\n",
        "\n",
        "model = Sequential()\n",
        "\n",
        "model.add(Conv2D(filters=64,input_shape=(input_shape),kernel_size=(3,3),padding=\"same\", activation=\"relu\", kernel_initializer = glorot_uniform(seed=0)))\n",
        "model.add(BatchNormalization())\n",
        "model.add(Conv2D(filters=64,kernel_size=(3,3),padding=\"same\", activation=\"relu\", kernel_initializer = glorot_uniform(seed=0)))\n",
        "model.add(BatchNormalization())\n",
        "model.add(MaxPool2D(pool_size=(2,2),strides=(2,2)))\n",
        "model.add(Dropout(0.2))\n",
        "\n",
        "model.add(Conv2D(filters=128, kernel_size=(3,3), padding=\"same\", activation=\"relu\", kernel_initializer = glorot_uniform(seed=0)))\n",
        "model.add(BatchNormalization())\n",
        "model.add(Conv2D(filters=128, kernel_size=(3,3), padding=\"same\", activation=\"relu\", kernel_initializer = glorot_uniform(seed=0)))\n",
        "model.add(BatchNormalization())\n",
        "model.add(MaxPool2D(pool_size=(2,2),strides=(2,2)))\n",
        "model.add(Dropout(0.3))\n",
        "\n",
        "model.add(Conv2D(filters=256, kernel_size=(3,3), padding=\"same\", activation=\"relu\", kernel_initializer = glorot_uniform(seed=0)))\n",
        "model.add(BatchNormalization())\n",
        "model.add(Conv2D(filters=256, kernel_size=(3,3), padding=\"same\", activation=\"relu\", kernel_initializer = glorot_uniform(seed=0)))\n",
        "model.add(BatchNormalization())\n",
        "model.add(Conv2D(filters=256, kernel_size=(3,3), padding=\"same\", activation=\"relu\", kernel_initializer = glorot_uniform(seed=0)))\n",
        "model.add(BatchNormalization())\n",
        "model.add(MaxPool2D(pool_size=(2,2),strides=(2,2)))\n",
        "model.add(Dropout(0.4))\n",
        "\n",
        "model.add(Conv2D(filters=512, kernel_size=(3,3), padding=\"same\", activation=\"relu\", kernel_initializer = glorot_uniform(seed=0)))\n",
        "model.add(BatchNormalization())\n",
        "model.add(Conv2D(filters=512, kernel_size=(3,3), padding=\"same\", activation=\"relu\", kernel_initializer = glorot_uniform(seed=0)))\n",
        "model.add(BatchNormalization())\n",
        "model.add(Conv2D(filters=512, kernel_size=(3,3), padding=\"same\", activation=\"relu\", kernel_initializer = glorot_uniform(seed=0)))\n",
        "model.add(BatchNormalization())\n",
        "model.add(MaxPool2D(pool_size=(2,2),strides=(2,2)))\n",
        "model.add(Dropout(0.5))\n",
        "\n",
        "model.add(Conv2D(filters=512, kernel_size=(3,3), padding=\"same\", activation=\"relu\", kernel_initializer = glorot_uniform(seed=0)))\n",
        "model.add(BatchNormalization())\n",
        "model.add(Conv2D(filters=512, kernel_size=(3,3), padding=\"same\", activation=\"relu\", kernel_initializer = glorot_uniform(seed=0)))\n",
        "model.add(BatchNormalization())\n",
        "model.add(Conv2D(filters=512, kernel_size=(3,3), padding=\"same\", activation=\"relu\", kernel_initializer = glorot_uniform(seed=0)))\n",
        "model.add(BatchNormalization())\n",
        "model.add(MaxPool2D(pool_size=(2,2),strides=(2,2)))\n",
        "model.add(Dropout(0.6))\n",
        "\n",
        "model.add(Flatten())\n",
        "\n",
        "model.add(Dense(512,activation='relu'))\n",
        "model.add(Dropout(0.6))\n",
        "model.add(Dense(512,activation='relu'))\n",
        "model.add(Dropout(0.6))\n",
        "\n",
        "model.add(Dense(units=num_classes, activation='softmax'))\n",
        "\n",
        "# print the model summary\n",
        "model.summary()"
      ],
      "execution_count": 13,
      "outputs": [
        {
          "output_type": "stream",
          "text": [
            "Model: \"sequential\"\n",
            "_________________________________________________________________\n",
            "Layer (type)                 Output Shape              Param #   \n",
            "=================================================================\n",
            "conv2d (Conv2D)              (None, 48, 48, 64)        640       \n",
            "_________________________________________________________________\n",
            "batch_normalization (BatchNo (None, 48, 48, 64)        256       \n",
            "_________________________________________________________________\n",
            "conv2d_1 (Conv2D)            (None, 48, 48, 64)        36928     \n",
            "_________________________________________________________________\n",
            "batch_normalization_1 (Batch (None, 48, 48, 64)        256       \n",
            "_________________________________________________________________\n",
            "max_pooling2d (MaxPooling2D) (None, 24, 24, 64)        0         \n",
            "_________________________________________________________________\n",
            "dropout (Dropout)            (None, 24, 24, 64)        0         \n",
            "_________________________________________________________________\n",
            "conv2d_2 (Conv2D)            (None, 24, 24, 128)       73856     \n",
            "_________________________________________________________________\n",
            "batch_normalization_2 (Batch (None, 24, 24, 128)       512       \n",
            "_________________________________________________________________\n",
            "conv2d_3 (Conv2D)            (None, 24, 24, 128)       147584    \n",
            "_________________________________________________________________\n",
            "batch_normalization_3 (Batch (None, 24, 24, 128)       512       \n",
            "_________________________________________________________________\n",
            "max_pooling2d_1 (MaxPooling2 (None, 12, 12, 128)       0         \n",
            "_________________________________________________________________\n",
            "dropout_1 (Dropout)          (None, 12, 12, 128)       0         \n",
            "_________________________________________________________________\n",
            "conv2d_4 (Conv2D)            (None, 12, 12, 256)       295168    \n",
            "_________________________________________________________________\n",
            "batch_normalization_4 (Batch (None, 12, 12, 256)       1024      \n",
            "_________________________________________________________________\n",
            "conv2d_5 (Conv2D)            (None, 12, 12, 256)       590080    \n",
            "_________________________________________________________________\n",
            "batch_normalization_5 (Batch (None, 12, 12, 256)       1024      \n",
            "_________________________________________________________________\n",
            "conv2d_6 (Conv2D)            (None, 12, 12, 256)       590080    \n",
            "_________________________________________________________________\n",
            "batch_normalization_6 (Batch (None, 12, 12, 256)       1024      \n",
            "_________________________________________________________________\n",
            "max_pooling2d_2 (MaxPooling2 (None, 6, 6, 256)         0         \n",
            "_________________________________________________________________\n",
            "dropout_2 (Dropout)          (None, 6, 6, 256)         0         \n",
            "_________________________________________________________________\n",
            "conv2d_7 (Conv2D)            (None, 6, 6, 512)         1180160   \n",
            "_________________________________________________________________\n",
            "batch_normalization_7 (Batch (None, 6, 6, 512)         2048      \n",
            "_________________________________________________________________\n",
            "conv2d_8 (Conv2D)            (None, 6, 6, 512)         2359808   \n",
            "_________________________________________________________________\n",
            "batch_normalization_8 (Batch (None, 6, 6, 512)         2048      \n",
            "_________________________________________________________________\n",
            "conv2d_9 (Conv2D)            (None, 6, 6, 512)         2359808   \n",
            "_________________________________________________________________\n",
            "batch_normalization_9 (Batch (None, 6, 6, 512)         2048      \n",
            "_________________________________________________________________\n",
            "max_pooling2d_3 (MaxPooling2 (None, 3, 3, 512)         0         \n",
            "_________________________________________________________________\n",
            "dropout_3 (Dropout)          (None, 3, 3, 512)         0         \n",
            "_________________________________________________________________\n",
            "conv2d_10 (Conv2D)           (None, 3, 3, 512)         2359808   \n",
            "_________________________________________________________________\n",
            "batch_normalization_10 (Batc (None, 3, 3, 512)         2048      \n",
            "_________________________________________________________________\n",
            "conv2d_11 (Conv2D)           (None, 3, 3, 512)         2359808   \n",
            "_________________________________________________________________\n",
            "batch_normalization_11 (Batc (None, 3, 3, 512)         2048      \n",
            "_________________________________________________________________\n",
            "conv2d_12 (Conv2D)           (None, 3, 3, 512)         2359808   \n",
            "_________________________________________________________________\n",
            "batch_normalization_12 (Batc (None, 3, 3, 512)         2048      \n",
            "_________________________________________________________________\n",
            "max_pooling2d_4 (MaxPooling2 (None, 1, 1, 512)         0         \n",
            "_________________________________________________________________\n",
            "dropout_4 (Dropout)          (None, 1, 1, 512)         0         \n",
            "_________________________________________________________________\n",
            "flatten (Flatten)            (None, 512)               0         \n",
            "_________________________________________________________________\n",
            "dense (Dense)                (None, 512)               262656    \n",
            "_________________________________________________________________\n",
            "dropout_5 (Dropout)          (None, 512)               0         \n",
            "_________________________________________________________________\n",
            "dense_1 (Dense)              (None, 512)               262656    \n",
            "_________________________________________________________________\n",
            "dropout_6 (Dropout)          (None, 512)               0         \n",
            "_________________________________________________________________\n",
            "dense_2 (Dense)              (None, 7)                 3591      \n",
            "=================================================================\n",
            "Total params: 15,259,335\n",
            "Trainable params: 15,250,887\n",
            "Non-trainable params: 8,448\n",
            "_________________________________________________________________\n"
          ],
          "name": "stdout"
        }
      ]
    },
    {
      "cell_type": "code",
      "metadata": {
        "id": "0S679DUacsgI"
      },
      "source": [
        "#save plot model to file\n",
        "from keras.utils.vis_utils import plot_model\n",
        "plot_model(model, to_file=\"model.png\", show_shapes=True, show_layer_names=False)"
      ],
      "execution_count": null,
      "outputs": []
    },
    {
      "cell_type": "code",
      "metadata": {
        "id": "LhxgJX3brul-"
      },
      "source": [
        "#compile model\n",
        "from keras.optimizers import Adam,SGD,RMSprop\n",
        "\n",
        "opt = SGD(learning_rate=0.0005)\n",
        "model.compile(loss='categorical_crossentropy', optimizer=opt, metrics=['accuracy'])"
      ],
      "execution_count": 14,
      "outputs": []
    },
    {
      "cell_type": "code",
      "metadata": {
        "colab": {
          "base_uri": "https://localhost:8080/"
        },
        "id": "ljPuPM2iryKG",
        "outputId": "44c3079f-0e5d-4a8e-d069-a4ad7f4ad4db"
      },
      "source": [
        "# fit the model\n",
        "num_epochs = 50\n",
        "history = model.fit(train_flow, \n",
        "                    steps_per_epoch=len(X_train) // batch_size, \n",
        "                    epochs=num_epochs,  \n",
        "                    verbose=1,  \n",
        "                    validation_data=val_flow,  \n",
        "                    validation_steps=len(X_val) // batch_size)"
      ],
      "execution_count": 15,
      "outputs": [
        {
          "output_type": "stream",
          "text": [
            "Epoch 1/50\n",
            "448/448 [==============================] - 55s 78ms/step - loss: 4.8991 - accuracy: 0.1619 - val_loss: 1.8666 - val_accuracy: 0.2137\n",
            "Epoch 2/50\n",
            "448/448 [==============================] - 32s 72ms/step - loss: 2.8717 - accuracy: 0.1784 - val_loss: 1.8500 - val_accuracy: 0.2291\n",
            "Epoch 3/50\n",
            "448/448 [==============================] - 32s 72ms/step - loss: 2.3423 - accuracy: 0.1885 - val_loss: 1.8439 - val_accuracy: 0.2263\n",
            "Epoch 4/50\n",
            "448/448 [==============================] - 32s 72ms/step - loss: 2.1552 - accuracy: 0.1935 - val_loss: 1.8361 - val_accuracy: 0.2441\n",
            "Epoch 5/50\n",
            "448/448 [==============================] - 32s 72ms/step - loss: 2.0611 - accuracy: 0.1943 - val_loss: 1.8339 - val_accuracy: 0.2478\n",
            "Epoch 6/50\n",
            "448/448 [==============================] - 32s 72ms/step - loss: 2.0119 - accuracy: 0.1952 - val_loss: 1.8316 - val_accuracy: 0.2486\n",
            "Epoch 7/50\n",
            "448/448 [==============================] - 32s 72ms/step - loss: 1.9605 - accuracy: 0.2055 - val_loss: 1.8320 - val_accuracy: 0.2483\n",
            "Epoch 8/50\n",
            "448/448 [==============================] - 32s 72ms/step - loss: 1.9406 - accuracy: 0.2065 - val_loss: 1.8338 - val_accuracy: 0.2500\n",
            "Epoch 9/50\n",
            "448/448 [==============================] - 32s 71ms/step - loss: 1.9094 - accuracy: 0.2131 - val_loss: 1.8301 - val_accuracy: 0.2480\n",
            "Epoch 10/50\n",
            "448/448 [==============================] - 32s 72ms/step - loss: 1.8993 - accuracy: 0.2141 - val_loss: 1.8275 - val_accuracy: 0.2478\n",
            "Epoch 11/50\n",
            "448/448 [==============================] - 32s 72ms/step - loss: 1.8924 - accuracy: 0.2119 - val_loss: 1.8272 - val_accuracy: 0.2511\n",
            "Epoch 12/50\n",
            "448/448 [==============================] - 32s 72ms/step - loss: 1.8796 - accuracy: 0.2159 - val_loss: 1.8267 - val_accuracy: 0.2542\n",
            "Epoch 13/50\n",
            "448/448 [==============================] - 32s 72ms/step - loss: 1.8714 - accuracy: 0.2181 - val_loss: 1.8263 - val_accuracy: 0.2533\n",
            "Epoch 14/50\n",
            "448/448 [==============================] - 32s 72ms/step - loss: 1.8720 - accuracy: 0.2127 - val_loss: 1.8272 - val_accuracy: 0.2525\n",
            "Epoch 15/50\n",
            "448/448 [==============================] - 32s 72ms/step - loss: 1.8547 - accuracy: 0.2255 - val_loss: 1.8226 - val_accuracy: 0.2497\n",
            "Epoch 16/50\n",
            "448/448 [==============================] - 32s 72ms/step - loss: 1.8573 - accuracy: 0.2227 - val_loss: 1.8231 - val_accuracy: 0.2480\n",
            "Epoch 17/50\n",
            "448/448 [==============================] - 32s 72ms/step - loss: 1.8554 - accuracy: 0.2183 - val_loss: 1.8218 - val_accuracy: 0.2506\n",
            "Epoch 18/50\n",
            "448/448 [==============================] - 32s 71ms/step - loss: 1.8472 - accuracy: 0.2219 - val_loss: 1.8191 - val_accuracy: 0.2506\n",
            "Epoch 19/50\n",
            "448/448 [==============================] - 32s 72ms/step - loss: 1.8451 - accuracy: 0.2232 - val_loss: 1.8180 - val_accuracy: 0.2517\n",
            "Epoch 20/50\n",
            "448/448 [==============================] - 32s 71ms/step - loss: 1.8463 - accuracy: 0.2210 - val_loss: 1.8188 - val_accuracy: 0.2500\n",
            "Epoch 21/50\n",
            "448/448 [==============================] - 32s 72ms/step - loss: 1.8414 - accuracy: 0.2259 - val_loss: 1.8185 - val_accuracy: 0.2503\n",
            "Epoch 22/50\n",
            "448/448 [==============================] - 32s 72ms/step - loss: 1.8450 - accuracy: 0.2242 - val_loss: 1.8164 - val_accuracy: 0.2522\n",
            "Epoch 23/50\n",
            "448/448 [==============================] - 32s 72ms/step - loss: 1.8372 - accuracy: 0.2291 - val_loss: 1.8132 - val_accuracy: 0.2517\n",
            "Epoch 24/50\n",
            "448/448 [==============================] - 32s 72ms/step - loss: 1.8351 - accuracy: 0.2242 - val_loss: 1.8161 - val_accuracy: 0.2522\n",
            "Epoch 25/50\n",
            "448/448 [==============================] - 32s 72ms/step - loss: 1.8352 - accuracy: 0.2281 - val_loss: 1.8156 - val_accuracy: 0.2508\n",
            "Epoch 26/50\n",
            "448/448 [==============================] - 32s 72ms/step - loss: 1.8351 - accuracy: 0.2241 - val_loss: 1.8114 - val_accuracy: 0.2522\n",
            "Epoch 27/50\n",
            "448/448 [==============================] - 32s 72ms/step - loss: 1.8368 - accuracy: 0.2264 - val_loss: 1.8122 - val_accuracy: 0.2511\n",
            "Epoch 28/50\n",
            "448/448 [==============================] - 32s 72ms/step - loss: 1.8267 - accuracy: 0.2321 - val_loss: 1.8105 - val_accuracy: 0.2542\n",
            "Epoch 29/50\n",
            "448/448 [==============================] - 32s 72ms/step - loss: 1.8263 - accuracy: 0.2319 - val_loss: 1.8085 - val_accuracy: 0.2531\n",
            "Epoch 30/50\n",
            "448/448 [==============================] - 32s 72ms/step - loss: 1.8266 - accuracy: 0.2342 - val_loss: 1.8071 - val_accuracy: 0.2553\n",
            "Epoch 31/50\n",
            "448/448 [==============================] - 32s 72ms/step - loss: 1.8286 - accuracy: 0.2344 - val_loss: 1.8081 - val_accuracy: 0.2550\n",
            "Epoch 32/50\n",
            "448/448 [==============================] - 32s 72ms/step - loss: 1.8278 - accuracy: 0.2334 - val_loss: 1.8073 - val_accuracy: 0.2556\n",
            "Epoch 33/50\n",
            "448/448 [==============================] - 32s 72ms/step - loss: 1.8197 - accuracy: 0.2366 - val_loss: 1.8065 - val_accuracy: 0.2559\n",
            "Epoch 34/50\n",
            "448/448 [==============================] - 32s 71ms/step - loss: 1.8251 - accuracy: 0.2305 - val_loss: 1.8054 - val_accuracy: 0.2556\n",
            "Epoch 35/50\n",
            "448/448 [==============================] - 32s 72ms/step - loss: 1.8217 - accuracy: 0.2354 - val_loss: 1.8047 - val_accuracy: 0.2559\n",
            "Epoch 36/50\n",
            "448/448 [==============================] - 32s 72ms/step - loss: 1.8249 - accuracy: 0.2319 - val_loss: 1.8049 - val_accuracy: 0.2550\n",
            "Epoch 37/50\n",
            "448/448 [==============================] - 32s 72ms/step - loss: 1.8213 - accuracy: 0.2365 - val_loss: 1.8047 - val_accuracy: 0.2578\n",
            "Epoch 38/50\n",
            "448/448 [==============================] - 32s 72ms/step - loss: 1.8174 - accuracy: 0.2368 - val_loss: 1.8047 - val_accuracy: 0.2553\n",
            "Epoch 39/50\n",
            "448/448 [==============================] - 32s 71ms/step - loss: 1.8256 - accuracy: 0.2322 - val_loss: 1.8039 - val_accuracy: 0.2542\n",
            "Epoch 40/50\n",
            "448/448 [==============================] - 32s 72ms/step - loss: 1.8174 - accuracy: 0.2357 - val_loss: 1.8026 - val_accuracy: 0.2570\n",
            "Epoch 41/50\n",
            "448/448 [==============================] - 32s 72ms/step - loss: 1.8204 - accuracy: 0.2318 - val_loss: 1.8024 - val_accuracy: 0.2584\n",
            "Epoch 42/50\n",
            "448/448 [==============================] - 32s 72ms/step - loss: 1.8191 - accuracy: 0.2361 - val_loss: 1.8015 - val_accuracy: 0.2559\n",
            "Epoch 43/50\n",
            "448/448 [==============================] - 32s 72ms/step - loss: 1.8132 - accuracy: 0.2426 - val_loss: 1.8008 - val_accuracy: 0.2561\n",
            "Epoch 44/50\n",
            "448/448 [==============================] - 32s 72ms/step - loss: 1.8140 - accuracy: 0.2416 - val_loss: 1.7994 - val_accuracy: 0.2561\n",
            "Epoch 45/50\n",
            "448/448 [==============================] - 32s 72ms/step - loss: 1.8185 - accuracy: 0.2368 - val_loss: 1.7997 - val_accuracy: 0.2556\n",
            "Epoch 46/50\n",
            "448/448 [==============================] - 32s 72ms/step - loss: 1.8166 - accuracy: 0.2374 - val_loss: 1.8000 - val_accuracy: 0.2584\n",
            "Epoch 47/50\n",
            "448/448 [==============================] - 32s 72ms/step - loss: 1.8088 - accuracy: 0.2442 - val_loss: 1.7983 - val_accuracy: 0.2564\n",
            "Epoch 48/50\n",
            "448/448 [==============================] - 32s 72ms/step - loss: 1.8125 - accuracy: 0.2434 - val_loss: 1.7983 - val_accuracy: 0.2561\n",
            "Epoch 49/50\n",
            "448/448 [==============================] - 32s 72ms/step - loss: 1.8164 - accuracy: 0.2408 - val_loss: 1.7967 - val_accuracy: 0.2556\n",
            "Epoch 50/50\n",
            "448/448 [==============================] - 32s 72ms/step - loss: 1.8118 - accuracy: 0.2434 - val_loss: 1.7972 - val_accuracy: 0.2564\n"
          ],
          "name": "stdout"
        }
      ]
    },
    {
      "cell_type": "markdown",
      "metadata": {
        "id": "zdn-Ud-Ca4LG"
      },
      "source": [
        "# Evaluate"
      ]
    },
    {
      "cell_type": "code",
      "metadata": {
        "colab": {
          "base_uri": "https://localhost:8080/",
          "height": 573
        },
        "id": "d8D97Qq4bUxn",
        "outputId": "665c9bd4-50de-468f-a462-02e6754c00b8"
      },
      "source": [
        "accuracy = history.history['accuracy']\n",
        "val_accuracy = history.history['val_accuracy']\n",
        "loss = history.history['loss']\n",
        "val_loss = history.history['val_loss']\n",
        "num_epochs = range(len(accuracy))\n",
        "plt.plot(num_epochs, accuracy, 'r', label='Training acc')\n",
        "plt.plot(num_epochs, val_accuracy, 'b', label='Validation acc')\n",
        "plt.title('Training and validation accuracy')\n",
        "plt.ylabel('accuracy')  \n",
        "plt.xlabel('epoch')\n",
        "plt.legend()\n",
        "plt.figure()\n",
        "plt.plot(num_epochs, loss, 'r', label='Training loss')\n",
        "plt.plot(num_epochs, val_loss, 'b', label='Validation loss')\n",
        "plt.title('Training and validation loss')\n",
        "plt.ylabel('loss')  \n",
        "plt.xlabel('epoch')\n",
        "plt.legend()\n",
        "plt.show()"
      ],
      "execution_count": 16,
      "outputs": [
        {
          "output_type": "display_data",
          "data": {
            "image/png": "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\n",
            "text/plain": [
              "<Figure size 432x288 with 1 Axes>"
            ]
          },
          "metadata": {
            "tags": [],
            "needs_background": "light"
          }
        },
        {
          "output_type": "display_data",
          "data": {
            "image/png": "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\n",
            "text/plain": [
              "<Figure size 432x288 with 1 Axes>"
            ]
          },
          "metadata": {
            "tags": [],
            "needs_background": "light"
          }
        }
      ]
    },
    {
      "cell_type": "code",
      "metadata": {
        "id": "v2FEkE4pr8vN",
        "colab": {
          "base_uri": "https://localhost:8080/"
        },
        "outputId": "94a77e10-1bee-41c5-a517-2d9a49c0118c"
      },
      "source": [
        "trainloss = model.evaluate(train_flow, steps=len(X_train) / batch_size) \n",
        "print(\"Train Loss \" + str(trainloss[0]))\n",
        "print(\"Train Acc: \" + str(trainloss[1]))\n",
        "valloss = model.evaluate(val_flow, steps=len(X_val) / batch_size) \n",
        "print(\"Val Loss \" + str(valloss[0]))\n",
        "print(\"Val Acc: \" + str(valloss[1]))\n",
        "testloss = model.evaluate(test_flow, steps=len(X_test) / batch_size) \n",
        "print(\"Test Loss \" + str(testloss[0]))\n",
        "print(\"Test Acc: \" + str(testloss[1]))"
      ],
      "execution_count": 17,
      "outputs": [
        {
          "output_type": "stream",
          "text": [
            "448/448 [==============================] - 12s 27ms/step - loss: 1.7988 - accuracy: 0.2536\n",
            "Train Loss 1.7987722158432007\n",
            "Train Acc: 0.2536138594150543\n",
            "56/56 [==============================] - 2s 27ms/step - loss: 1.7973 - accuracy: 0.2563\n",
            "Val Loss 1.797289252281189\n",
            "Val Acc: 0.25633880496025085\n",
            "56/56 [==============================] - 1s 21ms/step - loss: 1.8026 - accuracy: 0.2530\n",
            "Test Loss 1.802636742591858\n",
            "Test Acc: 0.25299525260925293\n"
          ],
          "name": "stdout"
        }
      ]
    },
    {
      "cell_type": "code",
      "metadata": {
        "id": "lzHC1YQabqNF"
      },
      "source": [
        "def plot_confusion_matrix(y_test, y_pred, classes,\n",
        "                          normalize=False,\n",
        "                          title='Unnormalized confusion matrix',\n",
        "                          cmap=plt.cm.Blues):\n",
        "    cm = confusion_matrix(y_test, y_pred)\n",
        "    \n",
        "    if normalize:\n",
        "        cm = np.round(cm.astype('float') / cm.sum(axis=1)[:, np.newaxis], 2)\n",
        "        \n",
        "    np.set_printoptions(precision=2)\n",
        "\n",
        "    plt.rcParams[\"figure.figsize\"] = (8,8)        \n",
        "    plt.imshow(cm, interpolation='nearest', cmap=cmap)\n",
        "    plt.title(title)\n",
        "    plt.colorbar()\n",
        "    tick_marks = np.arange(len(classes))\n",
        "    plt.xticks(tick_marks, classes, rotation=45)\n",
        "    plt.yticks(tick_marks, classes)\n",
        "\n",
        "    thresh = cm.min() + (cm.max() - cm.min()) / 2.\n",
        "    for i, j in itertools.product(range(cm.shape[0]), range(cm.shape[1])):\n",
        "        plt.text(j, i, cm[i, j],\n",
        "                 horizontalalignment=\"center\",\n",
        "                 color=\"white\" if cm[i, j] > thresh else \"black\")\n",
        "\n",
        "    plt.tight_layout()\n",
        "    plt.ylabel('True expression')\n",
        "    plt.xlabel('Predicted expression')\n",
        "    plt.show()"
      ],
      "execution_count": 18,
      "outputs": []
    },
    {
      "cell_type": "code",
      "metadata": {
        "id": "moInw8fjbqNF",
        "colab": {
          "base_uri": "https://localhost:8080/"
        },
        "outputId": "9d2bc7b5-35cb-4c27-93ab-7956d3111151"
      },
      "source": [
        "y_pred_ = model.predict(X_test/255., verbose=1)\n",
        "y_pred = np.argmax(y_pred_, axis=1)\n",
        "t_te = np.argmax(y_test, axis=1)"
      ],
      "execution_count": 19,
      "outputs": [
        {
          "output_type": "stream",
          "text": [
            "113/113 [==============================] - 3s 13ms/step\n"
          ],
          "name": "stdout"
        }
      ]
    },
    {
      "cell_type": "code",
      "metadata": {
        "colab": {
          "base_uri": "https://localhost:8080/",
          "height": 585
        },
        "id": "espEQdo8bqNG",
        "outputId": "83665d75-d126-4c24-fffb-4b9c8c554eac"
      },
      "source": [
        "from sklearn.metrics import confusion_matrix, classification_report\n",
        "import itertools\n",
        "\n",
        "fig = plot_confusion_matrix(y_test=t_te, y_pred=y_pred,\n",
        "                      classes=labels,\n",
        "                      normalize=True,\n",
        "                      cmap=plt.cm.Blues,\n",
        "                      title='Average accuracy: ' + str(np.sum(y_pred == t_te)/len(t_te)) + '\\n')"
      ],
      "execution_count": 20,
      "outputs": [
        {
          "output_type": "display_data",
          "data": {
            "image/png": "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\n",
            "text/plain": [
              "<Figure size 576x576 with 2 Axes>"
            ]
          },
          "metadata": {
            "tags": [],
            "needs_background": "light"
          }
        }
      ]
    },
    {
      "cell_type": "code",
      "metadata": {
        "id": "4vauS7IKbqNG",
        "colab": {
          "base_uri": "https://localhost:8080/"
        },
        "outputId": "7d85fae0-d986-4ff7-abc8-5d60b7bafb87"
      },
      "source": [
        "emotions = {0: 'Angry', 1: 'Disgust', 2: 'Fear', 3: 'Happy', 4: 'Sad', 5: 'Surprise', 6: 'Neutral'}\n",
        "print(classification_report(t_te, y_pred, target_names=emotions.values()))"
      ],
      "execution_count": 21,
      "outputs": [
        {
          "output_type": "stream",
          "text": [
            "              precision    recall  f1-score   support\n",
            "\n",
            "       Angry       0.00      0.00      0.00       491\n",
            "     Disgust       0.00      0.00      0.00        55\n",
            "        Fear       0.00      0.00      0.00       528\n",
            "       Happy       0.25      0.97      0.40       879\n",
            "         Sad       0.29      0.02      0.03       594\n",
            "    Surprise       0.31      0.10      0.15       416\n",
            "     Neutral       0.00      0.00      0.00       626\n",
            "\n",
            "    accuracy                           0.25      3589\n",
            "   macro avg       0.12      0.16      0.08      3589\n",
            "weighted avg       0.14      0.25      0.12      3589\n",
            "\n"
          ],
          "name": "stdout"
        },
        {
          "output_type": "stream",
          "text": [
            "/usr/local/lib/python3.7/dist-packages/sklearn/metrics/_classification.py:1272: UndefinedMetricWarning: Precision and F-score are ill-defined and being set to 0.0 in labels with no predicted samples. Use `zero_division` parameter to control this behavior.\n",
            "  _warn_prf(average, modifier, msg_start, len(result))\n"
          ],
          "name": "stderr"
        }
      ]
    },
    {
      "cell_type": "code",
      "metadata": {
        "id": "KKWxaaYRba3j",
        "colab": {
          "base_uri": "https://localhost:8080/"
        },
        "outputId": "6e91b3f6-c6bd-4f74-ef94-d475e7e6bd68"
      },
      "source": [
        "model.save(\"/content/drive/MyDrive/Colab Notebooks/Model/Model2_SGD0.0005_epoch50_Aug.h5\")\n",
        "print(\"saved\")"
      ],
      "execution_count": 22,
      "outputs": [
        {
          "output_type": "stream",
          "text": [
            "saved\n"
          ],
          "name": "stdout"
        }
      ]
    },
    {
      "cell_type": "markdown",
      "metadata": {
        "id": "aqLRhlr4b7t5"
      },
      "source": [
        "#Load Model"
      ]
    },
    {
      "cell_type": "code",
      "metadata": {
        "colab": {
          "base_uri": "https://localhost:8080/"
        },
        "id": "J45lyUtcJ-6F",
        "outputId": "3783d1ab-2b2c-4998-fc05-24ceda1746c1"
      },
      "source": [
        "from keras.models import load_model\n",
        "model_load = load_model('/content/drive/MyDrive/Colab Notebooks/Model/Model2_SGD0.0005_epoch50_Aug.h5')\n",
        "\n",
        "model_load.summary()"
      ],
      "execution_count": 23,
      "outputs": [
        {
          "output_type": "stream",
          "text": [
            "Model: \"sequential\"\n",
            "_________________________________________________________________\n",
            "Layer (type)                 Output Shape              Param #   \n",
            "=================================================================\n",
            "conv2d (Conv2D)              (None, 48, 48, 64)        640       \n",
            "_________________________________________________________________\n",
            "batch_normalization (BatchNo (None, 48, 48, 64)        256       \n",
            "_________________________________________________________________\n",
            "conv2d_1 (Conv2D)            (None, 48, 48, 64)        36928     \n",
            "_________________________________________________________________\n",
            "batch_normalization_1 (Batch (None, 48, 48, 64)        256       \n",
            "_________________________________________________________________\n",
            "max_pooling2d (MaxPooling2D) (None, 24, 24, 64)        0         \n",
            "_________________________________________________________________\n",
            "dropout (Dropout)            (None, 24, 24, 64)        0         \n",
            "_________________________________________________________________\n",
            "conv2d_2 (Conv2D)            (None, 24, 24, 128)       73856     \n",
            "_________________________________________________________________\n",
            "batch_normalization_2 (Batch (None, 24, 24, 128)       512       \n",
            "_________________________________________________________________\n",
            "conv2d_3 (Conv2D)            (None, 24, 24, 128)       147584    \n",
            "_________________________________________________________________\n",
            "batch_normalization_3 (Batch (None, 24, 24, 128)       512       \n",
            "_________________________________________________________________\n",
            "max_pooling2d_1 (MaxPooling2 (None, 12, 12, 128)       0         \n",
            "_________________________________________________________________\n",
            "dropout_1 (Dropout)          (None, 12, 12, 128)       0         \n",
            "_________________________________________________________________\n",
            "conv2d_4 (Conv2D)            (None, 12, 12, 256)       295168    \n",
            "_________________________________________________________________\n",
            "batch_normalization_4 (Batch (None, 12, 12, 256)       1024      \n",
            "_________________________________________________________________\n",
            "conv2d_5 (Conv2D)            (None, 12, 12, 256)       590080    \n",
            "_________________________________________________________________\n",
            "batch_normalization_5 (Batch (None, 12, 12, 256)       1024      \n",
            "_________________________________________________________________\n",
            "conv2d_6 (Conv2D)            (None, 12, 12, 256)       590080    \n",
            "_________________________________________________________________\n",
            "batch_normalization_6 (Batch (None, 12, 12, 256)       1024      \n",
            "_________________________________________________________________\n",
            "max_pooling2d_2 (MaxPooling2 (None, 6, 6, 256)         0         \n",
            "_________________________________________________________________\n",
            "dropout_2 (Dropout)          (None, 6, 6, 256)         0         \n",
            "_________________________________________________________________\n",
            "conv2d_7 (Conv2D)            (None, 6, 6, 512)         1180160   \n",
            "_________________________________________________________________\n",
            "batch_normalization_7 (Batch (None, 6, 6, 512)         2048      \n",
            "_________________________________________________________________\n",
            "conv2d_8 (Conv2D)            (None, 6, 6, 512)         2359808   \n",
            "_________________________________________________________________\n",
            "batch_normalization_8 (Batch (None, 6, 6, 512)         2048      \n",
            "_________________________________________________________________\n",
            "conv2d_9 (Conv2D)            (None, 6, 6, 512)         2359808   \n",
            "_________________________________________________________________\n",
            "batch_normalization_9 (Batch (None, 6, 6, 512)         2048      \n",
            "_________________________________________________________________\n",
            "max_pooling2d_3 (MaxPooling2 (None, 3, 3, 512)         0         \n",
            "_________________________________________________________________\n",
            "dropout_3 (Dropout)          (None, 3, 3, 512)         0         \n",
            "_________________________________________________________________\n",
            "conv2d_10 (Conv2D)           (None, 3, 3, 512)         2359808   \n",
            "_________________________________________________________________\n",
            "batch_normalization_10 (Batc (None, 3, 3, 512)         2048      \n",
            "_________________________________________________________________\n",
            "conv2d_11 (Conv2D)           (None, 3, 3, 512)         2359808   \n",
            "_________________________________________________________________\n",
            "batch_normalization_11 (Batc (None, 3, 3, 512)         2048      \n",
            "_________________________________________________________________\n",
            "conv2d_12 (Conv2D)           (None, 3, 3, 512)         2359808   \n",
            "_________________________________________________________________\n",
            "batch_normalization_12 (Batc (None, 3, 3, 512)         2048      \n",
            "_________________________________________________________________\n",
            "max_pooling2d_4 (MaxPooling2 (None, 1, 1, 512)         0         \n",
            "_________________________________________________________________\n",
            "dropout_4 (Dropout)          (None, 1, 1, 512)         0         \n",
            "_________________________________________________________________\n",
            "flatten (Flatten)            (None, 512)               0         \n",
            "_________________________________________________________________\n",
            "dense (Dense)                (None, 512)               262656    \n",
            "_________________________________________________________________\n",
            "dropout_5 (Dropout)          (None, 512)               0         \n",
            "_________________________________________________________________\n",
            "dense_1 (Dense)              (None, 512)               262656    \n",
            "_________________________________________________________________\n",
            "dropout_6 (Dropout)          (None, 512)               0         \n",
            "_________________________________________________________________\n",
            "dense_2 (Dense)              (None, 7)                 3591      \n",
            "=================================================================\n",
            "Total params: 15,259,335\n",
            "Trainable params: 15,250,887\n",
            "Non-trainable params: 8,448\n",
            "_________________________________________________________________\n"
          ],
          "name": "stdout"
        }
      ]
    },
    {
      "cell_type": "code",
      "metadata": {
        "colab": {
          "base_uri": "https://localhost:8080/"
        },
        "id": "nQd7m45qfWBW",
        "outputId": "23e6dc97-9df7-437c-b0d0-f9bfb5766c6f"
      },
      "source": [
        "trainloss = model_load.evaluate(train_flow, steps=len(X_train) / batch_size) \n",
        "print(\"Train Loss \" + str(trainloss[0]))\n",
        "print(\"Train Acc: \" + str(trainloss[1]))\n",
        "valloss = model_load.evaluate(val_flow, steps=len(X_val) / batch_size) \n",
        "print(\"Val Loss \" + str(valloss[0]))\n",
        "print(\"Val Acc: \" + str(valloss[1]))\n",
        "testloss = model_load.evaluate(test_flow, steps=len(X_test) / batch_size) \n",
        "print(\"Test Loss \" + str(testloss[0]))\n",
        "print(\"Test Acc: \" + str(testloss[1]))"
      ],
      "execution_count": 24,
      "outputs": [
        {
          "output_type": "stream",
          "text": [
            "448/448 [==============================] - 14s 28ms/step - loss: 1.7991 - accuracy: 0.2536\n",
            "Train Loss 1.7990919351577759\n",
            "Train Acc: 0.2536138594150543\n",
            "56/56 [==============================] - 1s 21ms/step - loss: 1.7973 - accuracy: 0.2563\n",
            "Val Loss 1.7972891330718994\n",
            "Val Acc: 0.25633880496025085\n",
            "56/56 [==============================] - 1s 21ms/step - loss: 1.8026 - accuracy: 0.2530\n",
            "Test Loss 1.8026365041732788\n",
            "Test Acc: 0.25299525260925293\n"
          ],
          "name": "stdout"
        }
      ]
    },
    {
      "cell_type": "code",
      "metadata": {
        "id": "t87NY2ZdFwVP"
      },
      "source": [
        "def plot_confusion_matrix(y_test, y_pred, classes,\n",
        "                          normalize=False,\n",
        "                          title='Unnormalized confusion matrix',\n",
        "                          cmap=plt.cm.Blues):\n",
        "    cm = confusion_matrix(y_test, y_pred)\n",
        "    \n",
        "    if normalize:\n",
        "        cm = np.round(cm.astype('float') / cm.sum(axis=1)[:, np.newaxis], 2)\n",
        "        \n",
        "    np.set_printoptions(precision=2)\n",
        "\n",
        "    plt.rcParams[\"figure.figsize\"] = (8,8)    \n",
        "    plt.imshow(cm, interpolation='nearest', cmap=cmap)\n",
        "    plt.title(title)\n",
        "    plt.colorbar()\n",
        "    tick_marks = np.arange(len(classes))\n",
        "    plt.xticks(tick_marks, classes, rotation=45)\n",
        "    plt.yticks(tick_marks, classes)\n",
        "\n",
        "    thresh = cm.min() + (cm.max() - cm.min()) / 2.\n",
        "    for i, j in itertools.product(range(cm.shape[0]), range(cm.shape[1])):\n",
        "        plt.text(j, i, cm[i, j],\n",
        "                 horizontalalignment=\"center\",\n",
        "                 color=\"white\" if cm[i, j] > thresh else \"black\")\n",
        "\n",
        "    plt.tight_layout()\n",
        "    plt.ylabel('True expression')\n",
        "    plt.xlabel('Predicted expression')\n",
        "    plt.show()"
      ],
      "execution_count": 25,
      "outputs": []
    },
    {
      "cell_type": "code",
      "metadata": {
        "colab": {
          "base_uri": "https://localhost:8080/"
        },
        "id": "Tc5JLl9HGFmh",
        "outputId": "d355fdac-6893-47fe-fd6d-150247fc1087"
      },
      "source": [
        "y_pred_ = model_load.predict(X_test/255., verbose=1)\n",
        "y_pred = np.argmax(y_pred_, axis=1)\n",
        "t_te = np.argmax(y_test, axis=1)"
      ],
      "execution_count": 26,
      "outputs": [
        {
          "output_type": "stream",
          "text": [
            "113/113 [==============================] - 2s 13ms/step\n"
          ],
          "name": "stdout"
        }
      ]
    },
    {
      "cell_type": "code",
      "metadata": {
        "colab": {
          "base_uri": "https://localhost:8080/",
          "height": 585
        },
        "id": "WUeZP3q-GJrl",
        "outputId": "9e34824b-7730-46da-ccc8-f0c6c371e03b"
      },
      "source": [
        "from sklearn.metrics import confusion_matrix, classification_report\n",
        "import itertools\n",
        "\n",
        "fig = plot_confusion_matrix(y_test=t_te, y_pred=y_pred,\n",
        "                      classes=labels,\n",
        "                      normalize=True,\n",
        "                      cmap=plt.cm.Blues,\n",
        "                      title='Average accuracy: ' + str(np.sum(y_pred == t_te)/len(t_te)) + '\\n')"
      ],
      "execution_count": 27,
      "outputs": [
        {
          "output_type": "display_data",
          "data": {
            "image/png": "iVBORw0KGgoAAAANSUhEUgAAAi0AAAI4CAYAAACm8tlaAAAABHNCSVQICAgIfAhkiAAAAAlwSFlzAAALEgAACxIB0t1+/AAAADh0RVh0U29mdHdhcmUAbWF0cGxvdGxpYiB2ZXJzaW9uMy4yLjIsIGh0dHA6Ly9tYXRwbG90bGliLm9yZy+WH4yJAAAgAElEQVR4nOzdd3xV9f3H8dcnRMQFhGUhAWWIkIhscRRBW1dZKig4GOJo/YmCq+5tqbPuWts60KLIbBgKaF3VVhkqIOAAwZKACwUcGOTy+f1xTsJNCCSM3HF4Px+P+0jOOd9zzueb7x3f+/l+z4m5OyIiIiKpLiPZAYiIiIhUhjotIiIikhbUaREREZG0oE6LiIiIpAV1WkRERCQtZCY7ABEREdl51Woe4L5xfULO5eu/muHuJybkZHHUaREREYkA37iePQ8+PSHn+un9R+ol5ERlaHhIRERE0oIyLSIiIpFgYNHORUS7diIiIhIZyrSIiIhEgQFmyY6iSinTIiIiImlBmRYREZGo0JwWERERkeRTpkVERCQqNKdFREREJPnUaREREZG0oOEhERGRSNDN5URERERSgjItIiIiUaGJuCIiIiLJp0yLiIhIFBia0yIiIiKSCpRpERERiQTTnBYRERGRVKBMi4iISFRoTouIiIhI8inTIiIiEhWa0yIiIiKSfMq0iIiIRIL+95CIiIhISlCnRURERNKChodERESiwNBEXBEREZFUoEyLiIhIVGgiroiIiEjyKdMiIiISCbrkWURERCQlKNMiIiISFRm6ekhEREQk6ZRpERERiQJDc1pEREREUoEyLSIiIlGhO+KKiIiIJJ8yLSIiIpGg+7SIiIiIpAR1WkRERCQtaHhIREQkKjQRV6TyzOw1M/vWzPZMdiyyY8zsV2b2oZn9aGavmtkBWynXwMyeM7OVZrbWzN4ysy5x27ub2SYz+z7uMTjctqeZPW5mn5nZd2b2vpmdVOb455nZknC/6WbWKG5bbTMbZWZfho+by+y73MzWx513Zty2wWY218zWmVmBmd1lZpll9h9gZovN7AczW2pmXcP1uWY2J3yOf2tmL5tZbtx+l5rZp+GxV5rZffHHNrMDw7/pj+Hf+Ndb+dv+y8y8zL5brVMl9r3NzBaY2cayf6twe30zezZsx2/NbHQ5ZeqY2Vdm9mZ55xVJBHVaZJcxswOBroADvavg+LtVZjAZ9TWzesBE4AagDjAHeH4rxfcFZgMdw7KjgGlmtm9cmZXuvm/cY1S4PhNYAXQDagHXA2PD5xBm1h0YCfQJj70MeC7uuPcBewMHAocBA83snDLx9Yo77/Fx6/cGRgD1gC7Ar4Ar4v4GxwF3AucA+wFHA58W1wfoF8ZUD5gMjIk79mSgg7vXBA4B2gKXxG1/DngPqAtcB4w3s/rxQZvZWcAelG9rdapo3yXA74FpWznuROBzoAnQALinnDJ3Aou3sr+kCstIzCNJ1GmRXWkQ8DbwFBD/jXqNmR1SXCj8VrfezBqEyz3Db9przOw/ZnZoXNnlZnaVmc0HfjCzTDO7Ovz2+52ZLTKzU+LKVzOze83sazNbZmbD4r91mlmt8Bv+KjMrNLPbzaxaeZUxs8PM7L9hXKvM7GEzqx63Pc/MXjKzb8zsCzO7Ni6Ga+NinGtmjcNv2WW/Ab9mZueFvw+xIFtxn5mtBm42s+Zm9oqZrQ7rNNrMasft39jMJobfgFcXxxjG1CauXIPw232pD8hynAosdPdx7v4TcDPQ1sxalS3o7p+6+5/cfZW7x9z9r0B14OAKzoG7/+DuN7v7cnff5O5TCTomHcMiPYFx7r7Q3TcAtwFHm1nzcHsv4C53/9HdlwOPA0MrOm947kfd/d/uvsHdC4HRwFFxRW4BbnX3t8PYCsNyuPuaMGYnuP9oDGgRd+yl7r4mXDRgU/F2M2sJdABucvf17j4BWAD0Ld7fzGoBNxF0MLbLtvZ191Hu/iLwXTn7HQ80Bq5097Xu/rO7v1emzJEEnbAntzcukV1JnRbZlQYRfACMBk4ws/3dvYjgW9wZceVOB1539y/NrD3wBPBbgm+fjwGTrfTw0hlAD6C2u28ElhJkdGoRfMD8w8wahmXPB04C2hF8QJxcJsangI0EHyTtgeOB87ZSnxhwKcE36iMIvpH/H4CZ7Qe8DEwHGoXH+1e432VhzL8BahJ8mP64lXOU1YXgW/3+wB8IPvj+GJ6jNcGHy81hDNWAqcBnBBmHbGBM+CE/Bjg77rhnAP9y96/MbL6ZnbmV8+cB84oX3P0Hgr93XkWBm1k7gk7LkrjVDcIO3bKwM7bPVvbdH2gJLIxfXc7vh2xje/w2gNFhZ26mmbXdRuhHF583/Jt2AupbMDRVEHYE9yoT7xrgJ+AhgoxQ/LYzzWwd8DVBpuWxcFMe8Km7x3cc5lH6bzsSeJQg61GebdWpon235nDgI2BU2PGdbWbd4upTDXgYGEaQRZVUZZa4R5Ko0yK7hJn9EjgAGOvucwk+6Io/GJ8FBsQVPzNcB3AB8Ji7vxN+Wx8FFBG8kRZ70N1XuPt6gDALsDL8Fvw88AnBEAEEHaIH3L3A3b8F7oiLcX+CjsSI8Jv+lwTDDPGxlXD3ueG37Y3ht/nHCIYzIMgEfO7u97r7T+7+nbu/E247D7je3T/ywDx3X13JP+VKd38oPOd6d1/i7i+5e5G7fwX8KS6Gwwg6M1eG9fnJ3YvnG4wCzjAreXcZCDwT1utQd3+W8u0LrC2zbi3BMMlWmVnN8Pi3uHvx/h8SdB4bAscSZFH+VM6+exB0dEe5+4fh6unA6WZ2aNhhuJHgA3PvuO1Xm9l+ZtaCoGO4d9xhzyLoyB0AvArMiM9QxZ17KEEnpXg4ZH+C4ZV+BB3jdgSd2+vj93P32gSd5mEEwz3x254Nh4daAn8Bvgg3bfNva2adCDI+D5WNs6I6VWLfbckh6Ly/CvwCuBfIt2CoEILhrXfC17VIUqnTIrvKYGCmu38dLj8broPgzXBvM+tiwZyFdsCkcNsBwOXhEMya8BtsY4IP42Ir4k9kZoNs83DSGoJv2MVvsI3KlI///QCCD6RVcfs+RjCGvwUza2lmU83s8/Cb88i48zQm6JiVZ1vbKlK2rvub2ZhwKGsd8I8yMXwWZp9KCTtQPwLdw6GdFgTzLSryPUF2KF5NyhlWiItxL2AK8La7/zEuhs/dfVHYuVxGMGzRt8y+GQSdnQ0EHYDifV8mGOqYACwPH98BBWGRS4D1BB3WfIK5IgVx+78Vdvp+DGNaQ9AJiT/3yQRZrJPinrfrw58PhcNeXxN0tH5Ttt5hFuovwNMWDnWW2f4JQQbnz+Gqrf5tw7/Dn4Hh5bXntupUmX0rsB5Y7u6Ph0NDYwieh0dZMPn5EoL5N5IONKdFZNvCD63TgW7hB/znBMMqbc2srbvHgLEEQxRnAFPjUuQrgD+4e+24x97uHj/p0uPOdQDwN4IPuLrhN94P2DxUsIrgm2OxxnG/ryDI4tSLO1dNd9/a0MejBNmCg8JvztfGnWcF0Gwr+60Ampez/ofwZ3xG4BdlypRNv48M17UJYzi7TAxNbOsTdkeF5QcC4z2Yo1KRhQRDGgCEwznNKT1sQ9z2PYF/EnQYflvBsZ2495wwC/Q4QXajr7v/XKqw+yPufpC770/QeckkaGvc/Rt3P8vdfxG2XwYwq4Jzl+S0zexEgudRL3dfEHfOb8O6eJl9tyaDoD2zt7I9k83PhYVAs3BosVjbcH1NgozP8+HrZ3a4vcDCK5e2Uacd2TfefLasY/HyYQSZskXhsR8ADgtf5+XOBROpSuq0yK5wMsH8j1yCLEo7gvkX/yaY5wJB5qU/QYo7fmjib8DvwiyMmdk+ZtajzBt7vH0I3lC/ArDgipH4uQxjgeFmlh2mzq8q3uDuq4CZwL1mVtPMMiyY6NqN8u0HrAO+D7MVF8Ztmwo0NLMRFkw23s82X+77d+A2MzsorNOhZlY3HN4pBM62YLLuUMrv3JSN4XtgrZllA1fGbZtF0Em7I/y71TCz+Aml/wBOIei4PF3BeYpNAg4xs75mVoNgWGZ+3LBNiXBYZzzBN/XB7r6pzPZjzOyA8G/QmGCoLj+uyKMEz5NexUN/cfvWMLNDwn2bAH8lGPb7Ntze3Mzqhn/HkwiGGW8PtzUxs6MsmJBcw8yuJMhOvRVuP5ZgOKqvu5fX0XkSuNiCyctZBB3wqeG+x5lZ+/C8NQmyMN8SXlVjwWXaxRPMc4FrCOc6ufvHwPvATWFcpwCHEnTI1hJkCYtfP8WZnY7AOxXUaZv7FrdV2J4ZQGZ4jOJOxyQgy4JLwauZWT+Cjv9bwIsEQ1LFx76RYDisXfhlRFKN5rSIVGgw8KS7/y8cEvjc3T8nmLx3lpllhsMVPxC8ub5YvKO7zyGYPPswwZv/EmDI1k7k7osIxtz/SzBXoA3hh1HobwQdk/kEb64vEEy8LX6DHUQwWXRReL7xBN8ky3MFwfyb78Ljllz6G2aKjiO4iuVzgmGKY8LNfyLoPM0k6PQ8DhRP5DyfoOOxmmAC5n+2VtfQLQQTitcSXK46MS6GWHj+FsD/CDIE/eO2rwDeJejk/bt4vZkttODS2C2EHau+BJOAvyWYGDwgbt+/mNlfwsUjCeb2HA+ssc33Dyn+dt8+rN8P4c8FhJf/hhmz3xJ8EH4et29xXDUIOrffE3TO/ktwGXaxjuHxviMY4jnL3YuzQfsRdIi+JegknkgwBFQ8r+gGgvkoL8Sd98W4Y99GkK34mKAz8l749wCoTTAUtZZgCLA5cGJcFusoYIGZ/UDw3HuBIENXbABBVqR4vlU/d/8qnPsU/9r5Kiz/hQcTq7dap0rsC8Hzdz1BpvO68PeBEGStCG5RcEVYr6uBPu7+dTiXKv7Ya4Gfw99FEs7cNRlcoiv8Fv4Xdy/3BmlRZ2ZPEEzuvb7CwiKS1jJqNfE9j7o8Ief66cURc929U0JOFme3ulmXRF84v+YYgizH/gSTOSdtc6eIsmDS86kEGQ8RkbSn4SGJGiMYUvmWIK2/mGAcfrdiZrcRTFq9O7xyR0R2BxGf06JMi0SKu/8IdE52HMnm7jdQeg6IiEjaU6ZFRERE0oIyLSIiIlFgJPXGb4kQ7dqJiIhIZCjTIiIiEgmmTIuIiIhIKlCmRUREJCqSeDlyIijTIiIiImlBmRYREZGo0JwWERERkeRTpkVERCQqNKdFREREJPmUaREREYkC031aRERERFKCMi0iIiJRoTktIiIiIsmnTouIiIikBQ0PbUW9evX8gAMOTHYYItvlvY8Kkx1ClWt3cHayQ0gI92RHkBgZ0R7NAOCzz5bz9ddfJ6SmFvHhIXVatuKAAw7krXfmJDsMke2S1e26ZIdQ5d589fZkh5AQGzZuSnYICVGjerVkh1DljurSKdkhRIY6LSIiIhFgRD/TojktIiIikhaUaREREYkCCx8RpkyLiIiIpAVlWkRERCLBNKdFREREJBUo0yIiIhIRyrSIiIiIpABlWkRERCJCmRYRERGRFKBMi4iISEQo0yIiIiKSAtRpERERkbSg4SEREZEo0G38RURERFKDMi0iIiIRYLqNv4iIiEhqUKZFREQkIpRpEREREUkByrSIiIhEhDItskvNnDGdQ/MOJq9VC+6+644tthcVFXH2mf3Ja9WCrkd24bPlyxMf5C6gegbSuZ7HdTmIec+N4IPnL+OKs4/eYnuT/WvzwgNDmTXqYmY8dC7Z9WuW2r7f3nuyZNLvue+yXokKebvNnDGddoe0ok3rg7jn7vLbb9BZA2jT+iC6/fLwkvZbvXo1Jx1/LA3q7Mdlw4clOOrt9/LM6XRul0uHNgdz3z13brG9qKiIoYPOoEObg/l1tyP432fLS21fseJ/5DSoxUP335ugiHdelF+buzN1WhIoFosx4pKLyJ/yIu/NX8S4Mc+xeNGiUmWeeuJxsmpnsfDDJVw8/FKuu/aqJEW741TPzdK1nhkZxv2X96LP5aNof9YDnPbrQ2l1YP1SZf447ERGT3+PwwY/xMgnX+XW3x1favtN5/+aN99fnsCot08sFuOy4cOYNPkF5s5byLjnx7B4cen2G/Xk49SuXZsFiz9h2CUjuOG6qwGoUaMGN9x0KyPvuDsZoW+XWCzGlZddwrhJU3l77gImjHueD8vU85lRT1CrdhbvLviIC4eN4OYbrim1/fqrr+DXx5+YyLB3SpRfmxUxs4Q8kkWdlgSaPWsWzZu3oGmzZlSvXp3T+g9g6pT8UmWmTsnnrIGDATi1bz9ee+VfuHsywt1hqudm6VrPzq1zWFrwDctXfsvPG2OM+9d8enZtXapMq6YNeH3upwC8/u6npba3P7gRDersy8uzP0lo3NtjzuxZNItrv36n9y+n/SaXtN8pp/bjtVeD9ttnn3048qhfsmeNGskIfbvMnTOLZs2ac2DToJ6n9judF6ZOLlXmxamTOeOsgQD0OaUvr7/2SsnzdNqUfJoccCCtWucmPPYdFeXX5u5OnZYEWrmykJycxiXL2dk5FBYWblmmcVAmMzOTmrVqsXr16oTGubNUzzJl0rCejerXpODLtSXLhV+uI7t+rVJlFnzyOX26BR9kfbrlUnOfGtSpuRdmxh3DTuKah19MaMzbK2ibnJLl7OwcVpXXfjlx7VczPdov3qqVK8mOe542ys5h1aqVpcqsjCtTXM9vVq/m+++/54E/3cVV196Y0Jh3VpRfm9tkCXwkSUp1WszsZDNzM2uV7FhEZNuueeRFurZvyn+fvIiu7ZpS+OVaYpuc357ahRn//ZjCr9YlO0TZSXf+4RYuHDaCfffdN9mhSBoysxPN7CMzW2JmV5ezvYmZvWpm75nZfDP7TUXHTLWrh84A3gx/3rSzBzOzTHffuNNR7SKNGmVTULCiZLmwsIDs7Owty6xYQU5ODhs3bmTd2rXUrVs30aHuFNWzTJk0rOfKr9aR02BzZiW7QU0Kv1pbqsyqr79jwLXPArDPXtU5uXsea7//iS6HNOaoQw/kglO7sM9e1am+RzW+/7GIG/4yM6F1qEjQNgUly4WFBTQsr/0KVpBd3H7r0qP94jVs1IjCuOfpysICGjZsVKpMo7BMdvbmetapW5c5c2aR/8+J3HT91axdu4aMjAz2rFGDC353UaKrsV2i/NqsSKpcPWRm1YBHgOOAAmC2mU129/jJRdcDY939UTPLBV4ADtzWcVMm02Jm+wK/BM4FBoTrupvZa2Y23sw+NLPRFraImf0mXDfXzB40s6nh+pvN7Bkzewt4xszeMLN2ced508zaJr6G0KlzZ5Ys+YTly5axYcMGxj0/hh49e5cq06Nnb0Y/MwqAiRPG0+2YY1PmSVhZqudm6VrPOR8W0iKnLgc0zGKPzGqc9qtDmfbmh6XK1K21d0ldrhzYjVHT5gJwzi3jaNn3blr1u4drHnmRZ6e/n3IdFoCOnTqzNK79xo99vpz261XSfpMmjqdb9/Rov3gdOnZm6dIlfLY8qOfE8WM5qUfpK7pO7NGL50Y/A0D+pAkc3e0YzIwXX3qd+YuXMn/xUi686BIuu+LqlO+wQLRfm2nkMGCJu3/q7huAMUCfMmUcKL7ssBawkgqkUqalDzDd3T82s9Vm1jFc3x7II6jMW8BRZjYHeAw42t2XmdlzZY6VC/zS3deb2WBgCDDCzFoCNdx9XnkBmNkFwAUAjZs02cXVC8ZN73vgYXr1OIFYLMbgIUPJzcvj1ptvpEPHTvTs1ZshQ89l6JCB5LVqQVZWHZ4ZPWaXx1HVVM/0r2cstolL75vClD8NoVo1Y9TUd1m87EtuOO9XvPthIdPe/JCj2zfl1t8djzu8OW85I+6dXPGBU0hmZib33v8QfXqeSCwWY9CQc8jNzeO2W26kQ4dO9OjVm8HnnMt55wyiTeuDyKpTh1HPbH6rad2yKd+tW8eGDRuYMiWfydNm0DoFJ6tmZmZy170P0LfPb4jFYpw1aAitc/MYedtNtOvQid/06MXAwUP53XmD6dDmYLKysnh81LPJDnunRPm1mULqhZ/Fxf7q7n+NW84GVsQtFwBdyhzjZmCmmV0M7AP8uqKTWqrMlg4zJQ+4+0tmdgnQBJgKXOfux4VlHiXouHwQlu0Wru8NXODuPc3sZsDd/ZZw297AfKA1cBtQ4O4PVxRPx46d/K135lRUTCSlZHW7LtkhVLnVr96e7BASYsPGTckOISFqVK+W7BCq3FFdOjF37pwqT+PsUa+51+41sqpPA8DXTw2Y6+6dtrbdzPoBJ7r7eeHyQKCLuw+LK3MZQT/kXjM7AngcOMTdt/rkT4lMi5nVAY4F2piZA9UI0kbTgKK4ojEqF/MPxb+4+49m9hJBJud0oONW9xIREZFdoRBoHLecE66Ldy5wIoC7/9fMagD1gC+3dtBUmdPSD3jG3Q9w9wPdvTGwDOi6lfIfAc3M7MBwuX8Fx/878CAw292/3QXxioiIpJwUurncbOAgM2tqZtUJ5qqWHUP+H/CrMO7WQA3gq20dNFU6LWcAk8qsmxCu34K7rwf+D5huZnOB74C15ZUNy88F1gFP7pJoRUREZKvCK3eHATOAxQRXCS00s1vDKR0AlwPnm9k84DlgiFcwZyUlhofc/Zhy1j1IkB2JXxf/Tz5edfdW4dVEjwBzwjI3lz2WmTUi6KCl3iUMIiIiu0oKXQDl7i8QXMYcv+7GuN8XAUdtzzFTJdOyI843s/eBhQSXSj1WXiEzGwS8QzChd/eY2SYiIhJBKZFp2RHufh9wXyXKPQ08XfURiYiIJJGlzs3lqko6Z1pERERkN5K2mRYREREpTZkWERERkRSgTIuIiEhEKNMiIiIikgKUaREREYkAo9J3q01byrSIiIhIWlCnRURERNKChodERESiItqjQ8q0iIiISHpQpkVERCQKdBt/ERERkdSgTIuIiEhEKNMiIiIikgKUaREREYkIZVpEREREUoAyLSIiIlER7USLMi0iIiKSHpRpERERiQjNaRERERFJAcq0iIiIRICZRT7Tok6LSJT8uDbZEVS5jIxovykXy6y2e9RTZHtoeEhERETSgjItIiIiERH14SFlWkRERCQtKNMiIiISEcq0iIiIiKQAZVpERESiItqJFmVaREREJD0o0yIiIhIRmtMiIiIikgKUaREREYkCU6ZFREREJCUo0yIiIhIBBkQ80aJMi4iIiKQHZVpEREQiwTSnRURERCQVqNMiIiIiaUHDQyIiIhER8dEhZVpEREQkPSjTIiIiEhGaiCsiIiKSApRpERERiQLTnBbZxWbOmM6heQeT16oFd991xxbbi4qKOPvM/uS1akHXI7vw2fLliQ9yF1A9A+lcz+OObM28STfwQf5NXHHOcVtsb9Iwixf+cjGznr+GGX8bTnaD2iXb/jC8D3PHX8d7E67n3t/3S2TYOyWq7fnSzOm0b9OatrktuffuO7fYXlRUxOCzB9A2tyXHdD2ipF6vvPwSXY/oTJeObel6RGdef/WVBEe+46Lalrs7dVoSKBaLMeKSi8if8iLvzV/EuDHPsXjRolJlnnricbJqZ7HwwyVcPPxSrrv2qiRFu+NUz83StZ4ZGcb9V59On2F/pn3f2zntxI60avaLUmX+eOkpjJ42i8P6/5GRf32RWy/uDcDhbZtyRLtmdD59JB1P+wMd8w6ga8eDklGN7RLV9ozFYlw+/GIm5k9j9vsfMH7sGD5cXLpeTz/1BLVrZzFv0cdcdPFwbrz+agDq1qvH2An5vDN3Ho/9/UnOP3dwMqqw3aLalhUxgtduIh7Jok5LAs2eNYvmzVvQtFkzqlevzmn9BzB1Sn6pMlOn5HPWwOCN4dS+/XjtlX/h7skId4epnpulaz07H3IgS1d8zfLC1fy8Mca4Ge/Ss/uhpcq0ataQ12d9BMDrsz+mZ/c2ALjDntX3oPoemexZPZPMzGp8+c26hNdhe0W1PefMnkWz5s1L6tX3tP5MnTK5VJlpU/I58+xBAJx8aj9ee/UV3J227drTsFEjAFrn5vHT+vUUFRUlvA7bK6ptKeq0JNTKlYXk5DQuWc7OzqGwsHDLMo2DMpmZmdSsVYvVq1cnNM6dpXqWKZOG9WzUoBYFX3xbslz4xbdk169VqsyCjwvpc2w7APoc25aa++5FnVr78M78Zbwx5xOWvfQHls0cycv/WcxHy75IaPw7IqrtuWplIdml6pXNqpVl67WypO6ZmZnUqrllvfInTaBtuw7sueeeVR/0TopqW1aGWWIeyZKwTouZxczsfTNbaGbzzOxyM8sIt3UyswcTEMOBZnZmVZ9HZHdwzX2T6NqxBf997iq6dmxB4RffEottolnjehzcdH9anHA9zU+4ju6HteSo9s2THa7shMWLFnLjddfwwMOPJjsU2c0lMtOy3t3buXsecBxwEnATgLvPcfdLEhDDgUDSOi2NGmVTULCiZLmwsIDs7Owty6wIymzcuJF1a9dSt27dhMa5s1TPMmXSsJ4rv1xLzv5ZJcvZ+2dR+NXaUmVWfbWWAVf8nSPOuJObHp4CwNrv19PnmLbMWrCcH9Zv4If1G5jx1kK6HNo0ofHviKi2Z8NG2RSWqlchDRuVrVejkrpv3LiRtes216uwoIAzTu/LY48/RbPm6dH5jGpbVoaZJeSRLEkZHnL3L4ELgGEW6G5mUwHMrFuYkXnfzN4zs/3MLMPM/mxmH5rZS2b2gpn1C8svN7N64e+dzOy1rR0HuAPoGq67NNH17tS5M0uWfMLyZcvYsGED454fQ4+evUuV6dGzN6OfGQXAxAnj6XbMsWl3syDVc7N0reechZ/Rokl9DmhUlz0yq3HaCR2Y9tr8UmXq1t6npC5XDj2BUflvA7Di82/p2rEF1aplkJmZQdcOB/Hhss8TXoftFdX27NipM0uXLCmp14Rxz9OjZ69SZX7TszfP/uNpAP45cTzduh+DmbFmzRr6ndKLW24fyRFHHpWM8HdIVNtSknifFnf/1MyqAQ3KbLoCuMjd3zKzfYGfgFMJsiS5YfnFwBMVnKK841wNXOHuPcvbwcwuIOhM0bhJkx2q17ZkZmZy3wMP06vHCcRiMQYPGUpuXh633nwjHTp2omev3gwZei5Dhwwkr1ULsrLq8MzoMSbTajkAACAASURBVLs8jqqmeqZ/PWOxTVx651im/PkiqmUYo/LfZvGnn3PDhT14d9H/mPb6Ao7udBC3Xtwbd3jz3SWM+ONYACa+/B7dOrdkzthrcZyX/rOYF974IMk1qlhU2zMzM5N77n+Qk3udxKZYjIGDz6F1bh6333IT7Tt2pEfP3gwaMpTzhw6ibW5LsurU4cmnnwXgr48+wqdLl3DnyNu5c+TtAORPnU79BmXftlNLVNuyQrvBfVosUbOlzex7d9+3zLo1wMFAa8LOhJldDZwCjAYmunuBmd0PzHP3J8P9JgLPuvt4M1sOdHL3r82sE3CPu3ffynG6s41OS7yOHTv5W+/M2VXVF0mIrM7Dkh1Clft29sPJDiEhNsY2JTuEhMisFv3rQY7q0om5c+dUeXdir0YtvcW5j1T1aQD44Pbj57p7p4ScLE7Sni1m1gyIAV/Gr3f3O4DzgL2At8ysVQWH2sjmetTYieOIiIhICktKp8XM6gN/AR72MqkeM2vu7gvc/U5gNtAKeAvoG85t2R/oHrfLcqBj+HvfCo7zHbBf1dRKREQkeQxNxN2V9iq+5Bl4GZgJ3FJOuRFm9oGZzQd+Bl4EJgAFwCLgH8C7QPGlDLcAD5jZHILMzbaOMx+IhZdcJ3wiroiIiOy4hE3Edfdq29j2GvBa+PvF5ZUxsyvc/XszqwvMAhaE5f8NtCznmOUeBzh2uwIXERFJC8nNgiRCOv2X56lmVhuoDtzm7ql/DaWIiIjsMmnTaXH37smOQUREJJVFPNGi/z0kIiIi6SFtMi0iIiKybVGf06JMi4iIiKQFZVpERESiYDe4jb8yLSIiIpIWlGkRERGJgOI74kaZMi0iIiKSFpRpERERiYiIJ1qUaREREZH0oE6LiIiIpAUND4mIiESEJuKKiIiIpABlWkRERCIi4okWZVpEREQkPSjTIiIiEgWmOS0iIiIiKUGZFhERkQgIbuOf7CiqljItIiIikhaUaREREYkE05wWERERkVSgTIuIiEhERDzRok6LSKTsuXeyI6hymzZ5skNIiI2x3aOemdWSHYGkE3VaREREIkJzWkRERERSgDotIiIikhY0PCQiIhIFFv2JuMq0iIiISFpQpkVERCQCgtv4RzvVokyLiIiIpAVlWkRERCJCmRYRERGRFKBMi4iISEREPNGiTIuIiIikB2VaREREIkJzWkRERERSgDItIiIiUaA74oqIiIikBmVaREREIsAwzWkRERERSQXqtIiIiEha0PCQiIhIRER8dEiZFhEREUkPyrSIiIhEREbEUy3KtCTYzBnTOTTvYPJateDuu+7YYntRURFnn9mfvFYt6HpkFz5bvjzxQe4CqmcgXet53OEtmff8lXww7vdcMbD7Ftub/KI2Lzx0PrP+cSkz/vxbsuvXKtn2/Vt38PbTI3j76RGMu3tI4oLeATNnTKfdIa1o0/og7rm7/PYbdNYA2rQ+iG6/PLyk/VavXs1Jxx9Lgzr7cdnwYQmOevu9PHM6ndvl0qHNwdx3z51bbC8qKmLooDPo0OZgft3tCP732fJS21es+B85DWrx0P33JijinRfV12Y6MbMTzewjM1tiZldvpczpZrbIzBaa2bMVHVOdlgSKxWKMuOQi8qe8yHvzFzFuzHMsXrSoVJmnnnicrNpZLPxwCRcPv5Trrr0qSdHuONVzs3SsZ0aGcf8Vp9Dn0sdpf8a9nHZ8O1od2KBUmT9e3JPRL77LYWffx8jHX+bW/zuxZNv6op85fND9HD7ofk678qkER195sViMy4YPY9LkF5g7byHjnh/D4sWl22/Uk49Tu3ZtFiz+hGGXjOCG64L33Ro1anDDTbcy8o67kxH6donFYlx52SWMmzSVt+cuYMK45/mwTD2fGfUEtWpn8e6Cj7hw2AhuvuGaUtuvv/oKfn38iaSLqL42K8MsMY+K47BqwCPASUAucIaZ5ZYpcxBwDXCUu+cBIyo6rjotCTR71iyaN29B02bNqF69Oqf1H8DUKfmlykydks9ZAwcDcGrffrz2yr9w92SEu8NUz83SsZ6dcxuztOBrlq/8hp83xhj30jx6Hp1Xqkyrpg14fc4SAF6fu3SL7elgzuxZNItrv36n9y+n/SaXtN8pp/bjtVeD9ttnn3048qhfsmeNGskIfbvMnTOLZs2ac2DToJ6n9judF6ZOLlXmxamTOeOsgQD0OaUvr7/2SsnzdNqUfJoccCCtWuducexUFdXXZpo5DFji7p+6+wZgDNCnTJnzgUfc/VsAd/+yooOq05JAK1cWkpPTuGQ5OzuHwsLCLcs0DspkZmZSs1YtVq9endA4d5bqWaZMmtWzUf1aFHy5tmS58Mu1ZNevWarMgk9W0af7IQD06X4INfepQZ2aewNQo3ombz55Ca///SJ6pXBnJmibnJLl7OwcVpXXfjlx7Vcz9duvrFUrV5Id9zxtlJ3DqlUrS5VZGVemuJ7frF7N999/zwN/uourrr0xoTHvrKi+NisSZEEsIQ+gnpnNiXtcUCacbGBF3HJBuC5eS6Clmb1lZm+bWYXpvLSZiGtmMWBB3KqT3X15ksIR2a1d89A07ruiD2f36MRb7y+j8Ms1xDZtAuDgU/7Iyq/WcWCjOkx/5AI+WLqKZYXfJDli2RF3/uEWLhw2gn333TfZoUjq+drdO+3kMTKBg4DuQA7whpm1cfc129ohXax393a76mBmlunuG3fV8SqjUaNsCgo2dzwLCwvIzs7essyKFeTk5LBx40bWrV1L3bp1ExnmTlM9y5RJs3qu/GotOQ02T6zNblCLwq/WlSqz6ut1DLj6GQD22as6Jx9zCGu//yncPyi7fOU3vPHup7RrmZ2SnZagbQpKlgsLC2hYXvsVrCC7uP3WpX77ldWwUSMK456nKwsLaNiwUakyjcIy2dmb61mnbl3mzJlF/j8nctP1V7N27RoyMjLYs0YNLvjdRYmuxnaJ6muzMjJS5+KhQqBx3HJOuC5eAfCOu/8MLDOzjwk6MbO3dtC0Hh4ys45m9rqZzTWzGWbWMFx/vpnNNrN5ZjbBzPYO1z9lZn8xs3eAuxIdb6fOnVmy5BOWL1vGhg0bGPf8GHr07F2qTI+evRn9zCgAJk4YT7djjk27/yWhem6WjvWcs7iAFo3rcUDDLPbIrMZpx7Vl2r9LT2KsW2vvknpcOfgYRk2ZA0Dt/fai+h7VSsocceiBLF72RWIrUEkdO3VmaVz7jR/7fDnt16uk/SZNHE+37qnffmV16NiZpUuX8NnyoJ4Tx4/lpB69SpU5sUcvnhsddELzJ03g6G7HYGa8+NLrzF+8lPmLl3LhRZdw2RVXp3yHBaL72kwzs4GDzKypmVUHBgCTy5T5J0GWBTOrRzBc9Om2DppOmZa9zOz98PdlwOnAQ0Afd//KzPoDfwCGAhPd/W8AZnY7cG5YFoLe3pHuHit7gnBM7gKAxk2a7PIKZGZmct8DD9OrxwnEYjEGDxlKbl4et958Ix06dqJnr94MGXouQ4cMJK9VC7Ky6vDM6DG7PI6qpnqmdz1jsU1cek8+Ux44j2oZGYyaOpvFy77ghvOP590PC5j270Uc3aE5t/7fSbg7b76/jBF3TwKg1YENeOiqU9nkToYZ9zz9Kh8ur3BuXVJkZmZy7/0P0afnicRiMQYNOYfc3Dxuu+VGOnToRI9evRl8zrmcd84g2rQ+iKw6dRj1zHMl+7du2ZTv1q1jw4YNTJmSz+RpM2idgpNVMzMzueveB+jb5zfEYjHOGjSE1rl5jLztJtp16MRvevRi4OCh/O68wXRoczBZWVk8PqrCK09TWlRfm5WRKh0vd99oZsOAGUA14Al3X2hmtwJz3H1yuO14M1sExIAr3X2bE4ssXWZLm9n37r5v3PIhwH/Y3CurBqxy9+PNrBtwO1Ab2BeY4e6/M7OngFfdfVRF5+vYsZO/9c6cXV0NkSqV9cvfJzuEKrf6jS3vMxJFGzZuSnYICVGjerVkh1DljurSiblz51R5b6LWAa39qGsq/HjbJV68sMvcXTCnZbulU6alLAMWuvsR5Wx7imCi7jwzG0KYfgr9UPWhiYiIJF6KJFqqTDrPafkIqG9mRwCY2R5mVnx95X7AKjPbAzgrWQGKiIjIrpO2nZbwZjX9gDvNbB7wPnBkuPkG4B3gLeDD5EQoIiIiu1LaDA/Fz2eJW/c+cHQ56x8FHi1n/ZAqCU5ERCTJDDCiPT6UtpkWERER2b2kTaZFREREti2Fbi5XJZRpERERkbSgTIuIiEgUbP5nhpGlTIuIiIikBWVaREREIiLiiRZlWkRERCQ9KNMiIiISAQZkRDzVokyLiIiIpAVlWkRERCIi4okWZVpEREQkPSjTIiIiEhG6T4uIiIhIClCnRURERNJCpYaHzCwbOCC+vLu/UVVBiYiIyPYxi/5E3Ao7LWZ2J9AfWATEwtUOqNMiIiIiCVOZTMvJwMHuXlTVwYiIiMiO083l4FNgj6oORERERGRbKpNp+RF438z+BZRkW9z9kiqLSkRERLZbtPMsleu0TA4fIiIiIklTYafF3UeZWXWgZbjqI3f/uWrDEhERke0V9ZvLVebqoe7AKGA5QeapsZkN1iXPIiIikkiVGR66Fzje3T8CMLOWwHNAx6oMTER2wM+6yC8qMqtF+xuz7HoGZET8aVOZq4f2KO6wALj7x+hqIhEREUmwymRa5pjZ34F/hMtnAXOqLiQRERHZbmaa0wJcCFwEFF/i/G/gz1UWkYiIiEg5KnP1UBHwp/AhIiIiKSriiZatd1rMbKy7n25mCwj+11Ap7n5olUYmIiIiEmdbmZbh4c+eiQhEREREZFu22mlx91Xhr18D6919U3i5cyvgxUQEJyIiIpUX9Ym4lbnk+Q2ghpllAzOBgcBTVRmUiIiISFmVuXrI3P1HMzsX+LO732Vm71d1YCIiIlJ5urlcwMzsCIL7s0wL11WrupBEREREtlSZTMsI4BpgkrsvNLNmwKtVG5aIiIhsr6jPaanMfVpeB14HMLMM4Gt3v2Tbe4mIiIjsWhUOD5nZs2ZW08z2AT4AFpnZlVUfmoiIiGwPS9AjWSozpyXX3dcBJxNc6tyU4AoiERERkYSpzJyWPcxsD4JOy8Pu/rOZbXGHXBEREUkeM8iI+JyWymRaHgOWA/sAb5jZAcC6qgxKREREpKzKTMR9EHgwbtVnZnZM1YUkIiIiOyLiiZZKTcTd38weN7MXw+VcYHCVRyYiIiISpzLDQ08BM4BG4fLHBPduERERkRRiZgl5JEtlOi313H0ssAnA3TcCsSqNSkRERKSMynRafjCzuoADmNnhwNoqjUpERESkjMp0Wi4DJgPNzewt4Gng4iqNKsJmzpjOoXkHk9eqBXffdccW24uKijj7zP7ktWpB1yO78Nny5YkPchdQPQPpWs/jjmjFvAnX8sE/r+eKIb/eYnuTX2TxwqMXMWvMVcx4bBjZDWoBcHSnFrz97JUlj2//cw+9urdJdPiVNnPGdNod0oo2rQ/inrvLb79BZw2gTeuD6PbLw0vab/Xq1Zx0/LE0qLMflw0fluCot99LM6fTvk1r2ua25N6779xie1FREYPPHkDb3JYc0/WIknq+8vJLdD2iM106tqXrEZ15/dVXEhz5jovqa7MiZol5JMs2Oy1mVg3oFj6OBH4L5Ln7/ATEFjmxWIwRl1xE/pQXeW/+IsaNeY7FixaVKvPUE4+TVTuLhR8u4eLhl3LdtVclKdodp3pulo71zMgw7r/6NPpc8hjt+/2R007oQKum+5cq88dL+zB62iwOG3AnI/8+g1uH9QLgjTlLOPzMuzn8zLs56XeP8ONPG3j57Q+TUY0KxWIxLhs+jEmTX2DuvIWMe34MixeXbr9RTz5O7dq1WbD4E4ZdMoIbrrsagBo1anDDTbcy8o67kxH6donFYlw+/GIm5k9j9vsfMH7sGD4sU8+nn3qC2rWzmLfoYy66eDg3Xh/Us269eoydkM87c+fx2N+f5Pxz0+MajKi+NqWCTou7x4Az3H2juy909w/c/ecExRY5s2fNonnzFjRt1ozq1atzWv8BTJ2SX6rM1Cn5nDUweGM4tW8/XnvlX7in1738VM/N0rGenfMOYOmKr1heuJqfN8YYN/NdepbJlrRq+gten/0JAK/P/oSe3bbMppzyq7bM/M9i1v+Umm8Zc2bPollc+/U7vX857Te5pP1OObUfr70atN8+++zDkUf9kj1r1EhG6NslqGfzknr2Pa0/U6dMLlVm2pR8zjx7EAAnn9qP1159BXenbbv2NGwUXIPROjePn9avp6ioKOF12F5RfW1WxDAyLDGPZKnM8NBbZvawmXU1sw7FjyqPLIJWriwkJ6dxyXJ2dg6FhYVblmkclMnMzKRmrVqsXr06oXHuLNWzTJk0q2ejBrUo+GJNyXLhF2vIrl+rVJkFn6ykz7FtAehzzKHU3LcGdWrtXarMaSd0YOyMd6s+4B0UtE1OyXJ2dg6rymu/nLj2q5n67VfWqpWFZJd6nmazamXZeq4sVc9a5dQzf9IE2rbrwJ577ln1Qe+kqL42pXK38W8X/rw1bp0Dx+6KAMzse3ffN255CNDJ3VN/oFhkN3XNff/kvqv6cXbPw3jrvaUUfrGGWGzzt9Rf1KtJXotGvPTfxUmMUnaVxYsWcuN11/DPqdOTHYpsS5LnmyRCZe6Iq7vf7iKNGmVTULCiZLmwsIDs7Owty6xYQU5ODhs3bmTd2rXUrVs30aHuFNWzTJk0q+fKL9eSs3/tkuXs/WtT+FXpCwZXfb2OAVc+AcA+e1Xn5GPbsvb79SXb+x7Xnsmvzmfjxk2JCXoHBG1TULJcWFhAw/Lar2AF2cXtty7126+sho2yKSz1PC2kYaOy9WxUqp5r4+pZWFDAGaf35bHHn6JZ8+YJjX1HRfW1KZW7I25dM3vQzN41s7lm9kB4CXSVM7NeZvaOmb1nZi+b2f7h+pvN7Bkz+6+ZfWJm54fru5vZG2Y2zcw+MrO/mFmGmQ01s/vjjnu+md2XiDrE69S5M0uWfMLyZcvYsGED454fQ4+evUuV6dGzN6OfGQXAxAnj6XbMsUm9kc+OUD03S8d6zln0P1o0rs8BjeqwR2Y1Tju+A9Ne/6BUmbq19ympx5XnHMeoyW+X2n76CR0YO2NuwmLeER07dWZpXPuNH/t8Oe3Xq6T9Jk0cT7fuqd9+ZQX1XFJSzwnjnqdHz16lyvymZ2+e/cfTAPxz4ni6dT8GM2PNmjX0O6UXt9w+kiOOPCoZ4e+QqL42KyPqN5erzPDQGOANoG+4fBbwPLDldZA7Zi8zez9uuQ7BJdYAbwKHu7ub2XnA74HLw22HAocT/CPH98xsWrj+MCAX+AyYDpwKjAWuM7Mrw4nE5xBcCZVQmZmZ3PfAw/TqcQKxWIzBQ4aSm5fHrTffSIeOnejZqzdDhp7L0CEDyWvVgqysOjwzekyiw9xpqmd61zMW28Sld01gysMXUq1aBqPy32bxp59zw+9O4t1FK5j2xgcc3bEFtw7rhbvz5ntLGXHHuJL9mzSsQ87+tfn33KVJrEXFMjMzuff+h+jT80RisRiDhpxDbm4et91yIx06dKJHr94MPudczjtnEG1aH0RWnTqMeua5kv1bt2zKd+vWsWHDBqZMyWfytBm0bp2bxBqVLzMzk3vuf5CTe53EpliMgYPPoXVuHrffchPtO3akR8/eDBoylPOHDqJtbkuy6tThyaefBeCvjz7Cp0uXcOfI27lz5O0A5E+dTv0GDZJZpQpF9bUpYBXNljazD9z9kDLrFrj7Lrn5wrbmtJhZG+BeoCFQHVjm7iea2c1AhrvfGO7zNDARWAPc6u5Hh+uHAoe6+wgz+xvwArAYeMbdO5cTywXABQCNmzTp+PHSz3ZFFUUSJqvL8GSHUOVW//f+igtFwKY0v5KlsjKrVeZ6kPR2VJdOzJ07p8rTEw1aHOL97x5XccFd4OFTc+e6e6eEnCxOZZ4tM81sQDjMkmFmpxP8L6JEeAh4OOwg/RaIv76w7CvaK1j/d2AIQZblyfJO5u5/dfdO7t6pfr36OxO3iIiI7GKV6bScDzwLFIWPMcBvzew7M1tXlcEBtYDi69TK3tWoj5nVCOfXdAdmh+sPM7OmZpYB9CcYYsLd3wEaA2cCzyEiIhIhhua04O77JSKQrbgZGGdm3wKvAE3jts0HXgXqAbe5+0oza0nQeXkYaBFunxS3z1ignbt/m4DYRUREZBeqsNNiZue6++Nxy9WA6939ll0RQPx8lnD5KeCp8Pd8IH/LvQCY7+6Dylm/zt17bmWfXwIJv2pIREQkETLS/wKobarM8NCvzOwFM2toZocAbwPJzL5sNzOrbWYfA+vd/V/JjkdERES2X2WGh840s/7AAuAH4Ex3f6vKI9t2TDdvZf1rwGvlrF8DtKzSoERERKRKVWZ46CBgODABaA0MNLP33P3Hqg5OREREKk/DQzAFuNHdfwt0Az5h85U6IiIiIglRmTviHubu6wA8uBPdvWY2pWrDEhERke1hRiT+FcG2VCbTspeZPW5m0wHMLBfoWrVhiYiIiJRWmU7LUwR3wG0YLn8MjKiqgERERGTHZFhiHkmrXyXK1HP3scAmAHffCMSqNCoRERGRMiozp+WH8Fb5DmBmhwNrqzQqERER2W4Rn9JSqU7LZcBkoLmZvQXUB/pVaVQiIiIiZVTm5nLvmlk34GCC/8f0kbv/XOWRiYiISKUZkBHxVEtlMi3F81gWVnEsIiIiIltVqU6LiIiIpL7KXF2TzqJePxEREYmICjstFjjbzG4Ml5uY2WFVH5qIiIhsj+CuuFX/SJbKZFr+DBwBnBEufwc8UmURiYiIiJSjMnNaurh7BzN7D8DdvzWz6lUcl4iIiEgplem0/Gxm1dh8c7n6hHfHFRERkdRgZpG/5Lkyw0MPApOABmb2B+BNYGSVRiUiIiJSRmVuLjfazOYCvyK4d83J7r64yiMTERGR7RLxREvFnRYzawL8CEyJX+fu/6vKwERERETiVWZOyzSC+SwG1ACaAh8BeVUYl4iIiGynjN090+LubeKXzawD8H9VFpGIiIhIObb7Nv7hP1DsUhXBiMhOqhb9/8yxyT3ZIYikJP3DRMDMLotbzAA6ACurLCIRERGRclTma9l+cb9vJJjjMqFqwhEREZEdFfFEy7Y7LeFN5fZz9ysSFI+IiIhIubbaaTGzTHffaGZHJTIgERER2QG2e189NItg/sr7ZjYZGAf8ULzR3SdWcWwiIiIiJSozp6UGsBo4ls33a3FAnRYREZEUYkQ71bKtTkuD8MqhD9jcWSmmaw5FREQkobbVaakG7AvldtvUaREREZGE2lanZZW735qwSERERGSHBTeXS3YUVStjG9siXnURERFJJ9vKtPwqYVGIiIjITtttMy3u/k0iAxERERHZluj/dzUREZHdhEX8Pv7bmtMiIiIikjKUaREREYmA3f3qIREREZGUoUyLiIhIFBhEfEqLMi0iIiKSHtRpERERiYgMs4Q8KsPMTjSzj8xsiZldvY1yfc3MzaxThfXbjr+FiIiISIXMrBrwCHASkAucYWa55ZTbDxgOvFOZ46rTIiIiEgHFVw8l4lEJhwFL3P1Td98AjAH6lFPuNuBO4KfKHFSdlgSbOWM6h+YdTF6rFtx91x1bbC8qKuLsM/uT16oFXY/swmfLlyc+yF1A9Qykaz2PO/xg5o27ig8mXMMVg47dYnuTX2TxwiO/Y9boy5nx6IVkN6hVsq3x/rWZ8uAFvPf873l3zJU0aZiVyNC3y0szp9O+TWva5rbk3rvv3GJ7UVERg88eQNvclhzT9YiS9nvl5ZfoekRnunRsS9cjOvP6q68kOPLts7vUM15UX5sppJ6ZzYl7XFBmezawIm65IFxXwsw6AI3dfVplT6pOSwLFYjFGXHIR+VNe5L35ixg35jkWL1pUqsxTTzxOVu0sFn64hIuHX8p1116VpGh3nOq5WTrWMyPDuP/3p9Jn+N9o3/8uTjuhPa2a7l+qzB+H92L0C3M47Kx7Gfn4S9z6f78p2fb3m8/gvn+8Rvv+d9H1nAf46pvvE12FSonFYlw+/GIm5k9j9vsfMH7sGD5cXLr9nn7qCWrXzmLeoo+56OLh3Hh9MCxft149xk7I552583js709y/rmDk1GFStld6hkvqq/NFPO1u3eKe/x1e3Y2swzgT8Dl27OfOi0JNHvWLJo3b0HTZs2oXr06p/UfwNQp+aXKTJ2Sz1kDgzeGU/v247VX/oW7JyPcHaZ6bpaO9eyc14SlBatZvvIbft4YY9zM9+h5dF6pMq2a7s/rs5cA8PqcJfQ8+pCS9ZnVqvHKrI8B+GH9BtYX/ZzYClTSnNmzaNa8eUn79T2tP1OnTC5VZtqUfM48exAAJ5/aj9defQV3p2279jRs1AiA1rl5/LR+PUVFRQmvQ2XsLvWMF9XXZmWYJeZRCYVA47jlnHBdsf2AQ4DXzGw5cDgwuaLJuOq0JNDKlYXk5Gxuw+zsHAoLC7cs0zgok5mZSc1atVi9enVC49xZqmeZMmlWz0b1a1HwxZqS5cIv15Jdv1apMgs+WUmfY9oA0Kd7G2ruW4M6tfbmoCb1WfP9esbcOZj/PnMZIy/uSUaK3qJz1cpCsku1XzarVpZtv5UlbZyZmUmtmlu2X/6kCbRt14E999yz6oPeAbtLPeNF9bWZZmYDB5lZUzOrDgwASnrL7r7W3eu5+4HufiDwNtDb3f+/vfuOk6o6/zj++cJaUWmWyIKKojQLwtpFsRewROWHHdTExBhrippERUyMiL3EaKIRW1TUqIgRIwZrlGIHS1AxAkYBA3aU5fn9ce7CsNJhZ3buft++9uXOzJ0753B3Zp77nOecO2ZROy3LoEXSryWNk/SqpJclbbeEz9tI0ut13T6zvDvnqqF077ox/7rtTLp33ZjJH82gunoOZMWF0AAAIABJREFUFY0bsVOXtpx91VB27nclbStbckyvbUrd3DrzxvhxnPfrc7jq2utL3ZQ61VD6Wf5EoyL9LE5EzAZ+CgwH3gDuiYhxkgZIOnBZe1h2K+JK2gHoBXSNiFmS1gZWLnGzlkirVpVMmjSvLmny5ElUVlZ+d5sPPqB169bMnj2bT2fOpGXLlsVu6nJxP2ttU2b9nDJ1Jq3Xazb3duW6TZk8deZ823w47VMOP2swAE1WW5mDd9uSmZ9/zeSPZ/Dq21OYOOUTAB568nW23XxDBjOqeB1YQuu3qmTyfMdvMuu3qn38WjFp0gdUZsdv5qfzjt/kSZM44v8O5YabbmHjTTYpatuXRkPpZ6G8vjfLTUQ8AjxS677zFrJtjyXZZzlmWtYnFQDNAoiIaRExRdJ5kkZLel3Sjcquzy2pm6RXJL0CnFzKhldtsw0TJvybie+9xzfffMOQu++iZ6/5A86evQ7kjtvSl8H9993LrrvtXnaXGnc/5ynHfo4Z/wHt2qzNhq1asFJFY3rvvTXDnh433zYtmzaZ249f9NuDwUNHzX1u0zVXY+1mTQDoUdWON9/7qLgdWELdqrbhnQkT5h6/+4bcTc9eB8y3zf69DuTO228F4IH772XXHrshiRkzZnDY9w/ggt9exA477lSK5i+xhtLPQnl9by6OqFc1LXWiHIOWx4A2kt6W9AdJu2b3XxsR20TE5sBqpGwMwF+AUyJiq8XtWNKJNdO3pk6busIbXlFRwRVXXcsBPfehyxYdObT3/9Gpc2cG9D9vbmFcv+NPYPon0+ncoR1XX3k5v/3dd6fq1XfuZ3n3s7p6DmcMup+hV5/Iy/f8kvsef5k33v2Ic0/ch57dU0HuLt024dUhZ/HqvWezbos1GfiXxwGYMyc456qhPHLdjxl958+RxM0PPF/K7ixURUUFl155NQcfsB9VW3XmkEN707FTZ357wfkMezgdv2P7Hc8nn0xnq06bce3VV3LBhb8H4Mbrr+PddyYw8KLfsuO2Xdlx265M/fjjUnZnoRpKPwvl9b1poHKsls5W2usO7Ab8CDgb+Az4JbA60AK4Bvgj8GpEbJA9b0vgziywWaRu3ari2RcWWQ9kVu8033GpZg+WpalPDyp1E2wFqmhcjufOS2en7aoYO3ZMnecnNuy4ZZxz80OL33AFOGnHtmMjYrHL7q9oZVfTAhAR1cBI0lSp10iBy5ZAVUR8IKk/sGrpWmhmZmYrWtmFuJLaS9q04K4uwFvZ79MkrQEcBhARM4AZknbOHj+qeC01MzMrrvp0wcS6UI6ZljWAayQ1A2YDE4ATgRnA68B/SfPDaxwH3CwpSPUwZmZmVobKLmiJiLHAjgt46DfZz4K2LyzC/WUdNc3MzKxkamYP5VnZDQ+ZmZlZw1R2mRYzMzNbsFLWmxSDMy1mZmZWFhy0mJmZWVnw8JCZmVlO5Hx0yJkWMzMzKw/OtJiZmeWAyH8mIu/9MzMzs5xwpsXMzCwPBMp5UYszLWZmZlYWnGkxMzPLiXznWZxpMTMzszLhTIuZmVkOCC/jb2ZmZlYvONNiZmaWE/nOszjTYmZmZmXCmRYzM7OcyHlJizMtZmZmVh4ctJiZmVlZ8PCQmZlZLsjL+JuZmZnVB860mJmZ5YDIfyYi7/0zMzOznHCmxSxPmq5X6hbUuYrGDeNca+qns0rdhKJYZ61VSt2EXHFNi5mZmVk94EyLmZlZTuQ7z+JMi5mZmZUJZ1rMzMzyQK5pMTMzM6sXnGkxMzPLAa/TYmZmZlZPONNiZmaWE65pMTMzM6sHnGkxMzPLiXznWZxpMTMzszLhoMXMzMzKgoeHzMzMciLndbjOtJiZmVl5cKbFzMwsB9LicvlOtTjTYmZmZmXBmRYzM7OccE2LmZmZWT3gTIuZmVkuCLmmxczMzKz0nGkxMzPLCde02Ar12PBH2bJzezp3aMegSy7+zuOzZs3i6CP70LlDO7rvuB3vT5xY/EauAO5nkpd+7lXVlldu/gGv3/JDft5nu+88vsG6a/HIJX0YdUM/hl96OJVrr1GCVi6/hnA8R454jB7bbkH3qk5cd+Wg7zz+wnNPs/9u29N23SYMe+j+ErRwxWgIx7IhctBSRNXV1Zx+6sk8OPTvvPTqeIbc9VfeGD9+vm1uufkmmjdrzrg3J3DKaWfw61+dVaLWLjv3c5489LNRI3HlKXty0K+GsPUPbqL3bh3psEHL+bb5/Y96cMc/XmfbH93CRbc/x4ATdi1Ra5ddQzie1dXV/OaXpzH4ngcZ8dzLPHT/Pbz95hvzbdOqdRsuu/ZPHHRonxK1cvk1hGO5IDXrtBTjp1QctBTR6FGj2GSTdrTdeGNWXnllevc5nIeHPjjfNg8PfZCjjukLwCGHHsbIJ0YQEaVo7jJzP+fJQz+3ab8+70yZwcT/zuTb2XMYMvINeu3Ybr5tOmywNk++/B8Annz5P/Taod2CdlWvNYTj+fKLo9mo7SZsuFHq4wHf781jfx863zZtNtiIjp23oFGj8v16aAjHsqEq37/KMjRlymRat24z93ZlZWsmT5783W3apG0qKipYq2lTpk+fXtR2Li/3s9Y2Zd7PVmuvwaSpn829PXnaZ1SuveZ827z27scctPNmABy086as1WQVWqy5alHbubwawvH874dTaFXZeu7t9VtV8tGHU0rYorrREI7lAinVtBTjp1TqNGiR9GtJ4yS9KullSd8dDF8xr/OIpGZ1sW8zW7xzbhxJ9y3b8K/r+9J9yzZMnvoZ1XN81mpmK1adzR6StAPQC+gaEbMkrQ2svITPrYiI2UuwnQBFxP7L19riaNWqkkmTPph7e/LkSVRWVn53mw8+oHXr1syePZtPZ86kZcuWtXdVr7mftbYp835OmfY5rdeZl1mpXHtNJk/7bL5tPpz+OYdf8AAATVZdiYN3bs/ML2YVtZ3LqyEcz++t34opkyfNvf3hlMmst36rEraobjSEY9lQ1WWmZX1gWkTMAoiIaRExRdLELIBBUpWkkdnv/SXdJulZ4DZJ/SQ9KGmkpH9LOj/bbiNJb0m6FXgdaFOzT0lNJA2T9Iqk1yX1yZ7TTdKTksZKGi5p/Trs90JVbbMNEyb8m4nvvcc333zDkLvvomevA+fbpmevA7njtsEA3H/fvey62+6ozOawuZ/z5KGfY976kHaVzdnwe01ZqaIRvXt0ZNi/Jsy3Tcu1VpubMv7FEdszePhrJWjp8mkIx3Orrat4790J/Of91MehfxvCXvv1KnWzVriGcCwXJu/DQ3W5TstjwHmS3gYeB+6OiCcX85xOwM4R8ZWkfsC2wObAl8BoScOAacCmQN+IeB4o/EPbF5gSET2z+5tKWgm4BjgoIqZmgczvgONrv7ikE4ETAdpssMEyd3xhKioquOKqazmg5z5UV1fTt9/xdOrcmQH9z6Nrtyp6HXAg/Y4/geP7HUPnDu1o3rwFt91x1wpvR11zP/PVz+o5wRnXPs7Q3/emcSMxePhrvPH+dM7tuzMvvv1fhv1rArts1YYBJ+xKRPDMa5M4/Zp/lLrZS60hHM+KigouHHglx/Q+gOrqavoc2Zf2HTpx2e8vYIsu3dh7v1688uIYfnhsH2bO/B+PD3+Eyy++kBHPvVTqpi+VhnAsGyrVZbW0pMZAd2A34EfA2UB/oCoipkmqAi6NiB6S+gMRERdkz+0H7B4Rx2a3BwCfAA8A/4yItgWvMxGoAlqQgqW7gYcj4mlJmwPPAe9mmzcGPoyIvRfV9m7dquLZF8Ys97+BWTE13++SUjehzv3v778sdROKYuqn5TW8tqzWWWuVUjehzu20XRVjx46p8/zEZpt3ieuGPF7XLwPA3p3WGRsRVUV5sQJ1uiJuRFQDI4GRkl4D+gKzmTcsVXt6wRe1d7GQ27W3q3m9tyV1BfYHfitpBPA3YFxE7LBMnTAzM7N6oc5qWiS1l7RpwV1dgPeBiUC37L5DF7ObvSS1kLQacDDw7GJesxXwZUTcDgwCugJvAetkhcFIWklS56Xtj5mZWX0moJGK81MqdZlpWQO4JpuKPBuYQKoX6QjcJOlCUhZmUUYB9wGtgdsjYoykjRax/RbAIElzgG+BkyLiG0mHAVdLakrq85XAuGXtmJmZmRVfnQUtETEW2HEBDz0NbLaA7fsvYNtJEXFwre0mkopzC+/bKPt1ePZTe98vA7ssQbPNzMzKlkq4xH4xeEVcMzMzKwt1Woi7PCLiFuCWEjfDzMysbORgqZlFcqbFzMzMykK9zbSYmZnZ0nFNi5mZmVk94EyLmZlZDtSs05JnzrSYmZlZWXDQYmZmZmXBw0NmZma5IBfimpmZmdUHzrSYmZnlgby4nJmZmVm94EyLmZlZTuQ80eJMi5mZmZUHZ1rMzMxyIC0ul+9cizMtZmZmVhacaTEzM8uJfOdZnGkxMzOzMuFMi5mZWV7kPNXiTIuZmZmVBWdazMzMcsLXHjIzMzOrBxy0mJmZWVnw8JBZnsz8qNQtqHNz5kSpm1AUTVdfqdRNsDKU87XlnGkxMzOz8uBMi5mZWU7kPNHiTIuZmZmVB2dazMzM8iLnqRZnWszMzKwsONNiZmaWA8KLy5mZmZnVC860mJmZ5YG8TouZmZlZveBMi5mZWU7kPNHiTIuZmZmVB2dazMzM8iLnqRZnWszMzKwsOGgxMzOzsuCgxczMLBdUtP+WqDXSvpLekjRB0tkLePxMSeMlvSpphKQNF7dPBy1mZma2QklqDFwH7Ad0Ao6Q1KnWZi8BVRGxJXAvcMni9uugxczMLCek4vwsgW2BCRHxbkR8A9wFHFS4QUT8MyK+zG4+D7Re3E4dtJiZmdnSWlvSmIKfE2s9Xgl8UHB7UnbfwpwA/H1xL+opz2ZmZjkgijrjeVpEVK2IHUk6GqgCdl3ctg5azMzMbEWbDLQpuN06u28+kvYEfg3sGhGzFrdTBy1mZmZ5UX8WlxsNbCqpLSlYORw4snADSVsDNwD7RsTHS7JT17QU2WPDH2XLzu3p3KEdgy65+DuPz5o1i6OP7EPnDu3ovuN2vD9xYvEbuQK4n0m59nOv7dvzypCzeP2+c/j5sbt/5/ENvtecR677MaPu+BnDrz+JynWbzn2szXrNGHr1ibx09y958a5fsMH6zYvZ9KXy2PBH6bJ5B7bouCmXDlrw8Tv2qMPZouOm7Lrz9nOP3/Tp09lv791Zt8WanHnaT4vc6qX3+GOP0m3LjnTpvBmXDxr4ncdnzZpFv6MPp0vnzdi9+w68//5EAMaOHsXO23Vl5+26stO2WzP0wb8VueXLLq/vzXIREbOBnwLDgTeAeyJinKQBkg7MNhsErAEMkfSypIcWt18HLUVUXV3N6aeezIND/85Lr45nyF1/5Y3x4+fb5pabb6J5s+aMe3MCp5x2Br/+1Vklau2ycz/nKcd+NmokrvzlIRx02p/Yus8l9N5nazq0XW++bX5/2gHc8cgYtj3qMi666R8M+Mn+cx/7c/8juOL2kWzd5xK6H3cVUz/5vNhdWCLV1dWcedpP+dtDjzD2lXEMufsu3nhj/uM3+C830axZM15749/89NTTOffXaamJVVddlXPPH8BFFw8qRdOXSnV1NT87/RTufXAYo156nfuG3MWbtfp56y0306x5c14e9zY/OeU0zs/62bHz5ox8dhTPvPAi9z34CKefchKzZ88uRTeWSl7fm0uiPq3TEhGPRMRmEbFJRPwuu++8iHgo+33PiFgvIrpkPwcueo8OWopq9KhRbLJJO9puvDErr7wyvfsczsNDH5xvm4eHPshRx/QF4JBDD2PkEyOIiFI0d5m5n/OUYz+36bwB70yazsQpn/Dt7GqGPPYSvXbpPN82Hdqux5OjJwDw5JgJ9Npl87n3VzRuzBOj3gbgi6++4atZ3xa3A0tozOhRbFxw/A77vz4LOH4PzT1+3z/kMEb+Mx2/Jk2asONOO7PKqquWoulLZezoUWy8ySa0bZv6eUjvPgx7eP4T2kcefpAjjzoWgIMPOYwnRz5BRLD66qtTUZGqCL6e9TVawrmupZbX96Y5aCmqKVMm07r1vLqkysrWTJ48+bvbtEnbVFRUsFbTpkyfPr2o7Vxe7metbcqsn63Wacqkj2bMvT3545lUrtN0vm1e+/cUDtptCwAO6rEFa62xKi2ars6mG6zDjM+/4q6BffnXbWdy0Sm9aNSofn7RpWMzb1mIysrWfLig49e64PitVf+PX21Tpkymcr6/08rv9PPDKVPmblPTz0+yfo4Z9QLbdd2CHau24oqr/zA3iKnP8vreXBL1aJ2WOlHUoEVSSLqs4PbPJfVfxn01k/STZXzuRElrL8tzzQzOuWoo3btuzL9uO5PuXTdm8kczqK6eQ0XjRuzUpS1nXzWUnftdSdvKlhzTa5tSN9eWQ9W22/HCi6/xz2de4PJBA/n6669L3SRrwIqdaZkFHLKCAoZmwAKDFkn18lSgVatKJk2at9bO5MmTqKys/O42H6RtZs+ezaczZ9KyZcuitnN5uZ+1timzfk6ZOpPW6zWbe7ty3aZMnjpzvm0+nPYph581mB2OuZzzr0/rQc38/GsmfzyDV9+ewsQpn1BdPYeHnnydLu0Xu8hlSaRjM2nu7cmTJ7H+go7fpILj92n9P361tWpVyeT5/k4nf6ef67dqNXebmn62qNXP9h060mSNNRg/7vW6b/Ryyut7c0moSD+lUuygZTZwI3BG7QckrSPpPkmjs5+dsvv7S/p5wXavS9oIuBjYJKs4HiSph6Sns+rj8dm2D0gaK2ncAlbrK7qqbbZhwoR/M/G99/jmm28Ycvdd9Ow1f91Rz14HcsdtgwG4/7572XW33ctmHLmG+zlPOfZzzPgPaNdmbTZs1YKVKhrTe++tGfb0uPm2adm0ydx+/KLfHgweOmruc5uuuRprN2sCQI+qdrz53kfF7cAS6la1De8UHL9777l7AcfvgLnH72/338uuPer/8auta9U2vDNhAhMnpn7eP+Ru9u95wHzb7N/zQO6841YAHrj/XnbZdTckMXHie3MLb//z/vv8+6032XDDjYrdhaWW1/emlWadluuAVyXVvjDSVcAVEfGMpA1I06Q6LmI/ZwObR0QXAEk9gK7Zfe9l2xwfEZ9IWg0YLem+iFjooGUW2JwI0GaDDZaha4tWUVHBFVddywE996G6upq+/Y6nU+fODOh/Hl27VdHrgAPpd/wJHN/vGDp3aEfz5i247Y67Vng76pr7Wd79rK6ewxmD7mfo1SfSuJEYPHQUb7z7EeeeuA8vvjGJYU+PY5dumzDgJ/sTwDMvvcvpl9wHwJw5wTlXDeWR636MJF56cxI3P/B8aTu0EBUVFVx25TUc1GtfqqurObbfcXTq1JkLLziPrl2r6HnAgfQ97gR+cNyxbNFxU5q3aMHg2/469/kdN2vLZ59+yjfffMPQoQ/y0LDhdOxY+3pwpVdRUcGlV1zNIQfsR3V1NUf3PY6OnTrzuwHns3XXbuzf60CO6Xc8Jx5/LF06b0bz5i24+bY7AXj+uWe44tJLWGmllVCjRlx21bW0XLv+j6zn9b1poGJWS0v6PCLWkDQA+Bb4ClgjIvpL+hiYUrD5OkB74OfA5xFxabaP14Fe2TYPR8Tm2f09gPMjYreC1+sPfD+7uRGwT0Q8L2ki6cqS0xbW1m7dquLZF8YsZ4/Niqv5jj8rdRPq3PRnLi11E4pi9pyGMZNl5Yr8zwfZabsqxo4dU+dpnM5bdY27H3mqrl8GgC1arzl2RS3jvzRKVftxJfAi8JeC+xoB20fEfFVekmYz/zDWouYYflHwvB7AnsAOEfGlpJGLea6ZmZnVYyUJcSPiE+Ae0lUdazwGnFJzQ1KX7NeJpGEfJHUF2mb3fwasuYiXaQr8LwtYOgDbr5DGm5mZ1VP1aXG5ulDKvNxlQOHg6KlAlaRXJY0Hfpzdfx/QQtI40pLAbwNktSnPZoW5C1qW8lGgQtIbpKLd+jmwbmZmZkukqMNDEbFGwe8fAasX3J4G9FnAc74C9l7I/o6sddfIgsdmAfst5HkbLUWzzczM6j1R2oXfiiH/FVBmZmaWC/VyETYzMzNbejlPtDjTYmZmZuXBmRYzM7O8yHmqxZkWMzMzKwvOtJiZmeVEKddQKQZnWszMzKwsONNiZmaWE16nxczMzKwecNBiZmZmZcHDQ2ZmZjmR89EhZ1rMzMysPDjTYmZmlhc5T7U402JmZmZlwZkWMzOzHBBeXM7MzMysXnCmxczMLA/kxeXMzMzM6gVnWszMzHIi54kWZ1rMzMysPDjTYmZmlhc5T7U402JmZmZlwZkWMzOzXFDu12lx0LIQL744dtpqK+n9Ir7k2sC0Ir5eqbif+VL0fjZZ5fJivlwNH8/8KEUfNyzy6+WWg5aFiIh1ivl6ksZERFUxX7MU3M98cT/zpSH0syH0Mc8ctJiZmeWEF5czMzMzqwecaak/bix1A4rE/cwX9zNfGkI/c9tHkfsZzygiSt0GMzMzW05bdukWDz3+bFFeq+06q40tRW2QMy1mZmZ5kfNUi2tazMzMrCw402JmtgQkKSKi5v+lbo/ZguR9cTlnWqxekvIzcS9PfWngNgaoCVxK3RirO5LWzP7v41zPOGgpA5LWl9S4IbyBJK0mafXsi6F1qduzvArPyiXtJ6lNqdtUTJKal7oNK4KkNYDbJA2Ehhu4LKjPknLzPaJkQ2CMpG7leJyl4vyUSm7+2PJIUiNJLYH7gO3znpLOPhy6AedIOhL4raTvlbhZy6UgYDkMOBP4qrQtKp4sQLtQUvNy++AvJKlRRHwOHA3sLOksaHiBS8Hw2F6SfiPpNEkbRcScUrdtRYnkfeAW4C+SujS041zfOWipxyJiTkRMB+4GfiipSanbVJeyL/hXga2Aa4G/RcR/JTUubcuWj6Q9gcOAwRExrQF9ADYnXXNljXL+4C/4Ut6K9Pd5kqRfZY+Vbb+WVtbXnsBFwOvAAcAv8tL/LMvSCCAifg/cBvxV0tbldJxVpJ9ScdBST0nasGZYCLgTmE12vMrlzbM0Cvr0BfA28CjQS9L6EVFdupYtvQUcnzWAlsC2kr7XADJm6wBExKvAy8AVklYu535LOhYYCAwG+gP7SeoPDStwAXYBvg/MAZoAF2X9X620zVo+NVmkiJhTM6QZEYOAP1GGgUueOWipR2reEJK6A3cBZwF/JA0prAucA/OGHPKiIO18MPA74NfAqcD/gEuzbdpI2r+EzVwitWpYtpLUJCIeAM4nXV12f0nrlrSRdUjSBsBFkv6SFTPeRspOrJ09Xq4f+qsBAyPieVKfzgR6SzoP8veerFHwmVST5W1CyoKeARwZEZOz7MuB5VzbUvCePYMUZN8hqW1EXA78AbhV0jb1/jgXqZ7FNS0GzD1j604KVn4G/B74mnSG9zWwu6TKEjaxTmT93h84D/hnRMwCpgPXAe9Leg74B/BpCZu5RAo+/E4ltf9CSQOAV4DrgR7AYTXZiDwo+GJbGfiQFHh+TRpGOA/oCxwJ5fHlvojA6swsY1RNyiC9BOyT1Z3lTsHJxH7AGVnW9xagMzA0It6TtAtwBfBhude2SDoZOBD4CVAF/EnSDhFxNXAHcK2kVUrZRvM6LfWKpPbAj4FHI+K57O5TJHUCOgADgH2Am0vUxLq0D/Ar4GVJB5JS0HeQMi0vA/+NiGdK2L4lJulQ4FBgD9JwwgakTNnPgVuBPqS+5ULBF9uJwFvAiIg4KSui3gXYCNhN0tCIeKuETV0itYqnmwGjI+IGSZsCT0s6CugONAYOzurOcqem6Ba4DPhhRFRLGgucBFwuqSuwBXBGRDxVyrYui8KsaKYlcCzwI9IQ9XjgBkknR8TFkm7ITqishBy01BPZ2V1L0odkD0kPRMSk7OE3ImK8pPeB/pL+GhG5mIUiabOIeBuYCvyQNIzwePbw4aTMyz2lat+SKDgjFSl7+TVppklNf84ALiRlXk4Fns3L8QOQtD1wNnAN6UvsAElbAldExD3ZF92vgdakoKZeUppq/2X2++mkwPNx4ChJd5OyRueQMkjrAadGxNRStbcuSGoHNI+I0ZJWAn5Aqlt5VtIhwLak4b4dSf8GjSLi36Vr8bIrCE5/CaxCeo9uCvSKiD2yxw4BDpc0OiL+V7LGLpVyHYFdMg5aSqjgy24L4KfAacC5wAmkIYS7I+LDgqdUkj4ockFp7YuBkl6PiHOzVPO0LEDrQMooVQL/KWlDF0FpOmxNWnwdYGpEDMse6wb0iYjpkj4EZgCrRcTMEjV3hcuGKy8FnouIeyX9HdiZlE1qA7wfEe9I+pY022TEAs5wSy6ry9hL0iBScLVDRHSX9HOgKbA1EMB52Xt21Yj4uoRNrivtgf9JWiMiPpf0KPAjSX1JmYePSVnRhyLinVI2dEWQ9H1ge+CU7Lh+kt1/MOkE5CXgkpwe67LkmpYSyt4ke5LSrbsClwBvkIYO2gJ9JbUqOIv/Aji6nM/Sa9ULfAlcAHSUNCAinsoCloNJa9NcHBH1NmCBedNhs/HwW0hFfP2zh9sD50k6hjS8NzAi/luKdtahL4FnSGej20XEFxExnPTFvzGApArSZ81NUP/qWiT1ImVPRkbEZFIm4cwskOlFyi58CJwC/CQrOM3dMEEWgA8jfQa9Lml30mfRucBpEXEa8ASwGbBq6Vq67AprUrKAew9SQPpRdvdXpD4fR5oldkGkdVvKgnAhrtWh7Ex8MHAPKTUJcDUwFvgbqRZiFZi76NGIbCilbNUUG2dfcHNIXxD9gU41MzGAVqQPyYfq62wTFSx6J+kI0josJ5KGg9pnDx1Cyoz1BH4UEVOK3c4VraDotqukA4C1SIXiA4EBSqv+bkrKsswEiIjZwIkR8VqJmr1Q2XH8GfCDiHhAaeruHNLnf0fgsaz9/wGeA4ZEWj+pXgVeyyvLfs3JArWtSEHcdUD3iBiZnUyEoEUeAAASRElEQVTsSQo8L4qIaaVs77JQmgH1A0mbZnVzR5KK418BrpFUERFfAH/NHtszIsaVrsW2IB4eKoGC9Hhz4P6IGJmNH78MXEXKuPwCGFUzxp4znUi1OQdFxChJbwHDSCvhfhtpYSeg/p2Vw9yhhPMl9cxqGuaQjldPUsHt/tmXe0VEHC5ppYj4toRNXmEKijP/RMqw9CcF2k+RarLuBEYDx0fEizV/6/XxOGZmAd8CX0talTRzb2fSukgtgKqszmMXUq3DxyVraR3Kjuu2pBqWqyLiRklfAzdKOh54mpT9PTMiHq2PQ3yLExFfSJoIPE+andghC9TOJc0YulzSzwoy2V+UqKnLpV6e5a1AzrQU0QKyBh+S1jfYLyK+zaL610iZhpOBWfU107AsJHWQdEhE3EBKOd8uadvsC/0DYCgp/VxvSdqXVHR6XkER5hekdveOiL2zM/MfAKdKWiUvAQvMN8PtqIg4mpQh3Bn4Hmmq87nA58AnJWvk0pkBDCfV5UwgzXS6i9Svf5BqzZ4C9o2IN0vUxjonaS3S+ivNImIkQETcSlpf6G7SbKk/R8Sj2WNlFbAUeBd4B6gmFY1DGg67hrQI5MAStcuWkDMtRZSdzewBHJoVLI4gLVJ1utJaDxOAHYAHgbJbCXZBCoqNe5BmX2wiqToi/iwpgJuyYr+jgCMi4oVStndRJLUAHgEOyc422wG/AU4nZR46SdoE2ItUp3Rk5GSKZFbHsRJpyKsTKVB5NhtSaUMK5J4gfcGtRcpEHU89r/3I/jZvIA39tAEerDlmkk4EXoyI+0rZxrpS8N5URHyaFR3fKemMiLgCICJuz2qSyi6zUpvSTKB3SZ+x3yddAPO0iPhnFrTdALxXyjauCPk5zV0wBy1FUPDhsD1prHgEKR25MfBP0joIvyYtnnYiacbMSdkY7Jfl/GGR9Xtn0lncj4DewBFZ0d9N2dDQesCwiHiylG1dnIj4JKvjuFDSu6RFtR6OiBmSLiTVRgwkDRcdmYfx8IJhgJUiYpakq0hTujfOhvceBJ4F9gRWiYipkm4E5pTLjItIF0P8V/YDgKTewOaktZFyp9bJxK7Z+/AJ0uJq12fDtNcCRMQthc8pVZtXgC1JJ04/jDTTbU3SSdP9pGLco/I6/JcnDlqKIPtw6EBKQV8YEQ9L2g34P9ICVbdExK7ZGU3NCpO9s6KwsqV504G3B56IiGeBZyX9lFS0GcAjEfFNSRu6FCJimKSaFVF/FRFXZB/mM4Bzs+G8xtkQUVkr+GLbj3TBzhdJ9QDXkbJLP5PUhxR8X1RTf1WORZo1JK1Pmq79Q9J09bKf1rsg2XHdhXQs7wD6kQpwh5KyhHdmhalXFj6nFG1dXpI2jIj3I6K/pM+A65QWjPuLpI9JU/F/GjmZ2aecV7W4pqWOSGov6fAsdQ6pPipItSpExD9JRYtdSF8IqwMrA5sAB0Y9nGmxpArqcNbP/v8i0ExpZV+yM7jJpBTtBsVv4fLJxvX3AfpJapp9AaycPRblHrDUHL+sX/uQLidxDelvcyBpFdhLSMOY3wA3RcRDhc8tYzOAfwMHRcTrpW5MXck+l34D/C4iLiLV7swA9oqIF4HjgTElbOIKobRq79lKs4WIiMtIMzMflLRTpCneJ0fEG6Vspy05By11IPvgPpF0YbVLlBas+g9pNdQ3JF2XncU+TZpCOCwivszOVG+KMp7WnGVXai5hP1xSa2AiqThzX0l7Kq2WWgGsTlottuxExD9IbR8lqUU5ZYsWRemaSGdJapbdtQUp87AK6ZozVwOnKV2q4EpgHNBVaUZR2Z6N14iIryJiWERMKHVbVrSagFLSjqSgu5q02m/TrL9DSasZV0bEc1Eml80otICg+X1SkX+P7DOJSLMTPyDNVlwlD7WD81GRfkrEQUsdyD64HwVeIM2m2Iy0iNoRwMOk4sSrsm2fLDyjizK96JjSdFEiTSHcmTQU9oOImBQR75KCs1VJZ3R/IhUg/4U01bQs/w4j4u/AL4HHJTXKQZYB0iJ4G5OKw5uQMiwzSVO6j4+IwaQF5c4izba4k7Q0/6ulaa4tqexkYkdStmwsqV7nHeCXWaZ3FunrqCzfj4U1N5L6ZoXU+5D6+xHp+ldHZUOar5KGhOp1obh9V1n+cZaD7Ex8GmlGzEGkqcwnAoNIhae9lBbhKnuSmgMXZ4VtkJaz/0P22E8kvUpaw+Re0vWE9iNNLb0IGFyugRpAVoi6S+RnwbHnSbMompEuK7EyadjgC2CGpG1If9dHR8TMSCvIXh0RHy1sh1Y/KE1XP4mU2X2JtJ7OUFIGbRTwR+CciPigdK1cfpJ+TFpyYBxwO7A36QTpLWB/0ky3KyNiYqnaWJdynmhx0FIXCs64fwesLGkr0pnqz0hX+n2fdNZalhcaWwCRZkC1lFTFvA+Hi0k1D78gTZP9XjajZCbpDOiYiCj7M/Rs9knZktRWUlOASGvKvALsRLq0xC9Ix3A88GfSaqFDaoYws7Pbsg06GwqlxSsbA6sBO0lqn9VejQAuBx4jTe9+LNu+bLKGkjaQ1CTLJLUkrSlzMGlo8x/A4xHxcUT8KSKOAvbIw8y+hspBSx0oOON+n3TdkueBayLipqwAd0BkCziVs4JhnRnZ2dmhpEzS16QPjYMj4s+kwsbNyFaYjIjqiDi5nIuNc2YT4P2CL6p7SSug/oY0BPQL0pT8I0kf+PcXFuuWoL22FJTWDnqQtODfWaS1SL4vqV0WcD5DWn+ohaSza+rSStfiJSdpPdLJ4ElKF3mcTrpi/EWkE6ODI+JbST/LpncTEeWy8KEtgIOWOhRpzv9vSNNja2ZXNIoyWb9iUSRtRpq2fA1wtdLFx64iVeZfBXSJtH7JQaSLHw6IiLGla7EtTEQ8Thq2e0fScOCViDgzIkaTLq/QlrRc/8zILh5XLl9qDVlBEDqTVMPxR+Az4EbS5SaOlrRpFrg8QRpK+UuZZc6mkoa5WgHHZX3+EOhLyuR+Jen/SItXls2FD5dVsS6W6Asm5tvLpLHV7pq3bklZy8bG7yddv6NmlsUY0vTt60kfgGdn0w3HAj+OtHJq2aScG5psGvcPSVe97Q9zv/SeAIYAd+ZulkUOSVpfUtvs5kYwd92cQcBLpIL4KcCtpIt7zsm2mZNNCiiL2iSlix62zz5P7yAt0tmRdGHOgcDNwDBJt5OK/vtGRNmvdmteXK7OZanJG0griuYhYOlE+pD4Vc3aHNn9H5KySduTpsJWkGp6Do2ISeCz8/ouIkZk61m8LWmHmLdI3IhStsuWjNIClveTMqBfAY9I+ltE/Coipkv6A2k22B3A0cDZ5ViPldWtvAVMk3QBaer2jUBToJ2kH0XETyRtTvocmlbzGdQQ5H1xOQctRZCl2fOiBbBVwWJiq2VrW/wu+zC5CDgWGEwq2MzjVapzKyIeUVrxd5ykDhHxv1K3yRZP0kakWqTLIuKu7L49SIHL/yJiUKRLLIwBdgQ2Ktfh2iwA2xN4nDRasBXpmlefk4rGN8+yhLfkYSje5uegxZZKRDwjqaekd4Btsw+QVbMPhxdIq/nOAXwNjzIVEcOVLna4FTCyxM2xJbMbMCLS9bwaAV1JdR53k9bcmUOaqt4HOC7KfLXfiHhCabXmq0l/p+sBu5Nqs7YlrTf0V9KkgIYl34kWBy229CLi70rXDxolaZuCavxZpLU8VgZm52E4rKGKtLx5Hi6S11C8C/wg+yLvQ5ra3IU0XPQOafbelqRrRJV1wFIjIv6hdGXq14HtI2KwpIdIVyNfPSJmlraFVhcctNgyKQhcxpCu+NuetC7L6ZGTJe3NdUhlZDSpYHogqTj+KtKX+Uaky2X8Bvgq0orVuQlEI13AdA7wfFaHNb3UbSq1nCdaHLTYsssCl5MlfUla++HMbBaKmRVRVjt2paRbC9chyRa23A5Yi3T5hdwFotnn0Mqky2l0c4Y33xy02HLJPjAOANaKiEdK3R6zhqwmYMlWwN2LdIXuX0XEhyVtWB2LiAcljXDAUto1VIrBQYstt4gYAa5/MKsPsoBlW9L6JL+pqU/Ku3Kcvm1Lz0GLrTAOWMxKL1sbahTpopb/9clEQyKv02JmZuUl0oUv/5v97oDFcsNBi5mZWQ6I/Ne0+NpDZmZmVhYctJiZmVlZcNBiZmZmZcFBi1mRSaqW9LKk1yUNkbT6cuzrFkmHZb//ObsK98K27SFpx2V4jYmS1l7WNhabpCpJV5e6HWa24jloMSu+ryKiS0RsTroq7Y8LH5S0TAXyEfGDiBi/iE16kK7wW29Jary8+4iIMRFx6opoj1m5kYrzUyoOWsxK62mgXZYFeTq74Nt4SY0lDZI0WtKrkn4EaQE/SddKekvS48C6NTuSNFJSVfb7vpJelPSKpBGSNiIFR2dkWZ7uktaRdF/2GqMl7ZQ9t6WkxySNk/RnFnI5E0l7S/pX9jpDJK0haUNJ/5a0tqRGWZ/2lrSRpDcl3SHpDUn31mSYskzOQEkvAr0XtN9su4sljc/+PS7N7uudZaxekfRUdl8PSQ9nv7eQ9ED2nOclbZnd31/Szdm/2buSHOSYlQFPeTYrkSyjsh9Qc72mrsDmEfGepBOBmRGxjaRVgGclPQZsDbQHOgHrAeOBm2vtdx3gT8Au2b5aRMQnkv4IfB4RNV/4dwJXRMQzkjYAhgMdgfOBZyJigKSewAkLaPvapIvw7RkRX0g6i3TtqQGSBgLXA6OA8RHxWBY0tQdOiIhnJd0M/AS4NNvl9Ijomu33/tr7lXQd8H2gQ0SEpGbZ884D9omIyQX3FboAeCkiDpa0O3Ar6erHAB2A3YA1gbckXZ+tb2JWtry4nJmtaKtJejn7/WngJtKwzaiIeC+7f29gy5p6FaApsCmwC/DXiKgGpkh6YgH73x54qmZfhRfQq2VPoJPm5XrXyrIauwCHZM8dJul/C3mNTqRgCmBl4F/Zc/4sqTcps9Ol4DkfRMSz2e+3A6cyL2i5ezH7nQl8DdyUZVEezrZ/FrhF0j2kYKe2nYFDs3Y9kWWR1soeGxYRs4BZkj4mBYGTFvJvZWb1gIMWs+L7KiIKv8zJvqC/KLwLOCUihtfabv8V2I5GwPYR8fUC2rI4Av4REUd854E07NM6u7kG8Fn2e+2VWQtv1/R9UfvdFtgDOAz4KbB7RPxY0nZAT2CspG5L0vjMrILfq/HnoZW7EtebFINrWszqp+HASUoXv0PSZpKaAE8BfbKal/VJwxu1PQ/sIqlt9twW2f2fkYZCajwGnFJzQ1JNIPUUcGR2335A84W8xk6S2mXbNZG0WfbYQOAO0tDNnwqes4GkHbLfjwSeWdL9ZhmgptmVxM8Atsoe3yQiXoiI84CpQJta+3saOCrbtgcwLSI+XcDrmlkZ8JmFWf30Z2Aj4EWl1MdU4GDgb8DupFqW/5ANyRSKiKlZTcz9khoBHwN7AUOBeyUdRApWTgWuk/Qq6bPgKdKQzgXAXyWNA57LXmdBr9Ev226V7O7fZIHUNsBOEVEt6VBJxwH/BN4CTs7qWcaT6l6WaL+kgOtBSauSsjFnZo8NkrRpdt8I4BVg14Jd9gduzvr4JdC39mua5YVYSNV8jsjX0jKzupYV4j6cTfM2szrQtVtVPPnsqKK81lqrNR4bEVVFebECzrSYmZnlRc5TLQ5azKzORcREwFkWM1suDlrMzMxyIu/rtHj2kJmZmZUFBy1mZmZWFjw8ZGZmlhNeXM7MzMysHnCmxczMLCdynmhxpsXMzMzKgzMtZmZmeZHzVIszLWZmZlYWnGkxMzPLCS8uZ2ZmZraUJO0r6S1JEySdvYDHV5F0d/b4C9mFVRfJQYuZmVkOiLROSzF+FtsWqTFwHbAf0Ak4QlKnWpudAPwvItoBVwADF7dfBy1mZma2om0LTIiIdyPiG+Au4KBa2xwEDM5+vxfYQ1p0SOSaFjMzsxx48cWxw1dbSWsX6eVWlTSm4PaNEXFjwe1K4IOC25OA7WrtY+42ETFb0kygJTBtYS/qoMXMzCwHImLfUrehrnl4yMzMzFa0yUCbgtuts/sWuI2kCqApMH1RO3XQYmZmZivaaGBTSW0lrQwcDjxUa5uHgL7Z74cBT0RELGqnHh4yMzOzFSqrUfkpMBxoDNwcEeMkDQDGRMRDwE3AbZImAJ+QAptF0mKCGjMzM7N6wcNDZmZmVhYctJiZmVlZcNBiZmZmZcFBi5mZmZUFBy1mZmZWFhy0mJmZWVlw0GJmZmZl4f8B/YSA8BluQiQAAAAASUVORK5CYII=\n",
            "text/plain": [
              "<Figure size 576x576 with 2 Axes>"
            ]
          },
          "metadata": {
            "tags": [],
            "needs_background": "light"
          }
        }
      ]
    },
    {
      "cell_type": "code",
      "metadata": {
        "colab": {
          "base_uri": "https://localhost:8080/"
        },
        "id": "qes0jsNJG8TF",
        "outputId": "2d91d372-1c3f-4060-bdca-ec07992b4be9"
      },
      "source": [
        "emotions = {0: 'Angry', 1: 'Disgust', 2: 'Fear', 3: 'Happy', 4: 'Sad', 5: 'Surprise', 6: 'Neutral'}\n",
        "print(classification_report(t_te, y_pred, target_names=emotions.values()))"
      ],
      "execution_count": 28,
      "outputs": [
        {
          "output_type": "stream",
          "text": [
            "              precision    recall  f1-score   support\n",
            "\n",
            "       Angry       0.00      0.00      0.00       491\n",
            "     Disgust       0.00      0.00      0.00        55\n",
            "        Fear       0.00      0.00      0.00       528\n",
            "       Happy       0.25      0.97      0.40       879\n",
            "         Sad       0.29      0.02      0.03       594\n",
            "    Surprise       0.31      0.10      0.15       416\n",
            "     Neutral       0.00      0.00      0.00       626\n",
            "\n",
            "    accuracy                           0.25      3589\n",
            "   macro avg       0.12      0.16      0.08      3589\n",
            "weighted avg       0.14      0.25      0.12      3589\n",
            "\n"
          ],
          "name": "stdout"
        },
        {
          "output_type": "stream",
          "text": [
            "/usr/local/lib/python3.7/dist-packages/sklearn/metrics/_classification.py:1272: UndefinedMetricWarning: Precision and F-score are ill-defined and being set to 0.0 in labels with no predicted samples. Use `zero_division` parameter to control this behavior.\n",
            "  _warn_prf(average, modifier, msg_start, len(result))\n"
          ],
          "name": "stderr"
        }
      ]
    },
    {
      "cell_type": "markdown",
      "metadata": {
        "id": "VveOAjyz-GGm"
      },
      "source": [
        "# Predict"
      ]
    },
    {
      "cell_type": "code",
      "metadata": {
        "id": "m5yPChFL9yq-"
      },
      "source": [
        "emotions_lab = ('angry', 'disgust', 'fear', 'happy', 'sad', 'surprise', 'neutral')\n",
        "\n",
        "def emotion_analysis(emotions):\n",
        "    emotions_lab = ['angry', 'disgust', 'fear', 'happy', 'sad', 'surprise', 'neutral']\n",
        "    y_pos = np.arange(len(emotions_lab))\n",
        "    plt.bar(y_pos, emotions, align='center', alpha=0.9)\n",
        "    plt.tick_params(axis='x', which='both', pad=10,width=4,length=10)\n",
        "    plt.xticks(y_pos, emotions_lab)\n",
        "    plt.ylabel('percentage')\n",
        "    plt.title('emotion')\n",
        "    plt.show()"
      ],
      "execution_count": 29,
      "outputs": []
    },
    {
      "cell_type": "code",
      "metadata": {
        "colab": {
          "base_uri": "https://localhost:8080/",
          "height": 998
        },
        "id": "EhKtgt6gsIc2",
        "outputId": "37798793-9423-407e-9b01-500da1419586"
      },
      "source": [
        "from skimage import io\n",
        "img = image.load_img('/content/drive/MyDrive/Colab Notebooks/Predict/a.jpg', color_mode = \"grayscale\", target_size=(48, 48))\n",
        "show_img=image.load_img('/content/drive/MyDrive/Colab Notebooks/Predict/a.jpg', target_size=(200, 200))\n",
        "x = image.img_to_array(img)\n",
        "x = np.expand_dims(x, axis = 0)\n",
        "\n",
        "x /= 255\n",
        "\n",
        "custom = model.predict(x)\n",
        "#print(custom[0])\n",
        "emotion_analysis(custom[0])\n",
        "\n",
        "x = np.array(x, 'float32')\n",
        "x = x.reshape([48, 48]);\n",
        "\n",
        "plt.gray()\n",
        "plt.imshow(show_img)\n",
        "plt.show()\n",
        "\n",
        "m=0.000000000000000000001\n",
        "a=custom[0]\n",
        "for i in range(0,len(a)):\n",
        "    if a[i]>m:\n",
        "        m=a[i]\n",
        "        ind=i\n",
        "        \n",
        "print('Expression Prediction:',emotions_lab[ind])"
      ],
      "execution_count": 30,
      "outputs": [
        {
          "output_type": "display_data",
          "data": {
            "image/png": "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\n",
            "text/plain": [
              "<Figure size 576x576 with 1 Axes>"
            ]
          },
          "metadata": {
            "tags": [],
            "needs_background": "light"
          }
        },
        {
          "output_type": "display_data",
          "data": {
            "image/png": "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
