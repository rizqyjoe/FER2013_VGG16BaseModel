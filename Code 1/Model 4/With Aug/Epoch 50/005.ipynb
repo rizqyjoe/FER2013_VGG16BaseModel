{
  "nbformat": 4,
  "nbformat_minor": 0,
  "metadata": {
    "accelerator": "GPU",
    "colab": {
      "name": "Coba4.ipynb",
      "provenance": [],
      "collapsed_sections": [],
      "include_colab_link": true
    },
    "kernelspec": {
      "display_name": "Python 3",
      "name": "python3"
    },
    "language_info": {
      "name": "python"
    }
  },
  "cells": [
    {
      "cell_type": "markdown",
      "metadata": {
        "id": "view-in-github",
        "colab_type": "text"
      },
      "source": [
        "<a href=\"https://colab.research.google.com/github/rizqyjoe/FER2013_VGG16BaseModel/blob/main/Code%201/Model%204/With%20Aug/Epoch%2050/005.ipynb\" target=\"_parent\"><img src=\"https://colab.research.google.com/assets/colab-badge.svg\" alt=\"Open In Colab\"/></a>"
      ]
    },
    {
      "cell_type": "code",
      "metadata": {
        "colab": {
          "base_uri": "https://localhost:8080/"
        },
        "id": "sX-0w3h_sh6U",
        "outputId": "6adeebdf-e0a8-4205-d3b9-4188099e6d2e"
      },
      "source": [
        "#mount drive\n",
        "from google.colab import drive\n",
        "drive.mount('/content/drive')"
      ],
      "execution_count": 2,
      "outputs": [
        {
          "output_type": "stream",
          "text": [
            "Mounted at /content/drive\n"
          ],
          "name": "stdout"
        }
      ]
    },
    {
      "cell_type": "markdown",
      "metadata": {
        "id": "58jrp8yObBBA"
      },
      "source": [
        "# Pre-processing"
      ]
    },
    {
      "cell_type": "code",
      "metadata": {
        "id": "7nrYTmGLrD2A"
      },
      "source": [
        "import tensorflow as tf\n",
        "import keras\n",
        "from keras import backend as K\n",
        "import pandas as pd\n",
        "import numpy as np\n",
        "import matplotlib.pyplot as plt\n",
        "from keras.preprocessing import image\n",
        "from keras.preprocessing.image import ImageDataGenerator\n",
        "from keras import regularizers\n",
        "from keras.utils import np_utils\n",
        "\n",
        "import random\n",
        "\n",
        "tf.random.set_seed(1234)\n",
        "np.random.seed(1234)\n",
        "\n",
        "from keras.initializers import glorot_uniform"
      ],
      "execution_count": 1,
      "outputs": []
    },
    {
      "cell_type": "code",
      "metadata": {
        "colab": {
          "base_uri": "https://localhost:8080/",
          "height": 204
        },
        "id": "0vTjzHIRrW53",
        "outputId": "c14d4c81-31ab-4c91-c161-7ad714554aae"
      },
      "source": [
        "#load file\n",
        "data= pd.read_csv('/content/drive/MyDrive/Dataset/fer2013 dataset/fer2013/fer2013.csv')\n",
        "data.head()"
      ],
      "execution_count": 2,
      "outputs": [
        {
          "output_type": "execute_result",
          "data": {
            "text/html": [
              "<div>\n",
              "<style scoped>\n",
              "    .dataframe tbody tr th:only-of-type {\n",
              "        vertical-align: middle;\n",
              "    }\n",
              "\n",
              "    .dataframe tbody tr th {\n",
              "        vertical-align: top;\n",
              "    }\n",
              "\n",
              "    .dataframe thead th {\n",
              "        text-align: right;\n",
              "    }\n",
              "</style>\n",
              "<table border=\"1\" class=\"dataframe\">\n",
              "  <thead>\n",
              "    <tr style=\"text-align: right;\">\n",
              "      <th></th>\n",
              "      <th>emotion</th>\n",
              "      <th>pixels</th>\n",
              "      <th>Usage</th>\n",
              "    </tr>\n",
              "  </thead>\n",
              "  <tbody>\n",
              "    <tr>\n",
              "      <th>0</th>\n",
              "      <td>0</td>\n",
              "      <td>70 80 82 72 58 58 60 63 54 58 60 48 89 115 121...</td>\n",
              "      <td>Training</td>\n",
              "    </tr>\n",
              "    <tr>\n",
              "      <th>1</th>\n",
              "      <td>0</td>\n",
              "      <td>151 150 147 155 148 133 111 140 170 174 182 15...</td>\n",
              "      <td>Training</td>\n",
              "    </tr>\n",
              "    <tr>\n",
              "      <th>2</th>\n",
              "      <td>2</td>\n",
              "      <td>231 212 156 164 174 138 161 173 182 200 106 38...</td>\n",
              "      <td>Training</td>\n",
              "    </tr>\n",
              "    <tr>\n",
              "      <th>3</th>\n",
              "      <td>4</td>\n",
              "      <td>24 32 36 30 32 23 19 20 30 41 21 22 32 34 21 1...</td>\n",
              "      <td>Training</td>\n",
              "    </tr>\n",
              "    <tr>\n",
              "      <th>4</th>\n",
              "      <td>6</td>\n",
              "      <td>4 0 0 0 0 0 0 0 0 0 0 0 3 15 23 28 48 50 58 84...</td>\n",
              "      <td>Training</td>\n",
              "    </tr>\n",
              "  </tbody>\n",
              "</table>\n",
              "</div>"
            ],
            "text/plain": [
              "   emotion                                             pixels     Usage\n",
              "0        0  70 80 82 72 58 58 60 63 54 58 60 48 89 115 121...  Training\n",
              "1        0  151 150 147 155 148 133 111 140 170 174 182 15...  Training\n",
              "2        2  231 212 156 164 174 138 161 173 182 200 106 38...  Training\n",
              "3        4  24 32 36 30 32 23 19 20 30 41 21 22 32 34 21 1...  Training\n",
              "4        6  4 0 0 0 0 0 0 0 0 0 0 0 3 15 23 28 48 50 58 84...  Training"
            ]
          },
          "metadata": {
            "tags": []
          },
          "execution_count": 2
        }
      ]
    },
    {
      "cell_type": "code",
      "metadata": {
        "colab": {
          "base_uri": "https://localhost:8080/"
        },
        "id": "NU40Z0ynrau2",
        "outputId": "3556f562-1d10-44d2-baec-c7230abe783e"
      },
      "source": [
        "data.emotion.value_counts()"
      ],
      "execution_count": 3,
      "outputs": [
        {
          "output_type": "execute_result",
          "data": {
            "text/plain": [
              "3    8989\n",
              "6    6198\n",
              "4    6077\n",
              "2    5121\n",
              "0    4953\n",
              "5    4002\n",
              "1     547\n",
              "Name: emotion, dtype: int64"
            ]
          },
          "metadata": {
            "tags": []
          },
          "execution_count": 3
        }
      ]
    },
    {
      "cell_type": "code",
      "metadata": {
        "colab": {
          "base_uri": "https://localhost:8080/"
        },
        "id": "8MQKKFDare4e",
        "outputId": "4aa27c1e-6451-414c-bca4-535fc82ffd0b"
      },
      "source": [
        "data.Usage.value_counts()"
      ],
      "execution_count": 4,
      "outputs": [
        {
          "output_type": "execute_result",
          "data": {
            "text/plain": [
              "Training       28709\n",
              "PublicTest      3589\n",
              "PrivateTest     3589\n",
              "Name: Usage, dtype: int64"
            ]
          },
          "metadata": {
            "tags": []
          },
          "execution_count": 4
        }
      ]
    },
    {
      "cell_type": "code",
      "metadata": {
        "id": "H1M2PtN54iSK"
      },
      "source": [
        "emotion_labels = [\"Angry\", \"Disgust\", \"Fear\", \"Happy\", \"Sad\", \"Surprise\", \"Neutral\"]\n",
        "labels=np.array((\"Angry\", \"Disgust\", \"Fear\", \"Happy\", \"Sad\", \"Surprise\", \"Neutral\"))"
      ],
      "execution_count": 5,
      "outputs": []
    },
    {
      "cell_type": "code",
      "metadata": {
        "id": "RQlblEnwrgkW"
      },
      "source": [
        "#split data \n",
        "train_set = data[(data.Usage == 'Training')] \n",
        "val_set = data[(data.Usage == 'PublicTest')]\n",
        "test_set = data[(data.Usage == 'PrivateTest')] \n",
        "X_train = np.array(list(map(str.split, train_set.pixels)), np.float32) \n",
        "X_val = np.array(list(map(str.split, val_set.pixels)), np.float32) \n",
        "X_test = np.array(list(map(str.split, test_set.pixels)), np.float32) \n",
        "X_train = X_train.reshape(X_train.shape[0], 48, 48, 1) \n",
        "X_val = X_val.reshape(X_val.shape[0], 48, 48, 1)\n",
        "X_test = X_test.reshape(X_test.shape[0], 48, 48, 1)"
      ],
      "execution_count": 6,
      "outputs": []
    },
    {
      "cell_type": "code",
      "metadata": {
        "id": "MVqY8ftoriHW"
      },
      "source": [
        "num_classes = 7\n",
        "\n",
        "y_train = train_set.emotion \n",
        "y_train = np_utils.to_categorical(y_train, num_classes) \n",
        "y_val = val_set.emotion \n",
        "y_val = np_utils.to_categorical(y_val, num_classes) \n",
        "y_test = test_set.emotion \n",
        "y_test = np_utils.to_categorical(y_test, num_classes)"
      ],
      "execution_count": 7,
      "outputs": []
    },
    {
      "cell_type": "code",
      "metadata": {
        "colab": {
          "base_uri": "https://localhost:8080/"
        },
        "id": "WaMwvF5vrju-",
        "outputId": "54136e89-5e00-43ff-b909-17147b3f7a51"
      },
      "source": [
        "print(\"x_train:\",X_train.shape)\n",
        "print(\"y_train:\",y_train.shape)\n",
        "print(\"x_val:\",X_val.shape)\n",
        "print(\"y_val:\",y_val.shape)\n",
        "print(\"x_test:\",X_test.shape)\n",
        "print(\"y_test:\",y_test.shape)"
      ],
      "execution_count": 8,
      "outputs": [
        {
          "output_type": "stream",
          "text": [
            "x_train: (28709, 48, 48, 1)\n",
            "y_train: (28709, 7)\n",
            "x_val: (3589, 48, 48, 1)\n",
            "y_val: (3589, 7)\n",
            "x_test: (3589, 48, 48, 1)\n",
            "y_test: (3589, 7)\n"
          ],
          "name": "stdout"
        }
      ]
    },
    {
      "cell_type": "code",
      "metadata": {
        "id": "DzChH8hGrldw"
      },
      "source": [
        "#data augmentation\n",
        "datagen = ImageDataGenerator(rescale=1./255,\n",
        "                             rotation_range = 10,\n",
        "                             horizontal_flip = True,\n",
        "                             width_shift_range=0.1,\n",
        "                             height_shift_range=0.1)\n",
        "\n",
        "'''datagen = ImageDataGenerator(rescale=1./255,\n",
        "                             rotation_range=10,\n",
        "                             width_shift_range=0.2,\n",
        "                             height_shift_range=0.2, \n",
        "                             zoom_range=0.2,\n",
        "                             horizontal_flip=True)'''\n",
        "\n",
        "#datagen = ImageDataGenerator(rescale=1./255)\n",
        "\n",
        "testgen = ImageDataGenerator(rescale=1./255)\n",
        "\n",
        "datagen.fit(X_train)\n",
        "batch_size = 64"
      ],
      "execution_count": 9,
      "outputs": []
    },
    {
      "cell_type": "code",
      "metadata": {
        "id": "d-nkOZUfrm_e"
      },
      "source": [
        "train_flow = datagen.flow(X_train, y_train, batch_size=batch_size) \n",
        "val_flow = testgen.flow(X_val, y_val, batch_size=batch_size) \n",
        "test_flow = testgen.flow(X_test, y_test, batch_size=batch_size)"
      ],
      "execution_count": 10,
      "outputs": []
    },
    {
      "cell_type": "code",
      "metadata": {
        "id": "3u6vR_8CroMG"
      },
      "source": [
        "from tensorflow.keras.utils import plot_model\n",
        "from matplotlib import pyplot"
      ],
      "execution_count": 11,
      "outputs": []
    },
    {
      "cell_type": "code",
      "metadata": {
        "colab": {
          "base_uri": "https://localhost:8080/",
          "height": 248
        },
        "id": "HZ6sB7a0rp0O",
        "outputId": "270a144a-34f7-462a-b1dc-ac1b9e74774b"
      },
      "source": [
        "#displaying sample images\n",
        "for X_batch, y_batch in datagen.flow(X_train, y_train, batch_size=9):\n",
        "    for i in range(0, 9): \n",
        "        pyplot.axis('off') \n",
        "        pyplot.subplot(330 + 1 + i) \n",
        "        pyplot.imshow(X_batch[i].reshape(48, 48), cmap=pyplot.get_cmap('gray'))\n",
        "    pyplot.axis('off') \n",
        "    pyplot.show() \n",
        "    break"
      ],
      "execution_count": 12,
      "outputs": [
        {
          "output_type": "display_data",
          "data": {
            "image/png": "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\n",
            "text/plain": [
              "<Figure size 432x288 with 9 Axes>"
            ]
          },
          "metadata": {
            "tags": [],
            "needs_background": "light"
          }
        }
      ]
    },
    {
      "cell_type": "markdown",
      "metadata": {
        "id": "mH061hQUbJsv"
      },
      "source": [
        "# Training Model"
      ]
    },
    {
      "cell_type": "code",
      "metadata": {
        "id": "CyjVWe3Arsqu"
      },
      "source": [
        "#Model 1\n",
        "'''from keras.models import Sequential\n",
        "from keras.layers import Input, Dense, Flatten, Dropout, Conv2D, MaxPool2D, BatchNormalization, Activation\n",
        "\n",
        "input_shape = (48, 48, 1)\n",
        "\n",
        "model = Sequential()\n",
        "\n",
        "model.add(Conv2D(filters=64,input_shape=(input_shape),kernel_size=(3,3),padding=\"same\", activation=\"relu\", kernel_initializer = glorot_uniform(seed=1)))\n",
        "model.add(Conv2D(filters=64,kernel_size=(3,3),padding=\"same\", activation=\"relu\", kernel_initializer = glorot_uniform(seed=1)))\n",
        "model.add(MaxPool2D(pool_size=(2,2),strides=(2,2)))\n",
        "model.add(Dropout(0.25))\n",
        "model.add(BatchNormalization())\n",
        "\n",
        "model.add(Conv2D(filters=128, kernel_size=(3,3), padding=\"same\", activation=\"relu\", kernel_initializer = glorot_uniform(seed=1)))\n",
        "model.add(Conv2D(filters=128, kernel_size=(3,3), padding=\"same\", activation=\"relu\", kernel_initializer = glorot_uniform(seed=1)))\n",
        "model.add(MaxPool2D(pool_size=(2,2),strides=(2,2)))\n",
        "model.add(Dropout(0.25))\n",
        "model.add(BatchNormalization())\n",
        "\n",
        "model.add(Conv2D(filters=256, kernel_size=(3,3), padding=\"same\", activation=\"relu\", kernel_initializer = glorot_uniform(seed=1)))\n",
        "model.add(Conv2D(filters=256, kernel_size=(3,3), padding=\"same\", activation=\"relu\", kernel_initializer = glorot_uniform(seed=1)))\n",
        "model.add(Conv2D(filters=256, kernel_size=(3,3), padding=\"same\", activation=\"relu\", kernel_initializer = glorot_uniform(seed=1)))\n",
        "model.add(MaxPool2D(pool_size=(2,2),strides=(2,2)))\n",
        "model.add(Dropout(0.5))\n",
        "model.add(BatchNormalization())\n",
        "\n",
        "model.add(Conv2D(filters=512, kernel_size=(3,3), padding=\"same\", activation=\"relu\", kernel_initializer = glorot_uniform(seed=1)))\n",
        "model.add(Conv2D(filters=512, kernel_size=(3,3), padding=\"same\", activation=\"relu\", kernel_initializer = glorot_uniform(seed=1)))\n",
        "model.add(Conv2D(filters=512, kernel_size=(3,3), padding=\"same\", activation=\"relu\", kernel_initializer = glorot_uniform(seed=1)))\n",
        "model.add(MaxPool2D(pool_size=(2,2),strides=(2,2)))\n",
        "model.add(Dropout(0.5))\n",
        "model.add(BatchNormalization())\n",
        "\n",
        "model.add(Flatten())\n",
        "\n",
        "model.add(Dense(512,activation='relu'))\n",
        "model.add(Dropout(0.5))\n",
        "model.add(Dense(512,activation='relu'))\n",
        "model.add(Dropout(0.5))\n",
        "model.add(Dense(512,activation='relu'))\n",
        "model.add(Dropout(0.5))\n",
        "\n",
        "model.add(Dense(units=num_classes, activation='softmax'))\n",
        "\n",
        "# print the model summary\n",
        "model.summary()"
      ],
      "execution_count": null,
      "outputs": []
    },
    {
      "cell_type": "code",
      "metadata": {
        "id": "zSPFODgTCUdB"
      },
      "source": [
        "#Model 2\n",
        "'''from keras.models import Sequential\n",
        "from keras.layers import Input, Dense, Flatten, Dropout, Conv2D, MaxPool2D, BatchNormalization, Activation\n",
        "\n",
        "input_shape = (48, 48, 1)\n",
        "\n",
        "model = Sequential()\n",
        "\n",
        "model.add(Conv2D(filters=64,input_shape=(input_shape),kernel_size=(3,3),padding=\"same\", activation=\"relu\", kernel_initializer = glorot_uniform(seed=0)))\n",
        "model.add(BatchNormalization())\n",
        "model.add(Conv2D(filters=64,kernel_size=(3,3),padding=\"same\", activation=\"relu\", kernel_initializer = glorot_uniform(seed=0)))\n",
        "model.add(BatchNormalization())\n",
        "model.add(MaxPool2D(pool_size=(2,2),strides=(2,2)))\n",
        "model.add(Dropout(0.2))\n",
        "\n",
        "model.add(Conv2D(filters=128, kernel_size=(3,3), padding=\"same\", activation=\"relu\", kernel_initializer = glorot_uniform(seed=0)))\n",
        "model.add(BatchNormalization())\n",
        "model.add(Conv2D(filters=128, kernel_size=(3,3), padding=\"same\", activation=\"relu\", kernel_initializer = glorot_uniform(seed=0)))\n",
        "model.add(BatchNormalization())\n",
        "model.add(MaxPool2D(pool_size=(2,2),strides=(2,2)))\n",
        "model.add(Dropout(0.3))\n",
        "\n",
        "model.add(Conv2D(filters=256, kernel_size=(3,3), padding=\"same\", activation=\"relu\", kernel_initializer = glorot_uniform(seed=0)))\n",
        "model.add(BatchNormalization())\n",
        "model.add(Conv2D(filters=256, kernel_size=(3,3), padding=\"same\", activation=\"relu\", kernel_initializer = glorot_uniform(seed=0)))\n",
        "model.add(BatchNormalization())\n",
        "model.add(Conv2D(filters=256, kernel_size=(3,3), padding=\"same\", activation=\"relu\", kernel_initializer = glorot_uniform(seed=0)))\n",
        "model.add(BatchNormalization())\n",
        "model.add(MaxPool2D(pool_size=(2,2),strides=(2,2)))\n",
        "model.add(Dropout(0.4))\n",
        "\n",
        "model.add(Conv2D(filters=512, kernel_size=(3,3), padding=\"same\", activation=\"relu\", kernel_initializer = glorot_uniform(seed=0)))\n",
        "model.add(BatchNormalization())\n",
        "model.add(Conv2D(filters=512, kernel_size=(3,3), padding=\"same\", activation=\"relu\", kernel_initializer = glorot_uniform(seed=0)))\n",
        "model.add(BatchNormalization())\n",
        "model.add(Conv2D(filters=512, kernel_size=(3,3), padding=\"same\", activation=\"relu\", kernel_initializer = glorot_uniform(seed=0)))\n",
        "model.add(BatchNormalization())\n",
        "model.add(MaxPool2D(pool_size=(2,2),strides=(2,2)))\n",
        "model.add(Dropout(0.5))\n",
        "\n",
        "model.add(Conv2D(filters=512, kernel_size=(3,3), padding=\"same\", activation=\"relu\", kernel_initializer = glorot_uniform(seed=0)))\n",
        "model.add(BatchNormalization())\n",
        "model.add(Conv2D(filters=512, kernel_size=(3,3), padding=\"same\", activation=\"relu\", kernel_initializer = glorot_uniform(seed=0)))\n",
        "model.add(BatchNormalization())\n",
        "model.add(Conv2D(filters=512, kernel_size=(3,3), padding=\"same\", activation=\"relu\", kernel_initializer = glorot_uniform(seed=0)))\n",
        "model.add(BatchNormalization())\n",
        "model.add(MaxPool2D(pool_size=(2,2),strides=(2,2)))\n",
        "model.add(Dropout(0.6))\n",
        "\n",
        "model.add(Flatten())\n",
        "\n",
        "model.add(Dense(512,activation='relu'))\n",
        "model.add(Dropout(0.6))\n",
        "model.add(Dense(512,activation='relu'))\n",
        "model.add(Dropout(0.6))\n",
        "\n",
        "model.add(Dense(units=num_classes, activation='softmax'))\n",
        "\n",
        "# print the model summary\n",
        "model.summary()"
      ],
      "execution_count": null,
      "outputs": []
    },
    {
      "cell_type": "code",
      "metadata": {
        "id": "rxqJ_jM_mSTg"
      },
      "source": [
        "#Model 3\n",
        "'''from keras.models import Sequential\n",
        "from keras.layers import Input, Dense, Flatten, Dropout, Conv2D, MaxPool2D, BatchNormalization, GlobalAveragePooling2D\n",
        "\n",
        "input_shape = (48, 48, 1)\n",
        "\n",
        "model = Sequential()\n",
        "\n",
        "model.add(Conv2D(filters=64,input_shape=(input_shape),kernel_size=(3,3),padding=\"same\", activation=\"relu\", kernel_initializer = glorot_uniform(seed=0)))\n",
        "model.add(BatchNormalization())\n",
        "model.add(Conv2D(filters=64,kernel_size=(3,3),padding=\"same\", activation=\"relu\", kernel_initializer = glorot_uniform(seed=0)))\n",
        "model.add(BatchNormalization())\n",
        "model.add(MaxPool2D(pool_size=(2,2),strides=(2,2)))\n",
        "model.add(Dropout(0.2))\n",
        "\n",
        "model.add(Conv2D(filters=128, kernel_size=(3,3), padding=\"same\", activation=\"relu\", kernel_initializer = glorot_uniform(seed=0)))\n",
        "model.add(BatchNormalization())\n",
        "model.add(Conv2D(filters=128, kernel_size=(3,3), padding=\"same\", activation=\"relu\", kernel_initializer = glorot_uniform(seed=0)))\n",
        "model.add(BatchNormalization())\n",
        "model.add(MaxPool2D(pool_size=(2,2),strides=(2,2)))\n",
        "model.add(Dropout(0.3))\n",
        "\n",
        "model.add(Conv2D(filters=256, kernel_size=(3,3), padding=\"same\", activation=\"relu\", kernel_initializer = glorot_uniform(seed=0)))\n",
        "model.add(BatchNormalization())\n",
        "model.add(Conv2D(filters=256, kernel_size=(3,3), padding=\"same\", activation=\"relu\", kernel_initializer = glorot_uniform(seed=0)))\n",
        "model.add(BatchNormalization())\n",
        "model.add(Conv2D(filters=256, kernel_size=(3,3), padding=\"same\", activation=\"relu\", kernel_initializer = glorot_uniform(seed=0)))\n",
        "model.add(BatchNormalization())\n",
        "model.add(MaxPool2D(pool_size=(2,2),strides=(2,2)))\n",
        "model.add(Dropout(0.4))\n",
        "\n",
        "model.add(Conv2D(filters=512, kernel_size=(3,3), padding=\"same\", activation=\"relu\", kernel_initializer = glorot_uniform(seed=0)))\n",
        "model.add(BatchNormalization())\n",
        "model.add(Conv2D(filters=512, kernel_size=(3,3), padding=\"same\", activation=\"relu\", kernel_initializer = glorot_uniform(seed=0)))\n",
        "model.add(BatchNormalization())\n",
        "model.add(Conv2D(filters=512, kernel_size=(3,3), padding=\"same\", activation=\"relu\", kernel_initializer = glorot_uniform(seed=0)))\n",
        "model.add(BatchNormalization())\n",
        "model.add(MaxPool2D(pool_size=(2,2),strides=(2,2)))\n",
        "model.add(Dropout(0.5))\n",
        "\n",
        "model.add(Conv2D(filters=512, kernel_size=(3,3), padding=\"same\", activation=\"relu\", kernel_initializer = glorot_uniform(seed=0)))\n",
        "model.add(BatchNormalization())\n",
        "model.add(Conv2D(filters=512, kernel_size=(3,3), padding=\"same\", activation=\"relu\", kernel_initializer = glorot_uniform(seed=0)))\n",
        "model.add(BatchNormalization())\n",
        "model.add(Conv2D(filters=512, kernel_size=(3,3), padding=\"same\", activation=\"relu\", kernel_initializer = glorot_uniform(seed=0)))\n",
        "model.add(BatchNormalization())\n",
        "model.add(MaxPool2D(pool_size=(2,2),strides=(2,2)))\n",
        "model.add(Dropout(0.6))\n",
        "\n",
        "#model.add(Flatten())\n",
        "model.add(GlobalAveragePooling2D())\n",
        "\n",
        "model.add(Dense(512,activation='relu'))\n",
        "model.add(Dropout(0.5))\n",
        "model.add(Dense(512,activation='relu'))\n",
        "model.add(Dropout(0.5))\n",
        "\n",
        "model.add(Dense(units=num_classes, activation='softmax'))\n",
        "\n",
        "# print the model summary\n",
        "model.summary()"
      ],
      "execution_count": null,
      "outputs": []
    },
    {
      "cell_type": "code",
      "metadata": {
        "colab": {
          "base_uri": "https://localhost:8080/"
        },
        "id": "wcKQaYnYcqm0",
        "outputId": "0a1f2712-2da2-405c-e42f-e3258759987e"
      },
      "source": [
        "#Model 4\n",
        "from keras.models import Sequential\n",
        "from keras.layers import Input, Dense, Flatten, Dropout, Conv2D, MaxPool2D, BatchNormalization, GlobalAveragePooling2D\n",
        "\n",
        "input_shape = (48, 48, 1)\n",
        "\n",
        "model = Sequential()\n",
        "\n",
        "model.add(Conv2D(filters=64,input_shape=(input_shape),kernel_size=(3,3),padding=\"same\", activation=\"relu\", kernel_initializer = glorot_uniform(seed=0)))\n",
        "model.add(BatchNormalization())\n",
        "model.add(Conv2D(filters=64,kernel_size=(3,3),padding=\"same\", activation=\"relu\", kernel_initializer = glorot_uniform(seed=0)))\n",
        "model.add(BatchNormalization())\n",
        "model.add(MaxPool2D(pool_size=(2,2),strides=(2,2)))\n",
        "model.add(Dropout(0.2))\n",
        "\n",
        "model.add(Conv2D(filters=128, kernel_size=(3,3), padding=\"same\", activation=\"relu\", kernel_initializer = glorot_uniform(seed=0)))\n",
        "model.add(BatchNormalization())\n",
        "model.add(Conv2D(filters=128, kernel_size=(3,3), padding=\"same\", activation=\"relu\", kernel_initializer = glorot_uniform(seed=0)))\n",
        "model.add(BatchNormalization())\n",
        "model.add(MaxPool2D(pool_size=(2,2),strides=(2,2)))\n",
        "model.add(Dropout(0.3))\n",
        "\n",
        "model.add(Conv2D(filters=256, kernel_size=(3,3), padding=\"same\", activation=\"relu\", kernel_initializer = glorot_uniform(seed=0)))\n",
        "model.add(BatchNormalization())\n",
        "model.add(Conv2D(filters=256, kernel_size=(3,3), padding=\"same\", activation=\"relu\", kernel_initializer = glorot_uniform(seed=0)))\n",
        "model.add(BatchNormalization())\n",
        "model.add(Conv2D(filters=256, kernel_size=(3,3), padding=\"same\", activation=\"relu\", kernel_initializer = glorot_uniform(seed=0)))\n",
        "model.add(BatchNormalization())\n",
        "model.add(MaxPool2D(pool_size=(2,2),strides=(2,2)))\n",
        "model.add(Dropout(0.4))\n",
        "\n",
        "model.add(Conv2D(filters=512, kernel_size=(3,3), padding=\"same\", activation=\"relu\", kernel_initializer = glorot_uniform(seed=0)))\n",
        "model.add(BatchNormalization())\n",
        "model.add(Conv2D(filters=512, kernel_size=(3,3), padding=\"same\", activation=\"relu\", kernel_initializer = glorot_uniform(seed=0)))\n",
        "model.add(BatchNormalization())\n",
        "model.add(Conv2D(filters=512, kernel_size=(3,3), padding=\"same\", activation=\"relu\", kernel_initializer = glorot_uniform(seed=0)))\n",
        "model.add(BatchNormalization())\n",
        "model.add(MaxPool2D(pool_size=(2,2),strides=(2,2)))\n",
        "model.add(Dropout(0.5))\n",
        "\n",
        "model.add(Conv2D(filters=512, kernel_size=(3,3), padding=\"same\", activation=\"relu\", kernel_initializer = glorot_uniform(seed=0)))\n",
        "model.add(BatchNormalization())\n",
        "model.add(Conv2D(filters=512, kernel_size=(3,3), padding=\"same\", activation=\"relu\", kernel_initializer = glorot_uniform(seed=0)))\n",
        "model.add(BatchNormalization())\n",
        "model.add(Conv2D(filters=512, kernel_size=(3,3), padding=\"same\", activation=\"relu\", kernel_initializer = glorot_uniform(seed=0)))\n",
        "model.add(BatchNormalization())\n",
        "model.add(MaxPool2D(pool_size=(2,2),strides=(2,2)))\n",
        "model.add(Dropout(0.6))\n",
        "\n",
        "#model.add(Flatten())\n",
        "model.add(GlobalAveragePooling2D())\n",
        "\n",
        "model.add(Dense(4096,activation='relu'))\n",
        "model.add(Dropout(0.5))\n",
        "model.add(Dense(1024,activation='relu'))\n",
        "model.add(Dropout(0.5))\n",
        "\n",
        "model.add(Dense(units=num_classes, activation='softmax'))\n",
        "\n",
        "# print the model summary\n",
        "model.summary()"
      ],
      "execution_count": 13,
      "outputs": [
        {
          "output_type": "stream",
          "text": [
            "Model: \"sequential\"\n",
            "_________________________________________________________________\n",
            "Layer (type)                 Output Shape              Param #   \n",
            "=================================================================\n",
            "conv2d (Conv2D)              (None, 48, 48, 64)        640       \n",
            "_________________________________________________________________\n",
            "batch_normalization (BatchNo (None, 48, 48, 64)        256       \n",
            "_________________________________________________________________\n",
            "conv2d_1 (Conv2D)            (None, 48, 48, 64)        36928     \n",
            "_________________________________________________________________\n",
            "batch_normalization_1 (Batch (None, 48, 48, 64)        256       \n",
            "_________________________________________________________________\n",
            "max_pooling2d (MaxPooling2D) (None, 24, 24, 64)        0         \n",
            "_________________________________________________________________\n",
            "dropout (Dropout)            (None, 24, 24, 64)        0         \n",
            "_________________________________________________________________\n",
            "conv2d_2 (Conv2D)            (None, 24, 24, 128)       73856     \n",
            "_________________________________________________________________\n",
            "batch_normalization_2 (Batch (None, 24, 24, 128)       512       \n",
            "_________________________________________________________________\n",
            "conv2d_3 (Conv2D)            (None, 24, 24, 128)       147584    \n",
            "_________________________________________________________________\n",
            "batch_normalization_3 (Batch (None, 24, 24, 128)       512       \n",
            "_________________________________________________________________\n",
            "max_pooling2d_1 (MaxPooling2 (None, 12, 12, 128)       0         \n",
            "_________________________________________________________________\n",
            "dropout_1 (Dropout)          (None, 12, 12, 128)       0         \n",
            "_________________________________________________________________\n",
            "conv2d_4 (Conv2D)            (None, 12, 12, 256)       295168    \n",
            "_________________________________________________________________\n",
            "batch_normalization_4 (Batch (None, 12, 12, 256)       1024      \n",
            "_________________________________________________________________\n",
            "conv2d_5 (Conv2D)            (None, 12, 12, 256)       590080    \n",
            "_________________________________________________________________\n",
            "batch_normalization_5 (Batch (None, 12, 12, 256)       1024      \n",
            "_________________________________________________________________\n",
            "conv2d_6 (Conv2D)            (None, 12, 12, 256)       590080    \n",
            "_________________________________________________________________\n",
            "batch_normalization_6 (Batch (None, 12, 12, 256)       1024      \n",
            "_________________________________________________________________\n",
            "max_pooling2d_2 (MaxPooling2 (None, 6, 6, 256)         0         \n",
            "_________________________________________________________________\n",
            "dropout_2 (Dropout)          (None, 6, 6, 256)         0         \n",
            "_________________________________________________________________\n",
            "conv2d_7 (Conv2D)            (None, 6, 6, 512)         1180160   \n",
            "_________________________________________________________________\n",
            "batch_normalization_7 (Batch (None, 6, 6, 512)         2048      \n",
            "_________________________________________________________________\n",
            "conv2d_8 (Conv2D)            (None, 6, 6, 512)         2359808   \n",
            "_________________________________________________________________\n",
            "batch_normalization_8 (Batch (None, 6, 6, 512)         2048      \n",
            "_________________________________________________________________\n",
            "conv2d_9 (Conv2D)            (None, 6, 6, 512)         2359808   \n",
            "_________________________________________________________________\n",
            "batch_normalization_9 (Batch (None, 6, 6, 512)         2048      \n",
            "_________________________________________________________________\n",
            "max_pooling2d_3 (MaxPooling2 (None, 3, 3, 512)         0         \n",
            "_________________________________________________________________\n",
            "dropout_3 (Dropout)          (None, 3, 3, 512)         0         \n",
            "_________________________________________________________________\n",
            "conv2d_10 (Conv2D)           (None, 3, 3, 512)         2359808   \n",
            "_________________________________________________________________\n",
            "batch_normalization_10 (Batc (None, 3, 3, 512)         2048      \n",
            "_________________________________________________________________\n",
            "conv2d_11 (Conv2D)           (None, 3, 3, 512)         2359808   \n",
            "_________________________________________________________________\n",
            "batch_normalization_11 (Batc (None, 3, 3, 512)         2048      \n",
            "_________________________________________________________________\n",
            "conv2d_12 (Conv2D)           (None, 3, 3, 512)         2359808   \n",
            "_________________________________________________________________\n",
            "batch_normalization_12 (Batc (None, 3, 3, 512)         2048      \n",
            "_________________________________________________________________\n",
            "max_pooling2d_4 (MaxPooling2 (None, 1, 1, 512)         0         \n",
            "_________________________________________________________________\n",
            "dropout_4 (Dropout)          (None, 1, 1, 512)         0         \n",
            "_________________________________________________________________\n",
            "global_average_pooling2d (Gl (None, 512)               0         \n",
            "_________________________________________________________________\n",
            "dense (Dense)                (None, 4096)              2101248   \n",
            "_________________________________________________________________\n",
            "dropout_5 (Dropout)          (None, 4096)              0         \n",
            "_________________________________________________________________\n",
            "dense_1 (Dense)              (None, 1024)              4195328   \n",
            "_________________________________________________________________\n",
            "dropout_6 (Dropout)          (None, 1024)              0         \n",
            "_________________________________________________________________\n",
            "dense_2 (Dense)              (None, 7)                 7175      \n",
            "=================================================================\n",
            "Total params: 21,034,183\n",
            "Trainable params: 21,025,735\n",
            "Non-trainable params: 8,448\n",
            "_________________________________________________________________\n"
          ],
          "name": "stdout"
        }
      ]
    },
    {
      "cell_type": "code",
      "metadata": {
        "id": "0S679DUacsgI"
      },
      "source": [
        "#save plot model to file\n",
        "from keras.utils.vis_utils import plot_model\n",
        "plot_model(model, to_file=\"model_4.png\", show_shapes=True, show_layer_names=False)"
      ],
      "execution_count": null,
      "outputs": []
    },
    {
      "cell_type": "code",
      "metadata": {
        "id": "LhxgJX3brul-"
      },
      "source": [
        "#compile model\n",
        "from keras.optimizers import Adam,SGD,RMSprop\n",
        "\n",
        "opt = Adam(learning_rate=0.0009)\n",
        "model.compile(loss='categorical_cross
